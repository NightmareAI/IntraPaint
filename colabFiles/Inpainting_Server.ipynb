{
  "nbformat": 4,
  "nbformat_minor": 0,
  "metadata": {
    "colab": {
      "name": "Inpainting backend server.ipynb",
      "provenance": [],
      "collapsed_sections": [],
      "authorship_tag": "ABX9TyOX8Hdf6HuzdXG/A+LrkyEx",
      "include_colab_link": true
    },
    "kernelspec": {
      "name": "python3",
      "display_name": "Python 3"
    },
    "language_info": {
      "name": "python"
    },
    "accelerator": "GPU",
    "gpuClass": "standard",
    "widgets": {
      "application/vnd.jupyter.widget-state+json": {
        "435b8804c91e4bf6ab6d0c4a3e59e254": {
          "model_module": "@jupyter-widgets/controls",
          "model_name": "HBoxModel",
          "model_module_version": "1.5.0",
          "state": {
            "_dom_classes": [],
            "_model_module": "@jupyter-widgets/controls",
            "_model_module_version": "1.5.0",
            "_model_name": "HBoxModel",
            "_view_count": null,
            "_view_module": "@jupyter-widgets/controls",
            "_view_module_version": "1.5.0",
            "_view_name": "HBoxView",
            "box_style": "",
            "children": [
              "IPY_MODEL_90387b5856b1471c8c517de7ca1e22c1",
              "IPY_MODEL_5151a4ae8eb64a16b5232b3ee6e8395b",
              "IPY_MODEL_27ecdaf0bce44a4ebfa2ec8f11b51bac"
            ],
            "layout": "IPY_MODEL_4187bbe176414ba1952184dc2a7f2c5a"
          }
        },
        "90387b5856b1471c8c517de7ca1e22c1": {
          "model_module": "@jupyter-widgets/controls",
          "model_name": "HTMLModel",
          "model_module_version": "1.5.0",
          "state": {
            "_dom_classes": [],
            "_model_module": "@jupyter-widgets/controls",
            "_model_module_version": "1.5.0",
            "_model_name": "HTMLModel",
            "_view_count": null,
            "_view_module": "@jupyter-widgets/controls",
            "_view_module_version": "1.5.0",
            "_view_name": "HTMLView",
            "description": "",
            "description_tooltip": null,
            "layout": "IPY_MODEL_e78475e378fd487cac592c44c9341795",
            "placeholder": "​",
            "style": "IPY_MODEL_4bf2a227ce284c8c821dc29b8060382b",
            "value": "Downloading: 100%"
          }
        },
        "5151a4ae8eb64a16b5232b3ee6e8395b": {
          "model_module": "@jupyter-widgets/controls",
          "model_name": "FloatProgressModel",
          "model_module_version": "1.5.0",
          "state": {
            "_dom_classes": [],
            "_model_module": "@jupyter-widgets/controls",
            "_model_module_version": "1.5.0",
            "_model_name": "FloatProgressModel",
            "_view_count": null,
            "_view_module": "@jupyter-widgets/controls",
            "_view_module_version": "1.5.0",
            "_view_name": "ProgressView",
            "bar_style": "success",
            "description": "",
            "description_tooltip": null,
            "layout": "IPY_MODEL_1075b147d48c4680953a060a2c4f73d7",
            "max": 28,
            "min": 0,
            "orientation": "horizontal",
            "style": "IPY_MODEL_caf2a54915b346079fa2be24f95dbd63",
            "value": 28
          }
        },
        "27ecdaf0bce44a4ebfa2ec8f11b51bac": {
          "model_module": "@jupyter-widgets/controls",
          "model_name": "HTMLModel",
          "model_module_version": "1.5.0",
          "state": {
            "_dom_classes": [],
            "_model_module": "@jupyter-widgets/controls",
            "_model_module_version": "1.5.0",
            "_model_name": "HTMLModel",
            "_view_count": null,
            "_view_module": "@jupyter-widgets/controls",
            "_view_module_version": "1.5.0",
            "_view_name": "HTMLView",
            "description": "",
            "description_tooltip": null,
            "layout": "IPY_MODEL_85c2678910fb4b26a199f1b982961d4f",
            "placeholder": "​",
            "style": "IPY_MODEL_7726d7c430cb4358a9cfc2814fc2aad7",
            "value": " 28.0/28.0 [00:00&lt;00:00, 719B/s]"
          }
        },
        "4187bbe176414ba1952184dc2a7f2c5a": {
          "model_module": "@jupyter-widgets/base",
          "model_name": "LayoutModel",
          "model_module_version": "1.2.0",
          "state": {
            "_model_module": "@jupyter-widgets/base",
            "_model_module_version": "1.2.0",
            "_model_name": "LayoutModel",
            "_view_count": null,
            "_view_module": "@jupyter-widgets/base",
            "_view_module_version": "1.2.0",
            "_view_name": "LayoutView",
            "align_content": null,
            "align_items": null,
            "align_self": null,
            "border": null,
            "bottom": null,
            "display": null,
            "flex": null,
            "flex_flow": null,
            "grid_area": null,
            "grid_auto_columns": null,
            "grid_auto_flow": null,
            "grid_auto_rows": null,
            "grid_column": null,
            "grid_gap": null,
            "grid_row": null,
            "grid_template_areas": null,
            "grid_template_columns": null,
            "grid_template_rows": null,
            "height": null,
            "justify_content": null,
            "justify_items": null,
            "left": null,
            "margin": null,
            "max_height": null,
            "max_width": null,
            "min_height": null,
            "min_width": null,
            "object_fit": null,
            "object_position": null,
            "order": null,
            "overflow": null,
            "overflow_x": null,
            "overflow_y": null,
            "padding": null,
            "right": null,
            "top": null,
            "visibility": null,
            "width": null
          }
        },
        "e78475e378fd487cac592c44c9341795": {
          "model_module": "@jupyter-widgets/base",
          "model_name": "LayoutModel",
          "model_module_version": "1.2.0",
          "state": {
            "_model_module": "@jupyter-widgets/base",
            "_model_module_version": "1.2.0",
            "_model_name": "LayoutModel",
            "_view_count": null,
            "_view_module": "@jupyter-widgets/base",
            "_view_module_version": "1.2.0",
            "_view_name": "LayoutView",
            "align_content": null,
            "align_items": null,
            "align_self": null,
            "border": null,
            "bottom": null,
            "display": null,
            "flex": null,
            "flex_flow": null,
            "grid_area": null,
            "grid_auto_columns": null,
            "grid_auto_flow": null,
            "grid_auto_rows": null,
            "grid_column": null,
            "grid_gap": null,
            "grid_row": null,
            "grid_template_areas": null,
            "grid_template_columns": null,
            "grid_template_rows": null,
            "height": null,
            "justify_content": null,
            "justify_items": null,
            "left": null,
            "margin": null,
            "max_height": null,
            "max_width": null,
            "min_height": null,
            "min_width": null,
            "object_fit": null,
            "object_position": null,
            "order": null,
            "overflow": null,
            "overflow_x": null,
            "overflow_y": null,
            "padding": null,
            "right": null,
            "top": null,
            "visibility": null,
            "width": null
          }
        },
        "4bf2a227ce284c8c821dc29b8060382b": {
          "model_module": "@jupyter-widgets/controls",
          "model_name": "DescriptionStyleModel",
          "model_module_version": "1.5.0",
          "state": {
            "_model_module": "@jupyter-widgets/controls",
            "_model_module_version": "1.5.0",
            "_model_name": "DescriptionStyleModel",
            "_view_count": null,
            "_view_module": "@jupyter-widgets/base",
            "_view_module_version": "1.2.0",
            "_view_name": "StyleView",
            "description_width": ""
          }
        },
        "1075b147d48c4680953a060a2c4f73d7": {
          "model_module": "@jupyter-widgets/base",
          "model_name": "LayoutModel",
          "model_module_version": "1.2.0",
          "state": {
            "_model_module": "@jupyter-widgets/base",
            "_model_module_version": "1.2.0",
            "_model_name": "LayoutModel",
            "_view_count": null,
            "_view_module": "@jupyter-widgets/base",
            "_view_module_version": "1.2.0",
            "_view_name": "LayoutView",
            "align_content": null,
            "align_items": null,
            "align_self": null,
            "border": null,
            "bottom": null,
            "display": null,
            "flex": null,
            "flex_flow": null,
            "grid_area": null,
            "grid_auto_columns": null,
            "grid_auto_flow": null,
            "grid_auto_rows": null,
            "grid_column": null,
            "grid_gap": null,
            "grid_row": null,
            "grid_template_areas": null,
            "grid_template_columns": null,
            "grid_template_rows": null,
            "height": null,
            "justify_content": null,
            "justify_items": null,
            "left": null,
            "margin": null,
            "max_height": null,
            "max_width": null,
            "min_height": null,
            "min_width": null,
            "object_fit": null,
            "object_position": null,
            "order": null,
            "overflow": null,
            "overflow_x": null,
            "overflow_y": null,
            "padding": null,
            "right": null,
            "top": null,
            "visibility": null,
            "width": null
          }
        },
        "caf2a54915b346079fa2be24f95dbd63": {
          "model_module": "@jupyter-widgets/controls",
          "model_name": "ProgressStyleModel",
          "model_module_version": "1.5.0",
          "state": {
            "_model_module": "@jupyter-widgets/controls",
            "_model_module_version": "1.5.0",
            "_model_name": "ProgressStyleModel",
            "_view_count": null,
            "_view_module": "@jupyter-widgets/base",
            "_view_module_version": "1.2.0",
            "_view_name": "StyleView",
            "bar_color": null,
            "description_width": ""
          }
        },
        "85c2678910fb4b26a199f1b982961d4f": {
          "model_module": "@jupyter-widgets/base",
          "model_name": "LayoutModel",
          "model_module_version": "1.2.0",
          "state": {
            "_model_module": "@jupyter-widgets/base",
            "_model_module_version": "1.2.0",
            "_model_name": "LayoutModel",
            "_view_count": null,
            "_view_module": "@jupyter-widgets/base",
            "_view_module_version": "1.2.0",
            "_view_name": "LayoutView",
            "align_content": null,
            "align_items": null,
            "align_self": null,
            "border": null,
            "bottom": null,
            "display": null,
            "flex": null,
            "flex_flow": null,
            "grid_area": null,
            "grid_auto_columns": null,
            "grid_auto_flow": null,
            "grid_auto_rows": null,
            "grid_column": null,
            "grid_gap": null,
            "grid_row": null,
            "grid_template_areas": null,
            "grid_template_columns": null,
            "grid_template_rows": null,
            "height": null,
            "justify_content": null,
            "justify_items": null,
            "left": null,
            "margin": null,
            "max_height": null,
            "max_width": null,
            "min_height": null,
            "min_width": null,
            "object_fit": null,
            "object_position": null,
            "order": null,
            "overflow": null,
            "overflow_x": null,
            "overflow_y": null,
            "padding": null,
            "right": null,
            "top": null,
            "visibility": null,
            "width": null
          }
        },
        "7726d7c430cb4358a9cfc2814fc2aad7": {
          "model_module": "@jupyter-widgets/controls",
          "model_name": "DescriptionStyleModel",
          "model_module_version": "1.5.0",
          "state": {
            "_model_module": "@jupyter-widgets/controls",
            "_model_module_version": "1.5.0",
            "_model_name": "DescriptionStyleModel",
            "_view_count": null,
            "_view_module": "@jupyter-widgets/base",
            "_view_module_version": "1.2.0",
            "_view_name": "StyleView",
            "description_width": ""
          }
        },
        "a9f473c8892b45f999b61b7364141ca7": {
          "model_module": "@jupyter-widgets/controls",
          "model_name": "HBoxModel",
          "model_module_version": "1.5.0",
          "state": {
            "_dom_classes": [],
            "_model_module": "@jupyter-widgets/controls",
            "_model_module_version": "1.5.0",
            "_model_name": "HBoxModel",
            "_view_count": null,
            "_view_module": "@jupyter-widgets/controls",
            "_view_module_version": "1.5.0",
            "_view_name": "HBoxView",
            "box_style": "",
            "children": [
              "IPY_MODEL_6a547a4160e94ca2b51f8d72fa7f13f2",
              "IPY_MODEL_805f5abc8dee49b486374a9004841590",
              "IPY_MODEL_455372b277f84e51b7653e9e99e8672c"
            ],
            "layout": "IPY_MODEL_184efe166edd4254a8baf6133c32e8c9"
          }
        },
        "6a547a4160e94ca2b51f8d72fa7f13f2": {
          "model_module": "@jupyter-widgets/controls",
          "model_name": "HTMLModel",
          "model_module_version": "1.5.0",
          "state": {
            "_dom_classes": [],
            "_model_module": "@jupyter-widgets/controls",
            "_model_module_version": "1.5.0",
            "_model_name": "HTMLModel",
            "_view_count": null,
            "_view_module": "@jupyter-widgets/controls",
            "_view_module_version": "1.5.0",
            "_view_name": "HTMLView",
            "description": "",
            "description_tooltip": null,
            "layout": "IPY_MODEL_caf3fd2bac60469cb12cc7adb8bae834",
            "placeholder": "​",
            "style": "IPY_MODEL_633f379d7ded43fca1964b90f9e33348",
            "value": "Downloading: 100%"
          }
        },
        "805f5abc8dee49b486374a9004841590": {
          "model_module": "@jupyter-widgets/controls",
          "model_name": "FloatProgressModel",
          "model_module_version": "1.5.0",
          "state": {
            "_dom_classes": [],
            "_model_module": "@jupyter-widgets/controls",
            "_model_module_version": "1.5.0",
            "_model_name": "FloatProgressModel",
            "_view_count": null,
            "_view_module": "@jupyter-widgets/controls",
            "_view_module_version": "1.5.0",
            "_view_name": "ProgressView",
            "bar_style": "success",
            "description": "",
            "description_tooltip": null,
            "layout": "IPY_MODEL_9c6b05712a7f4c41bdd417c4099b1914",
            "max": 231508,
            "min": 0,
            "orientation": "horizontal",
            "style": "IPY_MODEL_e01cd2ce021d4fe4890c655b1c3def13",
            "value": 231508
          }
        },
        "455372b277f84e51b7653e9e99e8672c": {
          "model_module": "@jupyter-widgets/controls",
          "model_name": "HTMLModel",
          "model_module_version": "1.5.0",
          "state": {
            "_dom_classes": [],
            "_model_module": "@jupyter-widgets/controls",
            "_model_module_version": "1.5.0",
            "_model_name": "HTMLModel",
            "_view_count": null,
            "_view_module": "@jupyter-widgets/controls",
            "_view_module_version": "1.5.0",
            "_view_name": "HTMLView",
            "description": "",
            "description_tooltip": null,
            "layout": "IPY_MODEL_bb094d8cd04a4582a41d5f965f9fde7a",
            "placeholder": "​",
            "style": "IPY_MODEL_832b29f214854f66825d5a9efa6009bd",
            "value": " 226k/226k [00:00&lt;00:00, 895kB/s]"
          }
        },
        "184efe166edd4254a8baf6133c32e8c9": {
          "model_module": "@jupyter-widgets/base",
          "model_name": "LayoutModel",
          "model_module_version": "1.2.0",
          "state": {
            "_model_module": "@jupyter-widgets/base",
            "_model_module_version": "1.2.0",
            "_model_name": "LayoutModel",
            "_view_count": null,
            "_view_module": "@jupyter-widgets/base",
            "_view_module_version": "1.2.0",
            "_view_name": "LayoutView",
            "align_content": null,
            "align_items": null,
            "align_self": null,
            "border": null,
            "bottom": null,
            "display": null,
            "flex": null,
            "flex_flow": null,
            "grid_area": null,
            "grid_auto_columns": null,
            "grid_auto_flow": null,
            "grid_auto_rows": null,
            "grid_column": null,
            "grid_gap": null,
            "grid_row": null,
            "grid_template_areas": null,
            "grid_template_columns": null,
            "grid_template_rows": null,
            "height": null,
            "justify_content": null,
            "justify_items": null,
            "left": null,
            "margin": null,
            "max_height": null,
            "max_width": null,
            "min_height": null,
            "min_width": null,
            "object_fit": null,
            "object_position": null,
            "order": null,
            "overflow": null,
            "overflow_x": null,
            "overflow_y": null,
            "padding": null,
            "right": null,
            "top": null,
            "visibility": null,
            "width": null
          }
        },
        "caf3fd2bac60469cb12cc7adb8bae834": {
          "model_module": "@jupyter-widgets/base",
          "model_name": "LayoutModel",
          "model_module_version": "1.2.0",
          "state": {
            "_model_module": "@jupyter-widgets/base",
            "_model_module_version": "1.2.0",
            "_model_name": "LayoutModel",
            "_view_count": null,
            "_view_module": "@jupyter-widgets/base",
            "_view_module_version": "1.2.0",
            "_view_name": "LayoutView",
            "align_content": null,
            "align_items": null,
            "align_self": null,
            "border": null,
            "bottom": null,
            "display": null,
            "flex": null,
            "flex_flow": null,
            "grid_area": null,
            "grid_auto_columns": null,
            "grid_auto_flow": null,
            "grid_auto_rows": null,
            "grid_column": null,
            "grid_gap": null,
            "grid_row": null,
            "grid_template_areas": null,
            "grid_template_columns": null,
            "grid_template_rows": null,
            "height": null,
            "justify_content": null,
            "justify_items": null,
            "left": null,
            "margin": null,
            "max_height": null,
            "max_width": null,
            "min_height": null,
            "min_width": null,
            "object_fit": null,
            "object_position": null,
            "order": null,
            "overflow": null,
            "overflow_x": null,
            "overflow_y": null,
            "padding": null,
            "right": null,
            "top": null,
            "visibility": null,
            "width": null
          }
        },
        "633f379d7ded43fca1964b90f9e33348": {
          "model_module": "@jupyter-widgets/controls",
          "model_name": "DescriptionStyleModel",
          "model_module_version": "1.5.0",
          "state": {
            "_model_module": "@jupyter-widgets/controls",
            "_model_module_version": "1.5.0",
            "_model_name": "DescriptionStyleModel",
            "_view_count": null,
            "_view_module": "@jupyter-widgets/base",
            "_view_module_version": "1.2.0",
            "_view_name": "StyleView",
            "description_width": ""
          }
        },
        "9c6b05712a7f4c41bdd417c4099b1914": {
          "model_module": "@jupyter-widgets/base",
          "model_name": "LayoutModel",
          "model_module_version": "1.2.0",
          "state": {
            "_model_module": "@jupyter-widgets/base",
            "_model_module_version": "1.2.0",
            "_model_name": "LayoutModel",
            "_view_count": null,
            "_view_module": "@jupyter-widgets/base",
            "_view_module_version": "1.2.0",
            "_view_name": "LayoutView",
            "align_content": null,
            "align_items": null,
            "align_self": null,
            "border": null,
            "bottom": null,
            "display": null,
            "flex": null,
            "flex_flow": null,
            "grid_area": null,
            "grid_auto_columns": null,
            "grid_auto_flow": null,
            "grid_auto_rows": null,
            "grid_column": null,
            "grid_gap": null,
            "grid_row": null,
            "grid_template_areas": null,
            "grid_template_columns": null,
            "grid_template_rows": null,
            "height": null,
            "justify_content": null,
            "justify_items": null,
            "left": null,
            "margin": null,
            "max_height": null,
            "max_width": null,
            "min_height": null,
            "min_width": null,
            "object_fit": null,
            "object_position": null,
            "order": null,
            "overflow": null,
            "overflow_x": null,
            "overflow_y": null,
            "padding": null,
            "right": null,
            "top": null,
            "visibility": null,
            "width": null
          }
        },
        "e01cd2ce021d4fe4890c655b1c3def13": {
          "model_module": "@jupyter-widgets/controls",
          "model_name": "ProgressStyleModel",
          "model_module_version": "1.5.0",
          "state": {
            "_model_module": "@jupyter-widgets/controls",
            "_model_module_version": "1.5.0",
            "_model_name": "ProgressStyleModel",
            "_view_count": null,
            "_view_module": "@jupyter-widgets/base",
            "_view_module_version": "1.2.0",
            "_view_name": "StyleView",
            "bar_color": null,
            "description_width": ""
          }
        },
        "bb094d8cd04a4582a41d5f965f9fde7a": {
          "model_module": "@jupyter-widgets/base",
          "model_name": "LayoutModel",
          "model_module_version": "1.2.0",
          "state": {
            "_model_module": "@jupyter-widgets/base",
            "_model_module_version": "1.2.0",
            "_model_name": "LayoutModel",
            "_view_count": null,
            "_view_module": "@jupyter-widgets/base",
            "_view_module_version": "1.2.0",
            "_view_name": "LayoutView",
            "align_content": null,
            "align_items": null,
            "align_self": null,
            "border": null,
            "bottom": null,
            "display": null,
            "flex": null,
            "flex_flow": null,
            "grid_area": null,
            "grid_auto_columns": null,
            "grid_auto_flow": null,
            "grid_auto_rows": null,
            "grid_column": null,
            "grid_gap": null,
            "grid_row": null,
            "grid_template_areas": null,
            "grid_template_columns": null,
            "grid_template_rows": null,
            "height": null,
            "justify_content": null,
            "justify_items": null,
            "left": null,
            "margin": null,
            "max_height": null,
            "max_width": null,
            "min_height": null,
            "min_width": null,
            "object_fit": null,
            "object_position": null,
            "order": null,
            "overflow": null,
            "overflow_x": null,
            "overflow_y": null,
            "padding": null,
            "right": null,
            "top": null,
            "visibility": null,
            "width": null
          }
        },
        "832b29f214854f66825d5a9efa6009bd": {
          "model_module": "@jupyter-widgets/controls",
          "model_name": "DescriptionStyleModel",
          "model_module_version": "1.5.0",
          "state": {
            "_model_module": "@jupyter-widgets/controls",
            "_model_module_version": "1.5.0",
            "_model_name": "DescriptionStyleModel",
            "_view_count": null,
            "_view_module": "@jupyter-widgets/base",
            "_view_module_version": "1.2.0",
            "_view_name": "StyleView",
            "description_width": ""
          }
        },
        "cacd1cb1ab004719b434c3aa300523d1": {
          "model_module": "@jupyter-widgets/controls",
          "model_name": "HBoxModel",
          "model_module_version": "1.5.0",
          "state": {
            "_dom_classes": [],
            "_model_module": "@jupyter-widgets/controls",
            "_model_module_version": "1.5.0",
            "_model_name": "HBoxModel",
            "_view_count": null,
            "_view_module": "@jupyter-widgets/controls",
            "_view_module_version": "1.5.0",
            "_view_name": "HBoxView",
            "box_style": "",
            "children": [
              "IPY_MODEL_2704649b14ec46f88f1285e1b1331720",
              "IPY_MODEL_0de9886f9a5c423db6f833d4ae565427",
              "IPY_MODEL_203fa6b34b754f0a951492de705efb95"
            ],
            "layout": "IPY_MODEL_1744b8cfb4cd4f99813a9c62e432c966"
          }
        },
        "2704649b14ec46f88f1285e1b1331720": {
          "model_module": "@jupyter-widgets/controls",
          "model_name": "HTMLModel",
          "model_module_version": "1.5.0",
          "state": {
            "_dom_classes": [],
            "_model_module": "@jupyter-widgets/controls",
            "_model_module_version": "1.5.0",
            "_model_name": "HTMLModel",
            "_view_count": null,
            "_view_module": "@jupyter-widgets/controls",
            "_view_module_version": "1.5.0",
            "_view_name": "HTMLView",
            "description": "",
            "description_tooltip": null,
            "layout": "IPY_MODEL_3ae464ba17d54350912a8a9afde98baf",
            "placeholder": "​",
            "style": "IPY_MODEL_c256c163d2374bb68d6b7b0585fa4171",
            "value": "Downloading: 100%"
          }
        },
        "0de9886f9a5c423db6f833d4ae565427": {
          "model_module": "@jupyter-widgets/controls",
          "model_name": "FloatProgressModel",
          "model_module_version": "1.5.0",
          "state": {
            "_dom_classes": [],
            "_model_module": "@jupyter-widgets/controls",
            "_model_module_version": "1.5.0",
            "_model_name": "FloatProgressModel",
            "_view_count": null,
            "_view_module": "@jupyter-widgets/controls",
            "_view_module_version": "1.5.0",
            "_view_name": "ProgressView",
            "bar_style": "success",
            "description": "",
            "description_tooltip": null,
            "layout": "IPY_MODEL_d0f1abbeefe74b59930ce58fa5a92405",
            "max": 466062,
            "min": 0,
            "orientation": "horizontal",
            "style": "IPY_MODEL_59385ff65fe24f8cb9eed5ca10143afd",
            "value": 466062
          }
        },
        "203fa6b34b754f0a951492de705efb95": {
          "model_module": "@jupyter-widgets/controls",
          "model_name": "HTMLModel",
          "model_module_version": "1.5.0",
          "state": {
            "_dom_classes": [],
            "_model_module": "@jupyter-widgets/controls",
            "_model_module_version": "1.5.0",
            "_model_name": "HTMLModel",
            "_view_count": null,
            "_view_module": "@jupyter-widgets/controls",
            "_view_module_version": "1.5.0",
            "_view_name": "HTMLView",
            "description": "",
            "description_tooltip": null,
            "layout": "IPY_MODEL_c0e12b27d07f407fa964e402458405d1",
            "placeholder": "​",
            "style": "IPY_MODEL_6b441e05af9d40588c088d02753e7872",
            "value": " 455k/455k [00:00&lt;00:00, 941kB/s]"
          }
        },
        "1744b8cfb4cd4f99813a9c62e432c966": {
          "model_module": "@jupyter-widgets/base",
          "model_name": "LayoutModel",
          "model_module_version": "1.2.0",
          "state": {
            "_model_module": "@jupyter-widgets/base",
            "_model_module_version": "1.2.0",
            "_model_name": "LayoutModel",
            "_view_count": null,
            "_view_module": "@jupyter-widgets/base",
            "_view_module_version": "1.2.0",
            "_view_name": "LayoutView",
            "align_content": null,
            "align_items": null,
            "align_self": null,
            "border": null,
            "bottom": null,
            "display": null,
            "flex": null,
            "flex_flow": null,
            "grid_area": null,
            "grid_auto_columns": null,
            "grid_auto_flow": null,
            "grid_auto_rows": null,
            "grid_column": null,
            "grid_gap": null,
            "grid_row": null,
            "grid_template_areas": null,
            "grid_template_columns": null,
            "grid_template_rows": null,
            "height": null,
            "justify_content": null,
            "justify_items": null,
            "left": null,
            "margin": null,
            "max_height": null,
            "max_width": null,
            "min_height": null,
            "min_width": null,
            "object_fit": null,
            "object_position": null,
            "order": null,
            "overflow": null,
            "overflow_x": null,
            "overflow_y": null,
            "padding": null,
            "right": null,
            "top": null,
            "visibility": null,
            "width": null
          }
        },
        "3ae464ba17d54350912a8a9afde98baf": {
          "model_module": "@jupyter-widgets/base",
          "model_name": "LayoutModel",
          "model_module_version": "1.2.0",
          "state": {
            "_model_module": "@jupyter-widgets/base",
            "_model_module_version": "1.2.0",
            "_model_name": "LayoutModel",
            "_view_count": null,
            "_view_module": "@jupyter-widgets/base",
            "_view_module_version": "1.2.0",
            "_view_name": "LayoutView",
            "align_content": null,
            "align_items": null,
            "align_self": null,
            "border": null,
            "bottom": null,
            "display": null,
            "flex": null,
            "flex_flow": null,
            "grid_area": null,
            "grid_auto_columns": null,
            "grid_auto_flow": null,
            "grid_auto_rows": null,
            "grid_column": null,
            "grid_gap": null,
            "grid_row": null,
            "grid_template_areas": null,
            "grid_template_columns": null,
            "grid_template_rows": null,
            "height": null,
            "justify_content": null,
            "justify_items": null,
            "left": null,
            "margin": null,
            "max_height": null,
            "max_width": null,
            "min_height": null,
            "min_width": null,
            "object_fit": null,
            "object_position": null,
            "order": null,
            "overflow": null,
            "overflow_x": null,
            "overflow_y": null,
            "padding": null,
            "right": null,
            "top": null,
            "visibility": null,
            "width": null
          }
        },
        "c256c163d2374bb68d6b7b0585fa4171": {
          "model_module": "@jupyter-widgets/controls",
          "model_name": "DescriptionStyleModel",
          "model_module_version": "1.5.0",
          "state": {
            "_model_module": "@jupyter-widgets/controls",
            "_model_module_version": "1.5.0",
            "_model_name": "DescriptionStyleModel",
            "_view_count": null,
            "_view_module": "@jupyter-widgets/base",
            "_view_module_version": "1.2.0",
            "_view_name": "StyleView",
            "description_width": ""
          }
        },
        "d0f1abbeefe74b59930ce58fa5a92405": {
          "model_module": "@jupyter-widgets/base",
          "model_name": "LayoutModel",
          "model_module_version": "1.2.0",
          "state": {
            "_model_module": "@jupyter-widgets/base",
            "_model_module_version": "1.2.0",
            "_model_name": "LayoutModel",
            "_view_count": null,
            "_view_module": "@jupyter-widgets/base",
            "_view_module_version": "1.2.0",
            "_view_name": "LayoutView",
            "align_content": null,
            "align_items": null,
            "align_self": null,
            "border": null,
            "bottom": null,
            "display": null,
            "flex": null,
            "flex_flow": null,
            "grid_area": null,
            "grid_auto_columns": null,
            "grid_auto_flow": null,
            "grid_auto_rows": null,
            "grid_column": null,
            "grid_gap": null,
            "grid_row": null,
            "grid_template_areas": null,
            "grid_template_columns": null,
            "grid_template_rows": null,
            "height": null,
            "justify_content": null,
            "justify_items": null,
            "left": null,
            "margin": null,
            "max_height": null,
            "max_width": null,
            "min_height": null,
            "min_width": null,
            "object_fit": null,
            "object_position": null,
            "order": null,
            "overflow": null,
            "overflow_x": null,
            "overflow_y": null,
            "padding": null,
            "right": null,
            "top": null,
            "visibility": null,
            "width": null
          }
        },
        "59385ff65fe24f8cb9eed5ca10143afd": {
          "model_module": "@jupyter-widgets/controls",
          "model_name": "ProgressStyleModel",
          "model_module_version": "1.5.0",
          "state": {
            "_model_module": "@jupyter-widgets/controls",
            "_model_module_version": "1.5.0",
            "_model_name": "ProgressStyleModel",
            "_view_count": null,
            "_view_module": "@jupyter-widgets/base",
            "_view_module_version": "1.2.0",
            "_view_name": "StyleView",
            "bar_color": null,
            "description_width": ""
          }
        },
        "c0e12b27d07f407fa964e402458405d1": {
          "model_module": "@jupyter-widgets/base",
          "model_name": "LayoutModel",
          "model_module_version": "1.2.0",
          "state": {
            "_model_module": "@jupyter-widgets/base",
            "_model_module_version": "1.2.0",
            "_model_name": "LayoutModel",
            "_view_count": null,
            "_view_module": "@jupyter-widgets/base",
            "_view_module_version": "1.2.0",
            "_view_name": "LayoutView",
            "align_content": null,
            "align_items": null,
            "align_self": null,
            "border": null,
            "bottom": null,
            "display": null,
            "flex": null,
            "flex_flow": null,
            "grid_area": null,
            "grid_auto_columns": null,
            "grid_auto_flow": null,
            "grid_auto_rows": null,
            "grid_column": null,
            "grid_gap": null,
            "grid_row": null,
            "grid_template_areas": null,
            "grid_template_columns": null,
            "grid_template_rows": null,
            "height": null,
            "justify_content": null,
            "justify_items": null,
            "left": null,
            "margin": null,
            "max_height": null,
            "max_width": null,
            "min_height": null,
            "min_width": null,
            "object_fit": null,
            "object_position": null,
            "order": null,
            "overflow": null,
            "overflow_x": null,
            "overflow_y": null,
            "padding": null,
            "right": null,
            "top": null,
            "visibility": null,
            "width": null
          }
        },
        "6b441e05af9d40588c088d02753e7872": {
          "model_module": "@jupyter-widgets/controls",
          "model_name": "DescriptionStyleModel",
          "model_module_version": "1.5.0",
          "state": {
            "_model_module": "@jupyter-widgets/controls",
            "_model_module_version": "1.5.0",
            "_model_name": "DescriptionStyleModel",
            "_view_count": null,
            "_view_module": "@jupyter-widgets/base",
            "_view_module_version": "1.2.0",
            "_view_name": "StyleView",
            "description_width": ""
          }
        },
        "8618f48e088c4950860e4eb99a1c0859": {
          "model_module": "@jupyter-widgets/controls",
          "model_name": "HBoxModel",
          "model_module_version": "1.5.0",
          "state": {
            "_dom_classes": [],
            "_model_module": "@jupyter-widgets/controls",
            "_model_module_version": "1.5.0",
            "_model_name": "HBoxModel",
            "_view_count": null,
            "_view_module": "@jupyter-widgets/controls",
            "_view_module_version": "1.5.0",
            "_view_name": "HBoxView",
            "box_style": "",
            "children": [
              "IPY_MODEL_b72c52f006a54a0aac70a2991e411210",
              "IPY_MODEL_0893ba68ce024cff8ec49aa619537816",
              "IPY_MODEL_3f31450e503941589044aa74a9d4dbb7"
            ],
            "layout": "IPY_MODEL_c3dc25811dd844e5ad3fd2f0fda9de0a"
          }
        },
        "b72c52f006a54a0aac70a2991e411210": {
          "model_module": "@jupyter-widgets/controls",
          "model_name": "HTMLModel",
          "model_module_version": "1.5.0",
          "state": {
            "_dom_classes": [],
            "_model_module": "@jupyter-widgets/controls",
            "_model_module_version": "1.5.0",
            "_model_name": "HTMLModel",
            "_view_count": null,
            "_view_module": "@jupyter-widgets/controls",
            "_view_module_version": "1.5.0",
            "_view_name": "HTMLView",
            "description": "",
            "description_tooltip": null,
            "layout": "IPY_MODEL_5f92945fe21940cb8f1033bc17ff8fd5",
            "placeholder": "​",
            "style": "IPY_MODEL_c8bfb821d61a4a0c98dd94924a0451c3",
            "value": "Downloading: 100%"
          }
        },
        "0893ba68ce024cff8ec49aa619537816": {
          "model_module": "@jupyter-widgets/controls",
          "model_name": "FloatProgressModel",
          "model_module_version": "1.5.0",
          "state": {
            "_dom_classes": [],
            "_model_module": "@jupyter-widgets/controls",
            "_model_module_version": "1.5.0",
            "_model_name": "FloatProgressModel",
            "_view_count": null,
            "_view_module": "@jupyter-widgets/controls",
            "_view_module_version": "1.5.0",
            "_view_name": "ProgressView",
            "bar_style": "success",
            "description": "",
            "description_tooltip": null,
            "layout": "IPY_MODEL_0fedfda36f1d4aeb8ac622a4ea050eb6",
            "max": 570,
            "min": 0,
            "orientation": "horizontal",
            "style": "IPY_MODEL_7e6734b6333344f8bbfc0360668c52f3",
            "value": 570
          }
        },
        "3f31450e503941589044aa74a9d4dbb7": {
          "model_module": "@jupyter-widgets/controls",
          "model_name": "HTMLModel",
          "model_module_version": "1.5.0",
          "state": {
            "_dom_classes": [],
            "_model_module": "@jupyter-widgets/controls",
            "_model_module_version": "1.5.0",
            "_model_name": "HTMLModel",
            "_view_count": null,
            "_view_module": "@jupyter-widgets/controls",
            "_view_module_version": "1.5.0",
            "_view_name": "HTMLView",
            "description": "",
            "description_tooltip": null,
            "layout": "IPY_MODEL_b037be6c58444574a04a6ebb1a14322f",
            "placeholder": "​",
            "style": "IPY_MODEL_983c26ad7c104413b3d36b66fa97f0fd",
            "value": " 570/570 [00:00&lt;00:00, 18.3kB/s]"
          }
        },
        "c3dc25811dd844e5ad3fd2f0fda9de0a": {
          "model_module": "@jupyter-widgets/base",
          "model_name": "LayoutModel",
          "model_module_version": "1.2.0",
          "state": {
            "_model_module": "@jupyter-widgets/base",
            "_model_module_version": "1.2.0",
            "_model_name": "LayoutModel",
            "_view_count": null,
            "_view_module": "@jupyter-widgets/base",
            "_view_module_version": "1.2.0",
            "_view_name": "LayoutView",
            "align_content": null,
            "align_items": null,
            "align_self": null,
            "border": null,
            "bottom": null,
            "display": null,
            "flex": null,
            "flex_flow": null,
            "grid_area": null,
            "grid_auto_columns": null,
            "grid_auto_flow": null,
            "grid_auto_rows": null,
            "grid_column": null,
            "grid_gap": null,
            "grid_row": null,
            "grid_template_areas": null,
            "grid_template_columns": null,
            "grid_template_rows": null,
            "height": null,
            "justify_content": null,
            "justify_items": null,
            "left": null,
            "margin": null,
            "max_height": null,
            "max_width": null,
            "min_height": null,
            "min_width": null,
            "object_fit": null,
            "object_position": null,
            "order": null,
            "overflow": null,
            "overflow_x": null,
            "overflow_y": null,
            "padding": null,
            "right": null,
            "top": null,
            "visibility": null,
            "width": null
          }
        },
        "5f92945fe21940cb8f1033bc17ff8fd5": {
          "model_module": "@jupyter-widgets/base",
          "model_name": "LayoutModel",
          "model_module_version": "1.2.0",
          "state": {
            "_model_module": "@jupyter-widgets/base",
            "_model_module_version": "1.2.0",
            "_model_name": "LayoutModel",
            "_view_count": null,
            "_view_module": "@jupyter-widgets/base",
            "_view_module_version": "1.2.0",
            "_view_name": "LayoutView",
            "align_content": null,
            "align_items": null,
            "align_self": null,
            "border": null,
            "bottom": null,
            "display": null,
            "flex": null,
            "flex_flow": null,
            "grid_area": null,
            "grid_auto_columns": null,
            "grid_auto_flow": null,
            "grid_auto_rows": null,
            "grid_column": null,
            "grid_gap": null,
            "grid_row": null,
            "grid_template_areas": null,
            "grid_template_columns": null,
            "grid_template_rows": null,
            "height": null,
            "justify_content": null,
            "justify_items": null,
            "left": null,
            "margin": null,
            "max_height": null,
            "max_width": null,
            "min_height": null,
            "min_width": null,
            "object_fit": null,
            "object_position": null,
            "order": null,
            "overflow": null,
            "overflow_x": null,
            "overflow_y": null,
            "padding": null,
            "right": null,
            "top": null,
            "visibility": null,
            "width": null
          }
        },
        "c8bfb821d61a4a0c98dd94924a0451c3": {
          "model_module": "@jupyter-widgets/controls",
          "model_name": "DescriptionStyleModel",
          "model_module_version": "1.5.0",
          "state": {
            "_model_module": "@jupyter-widgets/controls",
            "_model_module_version": "1.5.0",
            "_model_name": "DescriptionStyleModel",
            "_view_count": null,
            "_view_module": "@jupyter-widgets/base",
            "_view_module_version": "1.2.0",
            "_view_name": "StyleView",
            "description_width": ""
          }
        },
        "0fedfda36f1d4aeb8ac622a4ea050eb6": {
          "model_module": "@jupyter-widgets/base",
          "model_name": "LayoutModel",
          "model_module_version": "1.2.0",
          "state": {
            "_model_module": "@jupyter-widgets/base",
            "_model_module_version": "1.2.0",
            "_model_name": "LayoutModel",
            "_view_count": null,
            "_view_module": "@jupyter-widgets/base",
            "_view_module_version": "1.2.0",
            "_view_name": "LayoutView",
            "align_content": null,
            "align_items": null,
            "align_self": null,
            "border": null,
            "bottom": null,
            "display": null,
            "flex": null,
            "flex_flow": null,
            "grid_area": null,
            "grid_auto_columns": null,
            "grid_auto_flow": null,
            "grid_auto_rows": null,
            "grid_column": null,
            "grid_gap": null,
            "grid_row": null,
            "grid_template_areas": null,
            "grid_template_columns": null,
            "grid_template_rows": null,
            "height": null,
            "justify_content": null,
            "justify_items": null,
            "left": null,
            "margin": null,
            "max_height": null,
            "max_width": null,
            "min_height": null,
            "min_width": null,
            "object_fit": null,
            "object_position": null,
            "order": null,
            "overflow": null,
            "overflow_x": null,
            "overflow_y": null,
            "padding": null,
            "right": null,
            "top": null,
            "visibility": null,
            "width": null
          }
        },
        "7e6734b6333344f8bbfc0360668c52f3": {
          "model_module": "@jupyter-widgets/controls",
          "model_name": "ProgressStyleModel",
          "model_module_version": "1.5.0",
          "state": {
            "_model_module": "@jupyter-widgets/controls",
            "_model_module_version": "1.5.0",
            "_model_name": "ProgressStyleModel",
            "_view_count": null,
            "_view_module": "@jupyter-widgets/base",
            "_view_module_version": "1.2.0",
            "_view_name": "StyleView",
            "bar_color": null,
            "description_width": ""
          }
        },
        "b037be6c58444574a04a6ebb1a14322f": {
          "model_module": "@jupyter-widgets/base",
          "model_name": "LayoutModel",
          "model_module_version": "1.2.0",
          "state": {
            "_model_module": "@jupyter-widgets/base",
            "_model_module_version": "1.2.0",
            "_model_name": "LayoutModel",
            "_view_count": null,
            "_view_module": "@jupyter-widgets/base",
            "_view_module_version": "1.2.0",
            "_view_name": "LayoutView",
            "align_content": null,
            "align_items": null,
            "align_self": null,
            "border": null,
            "bottom": null,
            "display": null,
            "flex": null,
            "flex_flow": null,
            "grid_area": null,
            "grid_auto_columns": null,
            "grid_auto_flow": null,
            "grid_auto_rows": null,
            "grid_column": null,
            "grid_gap": null,
            "grid_row": null,
            "grid_template_areas": null,
            "grid_template_columns": null,
            "grid_template_rows": null,
            "height": null,
            "justify_content": null,
            "justify_items": null,
            "left": null,
            "margin": null,
            "max_height": null,
            "max_width": null,
            "min_height": null,
            "min_width": null,
            "object_fit": null,
            "object_position": null,
            "order": null,
            "overflow": null,
            "overflow_x": null,
            "overflow_y": null,
            "padding": null,
            "right": null,
            "top": null,
            "visibility": null,
            "width": null
          }
        },
        "983c26ad7c104413b3d36b66fa97f0fd": {
          "model_module": "@jupyter-widgets/controls",
          "model_name": "DescriptionStyleModel",
          "model_module_version": "1.5.0",
          "state": {
            "_model_module": "@jupyter-widgets/controls",
            "_model_module_version": "1.5.0",
            "_model_name": "DescriptionStyleModel",
            "_view_count": null,
            "_view_module": "@jupyter-widgets/base",
            "_view_module_version": "1.2.0",
            "_view_name": "StyleView",
            "description_width": ""
          }
        },
        "c737e1169c94420a895ffdf281309532": {
          "model_module": "@jupyter-widgets/controls",
          "model_name": "HBoxModel",
          "model_module_version": "1.5.0",
          "state": {
            "_dom_classes": [],
            "_model_module": "@jupyter-widgets/controls",
            "_model_module_version": "1.5.0",
            "_model_name": "HBoxModel",
            "_view_count": null,
            "_view_module": "@jupyter-widgets/controls",
            "_view_module_version": "1.5.0",
            "_view_name": "HBoxView",
            "box_style": "",
            "children": [
              "IPY_MODEL_3e76e11dd22249129e8b941f259c2cf1",
              "IPY_MODEL_760cc3aa4d744dda9a93b219614a2e48",
              "IPY_MODEL_d10159f90ec54c7badb9a22b98d3df8a"
            ],
            "layout": "IPY_MODEL_6d4a37c7a4ea4cfaaf1cb23da8f5ba58"
          }
        },
        "3e76e11dd22249129e8b941f259c2cf1": {
          "model_module": "@jupyter-widgets/controls",
          "model_name": "HTMLModel",
          "model_module_version": "1.5.0",
          "state": {
            "_dom_classes": [],
            "_model_module": "@jupyter-widgets/controls",
            "_model_module_version": "1.5.0",
            "_model_name": "HTMLModel",
            "_view_count": null,
            "_view_module": "@jupyter-widgets/controls",
            "_view_module_version": "1.5.0",
            "_view_name": "HTMLView",
            "description": "",
            "description_tooltip": null,
            "layout": "IPY_MODEL_0bd8a53ad416460cbdf94cb6e88024f1",
            "placeholder": "​",
            "style": "IPY_MODEL_8ff35030bcb34ef5a9ae2df5a748009e",
            "value": "100%"
          }
        },
        "760cc3aa4d744dda9a93b219614a2e48": {
          "model_module": "@jupyter-widgets/controls",
          "model_name": "FloatProgressModel",
          "model_module_version": "1.5.0",
          "state": {
            "_dom_classes": [],
            "_model_module": "@jupyter-widgets/controls",
            "_model_module_version": "1.5.0",
            "_model_name": "FloatProgressModel",
            "_view_count": null,
            "_view_module": "@jupyter-widgets/controls",
            "_view_module_version": "1.5.0",
            "_view_name": "ProgressView",
            "bar_style": "success",
            "description": "",
            "description_tooltip": null,
            "layout": "IPY_MODEL_fc9b67659f9749a7af1b4ddcb55dc8c0",
            "max": 27,
            "min": 0,
            "orientation": "horizontal",
            "style": "IPY_MODEL_e9432063fd764b9bac737ecaadf4165f",
            "value": 27
          }
        },
        "d10159f90ec54c7badb9a22b98d3df8a": {
          "model_module": "@jupyter-widgets/controls",
          "model_name": "HTMLModel",
          "model_module_version": "1.5.0",
          "state": {
            "_dom_classes": [],
            "_model_module": "@jupyter-widgets/controls",
            "_model_module_version": "1.5.0",
            "_model_name": "HTMLModel",
            "_view_count": null,
            "_view_module": "@jupyter-widgets/controls",
            "_view_module_version": "1.5.0",
            "_view_name": "HTMLView",
            "description": "",
            "description_tooltip": null,
            "layout": "IPY_MODEL_1e24bb5f736e42b1a2ca592c86c68036",
            "placeholder": "​",
            "style": "IPY_MODEL_06a9807de64e4721ac98f839ad587917",
            "value": " 27/27 [00:23&lt;00:00,  1.39it/s]"
          }
        },
        "6d4a37c7a4ea4cfaaf1cb23da8f5ba58": {
          "model_module": "@jupyter-widgets/base",
          "model_name": "LayoutModel",
          "model_module_version": "1.2.0",
          "state": {
            "_model_module": "@jupyter-widgets/base",
            "_model_module_version": "1.2.0",
            "_model_name": "LayoutModel",
            "_view_count": null,
            "_view_module": "@jupyter-widgets/base",
            "_view_module_version": "1.2.0",
            "_view_name": "LayoutView",
            "align_content": null,
            "align_items": null,
            "align_self": null,
            "border": null,
            "bottom": null,
            "display": null,
            "flex": null,
            "flex_flow": null,
            "grid_area": null,
            "grid_auto_columns": null,
            "grid_auto_flow": null,
            "grid_auto_rows": null,
            "grid_column": null,
            "grid_gap": null,
            "grid_row": null,
            "grid_template_areas": null,
            "grid_template_columns": null,
            "grid_template_rows": null,
            "height": null,
            "justify_content": null,
            "justify_items": null,
            "left": null,
            "margin": null,
            "max_height": null,
            "max_width": null,
            "min_height": null,
            "min_width": null,
            "object_fit": null,
            "object_position": null,
            "order": null,
            "overflow": null,
            "overflow_x": null,
            "overflow_y": null,
            "padding": null,
            "right": null,
            "top": null,
            "visibility": null,
            "width": null
          }
        },
        "0bd8a53ad416460cbdf94cb6e88024f1": {
          "model_module": "@jupyter-widgets/base",
          "model_name": "LayoutModel",
          "model_module_version": "1.2.0",
          "state": {
            "_model_module": "@jupyter-widgets/base",
            "_model_module_version": "1.2.0",
            "_model_name": "LayoutModel",
            "_view_count": null,
            "_view_module": "@jupyter-widgets/base",
            "_view_module_version": "1.2.0",
            "_view_name": "LayoutView",
            "align_content": null,
            "align_items": null,
            "align_self": null,
            "border": null,
            "bottom": null,
            "display": null,
            "flex": null,
            "flex_flow": null,
            "grid_area": null,
            "grid_auto_columns": null,
            "grid_auto_flow": null,
            "grid_auto_rows": null,
            "grid_column": null,
            "grid_gap": null,
            "grid_row": null,
            "grid_template_areas": null,
            "grid_template_columns": null,
            "grid_template_rows": null,
            "height": null,
            "justify_content": null,
            "justify_items": null,
            "left": null,
            "margin": null,
            "max_height": null,
            "max_width": null,
            "min_height": null,
            "min_width": null,
            "object_fit": null,
            "object_position": null,
            "order": null,
            "overflow": null,
            "overflow_x": null,
            "overflow_y": null,
            "padding": null,
            "right": null,
            "top": null,
            "visibility": null,
            "width": null
          }
        },
        "8ff35030bcb34ef5a9ae2df5a748009e": {
          "model_module": "@jupyter-widgets/controls",
          "model_name": "DescriptionStyleModel",
          "model_module_version": "1.5.0",
          "state": {
            "_model_module": "@jupyter-widgets/controls",
            "_model_module_version": "1.5.0",
            "_model_name": "DescriptionStyleModel",
            "_view_count": null,
            "_view_module": "@jupyter-widgets/base",
            "_view_module_version": "1.2.0",
            "_view_name": "StyleView",
            "description_width": ""
          }
        },
        "fc9b67659f9749a7af1b4ddcb55dc8c0": {
          "model_module": "@jupyter-widgets/base",
          "model_name": "LayoutModel",
          "model_module_version": "1.2.0",
          "state": {
            "_model_module": "@jupyter-widgets/base",
            "_model_module_version": "1.2.0",
            "_model_name": "LayoutModel",
            "_view_count": null,
            "_view_module": "@jupyter-widgets/base",
            "_view_module_version": "1.2.0",
            "_view_name": "LayoutView",
            "align_content": null,
            "align_items": null,
            "align_self": null,
            "border": null,
            "bottom": null,
            "display": null,
            "flex": null,
            "flex_flow": null,
            "grid_area": null,
            "grid_auto_columns": null,
            "grid_auto_flow": null,
            "grid_auto_rows": null,
            "grid_column": null,
            "grid_gap": null,
            "grid_row": null,
            "grid_template_areas": null,
            "grid_template_columns": null,
            "grid_template_rows": null,
            "height": null,
            "justify_content": null,
            "justify_items": null,
            "left": null,
            "margin": null,
            "max_height": null,
            "max_width": null,
            "min_height": null,
            "min_width": null,
            "object_fit": null,
            "object_position": null,
            "order": null,
            "overflow": null,
            "overflow_x": null,
            "overflow_y": null,
            "padding": null,
            "right": null,
            "top": null,
            "visibility": null,
            "width": null
          }
        },
        "e9432063fd764b9bac737ecaadf4165f": {
          "model_module": "@jupyter-widgets/controls",
          "model_name": "ProgressStyleModel",
          "model_module_version": "1.5.0",
          "state": {
            "_model_module": "@jupyter-widgets/controls",
            "_model_module_version": "1.5.0",
            "_model_name": "ProgressStyleModel",
            "_view_count": null,
            "_view_module": "@jupyter-widgets/base",
            "_view_module_version": "1.2.0",
            "_view_name": "StyleView",
            "bar_color": null,
            "description_width": ""
          }
        },
        "1e24bb5f736e42b1a2ca592c86c68036": {
          "model_module": "@jupyter-widgets/base",
          "model_name": "LayoutModel",
          "model_module_version": "1.2.0",
          "state": {
            "_model_module": "@jupyter-widgets/base",
            "_model_module_version": "1.2.0",
            "_model_name": "LayoutModel",
            "_view_count": null,
            "_view_module": "@jupyter-widgets/base",
            "_view_module_version": "1.2.0",
            "_view_name": "LayoutView",
            "align_content": null,
            "align_items": null,
            "align_self": null,
            "border": null,
            "bottom": null,
            "display": null,
            "flex": null,
            "flex_flow": null,
            "grid_area": null,
            "grid_auto_columns": null,
            "grid_auto_flow": null,
            "grid_auto_rows": null,
            "grid_column": null,
            "grid_gap": null,
            "grid_row": null,
            "grid_template_areas": null,
            "grid_template_columns": null,
            "grid_template_rows": null,
            "height": null,
            "justify_content": null,
            "justify_items": null,
            "left": null,
            "margin": null,
            "max_height": null,
            "max_width": null,
            "min_height": null,
            "min_width": null,
            "object_fit": null,
            "object_position": null,
            "order": null,
            "overflow": null,
            "overflow_x": null,
            "overflow_y": null,
            "padding": null,
            "right": null,
            "top": null,
            "visibility": null,
            "width": null
          }
        },
        "06a9807de64e4721ac98f839ad587917": {
          "model_module": "@jupyter-widgets/controls",
          "model_name": "DescriptionStyleModel",
          "model_module_version": "1.5.0",
          "state": {
            "_model_module": "@jupyter-widgets/controls",
            "_model_module_version": "1.5.0",
            "_model_name": "DescriptionStyleModel",
            "_view_count": null,
            "_view_module": "@jupyter-widgets/base",
            "_view_module_version": "1.2.0",
            "_view_name": "StyleView",
            "description_width": ""
          }
        },
        "1584071b343c41b993f6f85eb5652154": {
          "model_module": "@jupyter-widgets/controls",
          "model_name": "HBoxModel",
          "model_module_version": "1.5.0",
          "state": {
            "_dom_classes": [],
            "_model_module": "@jupyter-widgets/controls",
            "_model_module_version": "1.5.0",
            "_model_name": "HBoxModel",
            "_view_count": null,
            "_view_module": "@jupyter-widgets/controls",
            "_view_module_version": "1.5.0",
            "_view_name": "HBoxView",
            "box_style": "",
            "children": [
              "IPY_MODEL_6b7f3388de1b471687ec9fa19b474666",
              "IPY_MODEL_1d010df9bbc644f6bdf2aec112468a96",
              "IPY_MODEL_743f90cb965748e385768d97cf633b64"
            ],
            "layout": "IPY_MODEL_3e5a9e7fdcfd47d4aaf34c01f9bbd635"
          }
        },
        "6b7f3388de1b471687ec9fa19b474666": {
          "model_module": "@jupyter-widgets/controls",
          "model_name": "HTMLModel",
          "model_module_version": "1.5.0",
          "state": {
            "_dom_classes": [],
            "_model_module": "@jupyter-widgets/controls",
            "_model_module_version": "1.5.0",
            "_model_name": "HTMLModel",
            "_view_count": null,
            "_view_module": "@jupyter-widgets/controls",
            "_view_module_version": "1.5.0",
            "_view_name": "HTMLView",
            "description": "",
            "description_tooltip": null,
            "layout": "IPY_MODEL_39c4c06c0f9648b0b53286c803eeb0e9",
            "placeholder": "​",
            "style": "IPY_MODEL_35ed1061bd1b422bbb6b5c46c41600ed",
            "value": "100%"
          }
        },
        "1d010df9bbc644f6bdf2aec112468a96": {
          "model_module": "@jupyter-widgets/controls",
          "model_name": "FloatProgressModel",
          "model_module_version": "1.5.0",
          "state": {
            "_dom_classes": [],
            "_model_module": "@jupyter-widgets/controls",
            "_model_module_version": "1.5.0",
            "_model_name": "FloatProgressModel",
            "_view_count": null,
            "_view_module": "@jupyter-widgets/controls",
            "_view_module_version": "1.5.0",
            "_view_name": "ProgressView",
            "bar_style": "success",
            "description": "",
            "description_tooltip": null,
            "layout": "IPY_MODEL_bb4140fb691540fc86c9d5c983012903",
            "max": 27,
            "min": 0,
            "orientation": "horizontal",
            "style": "IPY_MODEL_76e444fef659419f9647b04e331ea7ed",
            "value": 27
          }
        },
        "743f90cb965748e385768d97cf633b64": {
          "model_module": "@jupyter-widgets/controls",
          "model_name": "HTMLModel",
          "model_module_version": "1.5.0",
          "state": {
            "_dom_classes": [],
            "_model_module": "@jupyter-widgets/controls",
            "_model_module_version": "1.5.0",
            "_model_name": "HTMLModel",
            "_view_count": null,
            "_view_module": "@jupyter-widgets/controls",
            "_view_module_version": "1.5.0",
            "_view_name": "HTMLView",
            "description": "",
            "description_tooltip": null,
            "layout": "IPY_MODEL_98b947c561d94b379b565e5a9b67ae2f",
            "placeholder": "​",
            "style": "IPY_MODEL_c51f7425d24b43998e14e4b628a7bca4",
            "value": " 27/27 [00:24&lt;00:00,  1.31it/s]"
          }
        },
        "3e5a9e7fdcfd47d4aaf34c01f9bbd635": {
          "model_module": "@jupyter-widgets/base",
          "model_name": "LayoutModel",
          "model_module_version": "1.2.0",
          "state": {
            "_model_module": "@jupyter-widgets/base",
            "_model_module_version": "1.2.0",
            "_model_name": "LayoutModel",
            "_view_count": null,
            "_view_module": "@jupyter-widgets/base",
            "_view_module_version": "1.2.0",
            "_view_name": "LayoutView",
            "align_content": null,
            "align_items": null,
            "align_self": null,
            "border": null,
            "bottom": null,
            "display": null,
            "flex": null,
            "flex_flow": null,
            "grid_area": null,
            "grid_auto_columns": null,
            "grid_auto_flow": null,
            "grid_auto_rows": null,
            "grid_column": null,
            "grid_gap": null,
            "grid_row": null,
            "grid_template_areas": null,
            "grid_template_columns": null,
            "grid_template_rows": null,
            "height": null,
            "justify_content": null,
            "justify_items": null,
            "left": null,
            "margin": null,
            "max_height": null,
            "max_width": null,
            "min_height": null,
            "min_width": null,
            "object_fit": null,
            "object_position": null,
            "order": null,
            "overflow": null,
            "overflow_x": null,
            "overflow_y": null,
            "padding": null,
            "right": null,
            "top": null,
            "visibility": null,
            "width": null
          }
        },
        "39c4c06c0f9648b0b53286c803eeb0e9": {
          "model_module": "@jupyter-widgets/base",
          "model_name": "LayoutModel",
          "model_module_version": "1.2.0",
          "state": {
            "_model_module": "@jupyter-widgets/base",
            "_model_module_version": "1.2.0",
            "_model_name": "LayoutModel",
            "_view_count": null,
            "_view_module": "@jupyter-widgets/base",
            "_view_module_version": "1.2.0",
            "_view_name": "LayoutView",
            "align_content": null,
            "align_items": null,
            "align_self": null,
            "border": null,
            "bottom": null,
            "display": null,
            "flex": null,
            "flex_flow": null,
            "grid_area": null,
            "grid_auto_columns": null,
            "grid_auto_flow": null,
            "grid_auto_rows": null,
            "grid_column": null,
            "grid_gap": null,
            "grid_row": null,
            "grid_template_areas": null,
            "grid_template_columns": null,
            "grid_template_rows": null,
            "height": null,
            "justify_content": null,
            "justify_items": null,
            "left": null,
            "margin": null,
            "max_height": null,
            "max_width": null,
            "min_height": null,
            "min_width": null,
            "object_fit": null,
            "object_position": null,
            "order": null,
            "overflow": null,
            "overflow_x": null,
            "overflow_y": null,
            "padding": null,
            "right": null,
            "top": null,
            "visibility": null,
            "width": null
          }
        },
        "35ed1061bd1b422bbb6b5c46c41600ed": {
          "model_module": "@jupyter-widgets/controls",
          "model_name": "DescriptionStyleModel",
          "model_module_version": "1.5.0",
          "state": {
            "_model_module": "@jupyter-widgets/controls",
            "_model_module_version": "1.5.0",
            "_model_name": "DescriptionStyleModel",
            "_view_count": null,
            "_view_module": "@jupyter-widgets/base",
            "_view_module_version": "1.2.0",
            "_view_name": "StyleView",
            "description_width": ""
          }
        },
        "bb4140fb691540fc86c9d5c983012903": {
          "model_module": "@jupyter-widgets/base",
          "model_name": "LayoutModel",
          "model_module_version": "1.2.0",
          "state": {
            "_model_module": "@jupyter-widgets/base",
            "_model_module_version": "1.2.0",
            "_model_name": "LayoutModel",
            "_view_count": null,
            "_view_module": "@jupyter-widgets/base",
            "_view_module_version": "1.2.0",
            "_view_name": "LayoutView",
            "align_content": null,
            "align_items": null,
            "align_self": null,
            "border": null,
            "bottom": null,
            "display": null,
            "flex": null,
            "flex_flow": null,
            "grid_area": null,
            "grid_auto_columns": null,
            "grid_auto_flow": null,
            "grid_auto_rows": null,
            "grid_column": null,
            "grid_gap": null,
            "grid_row": null,
            "grid_template_areas": null,
            "grid_template_columns": null,
            "grid_template_rows": null,
            "height": null,
            "justify_content": null,
            "justify_items": null,
            "left": null,
            "margin": null,
            "max_height": null,
            "max_width": null,
            "min_height": null,
            "min_width": null,
            "object_fit": null,
            "object_position": null,
            "order": null,
            "overflow": null,
            "overflow_x": null,
            "overflow_y": null,
            "padding": null,
            "right": null,
            "top": null,
            "visibility": null,
            "width": null
          }
        },
        "76e444fef659419f9647b04e331ea7ed": {
          "model_module": "@jupyter-widgets/controls",
          "model_name": "ProgressStyleModel",
          "model_module_version": "1.5.0",
          "state": {
            "_model_module": "@jupyter-widgets/controls",
            "_model_module_version": "1.5.0",
            "_model_name": "ProgressStyleModel",
            "_view_count": null,
            "_view_module": "@jupyter-widgets/base",
            "_view_module_version": "1.2.0",
            "_view_name": "StyleView",
            "bar_color": null,
            "description_width": ""
          }
        },
        "98b947c561d94b379b565e5a9b67ae2f": {
          "model_module": "@jupyter-widgets/base",
          "model_name": "LayoutModel",
          "model_module_version": "1.2.0",
          "state": {
            "_model_module": "@jupyter-widgets/base",
            "_model_module_version": "1.2.0",
            "_model_name": "LayoutModel",
            "_view_count": null,
            "_view_module": "@jupyter-widgets/base",
            "_view_module_version": "1.2.0",
            "_view_name": "LayoutView",
            "align_content": null,
            "align_items": null,
            "align_self": null,
            "border": null,
            "bottom": null,
            "display": null,
            "flex": null,
            "flex_flow": null,
            "grid_area": null,
            "grid_auto_columns": null,
            "grid_auto_flow": null,
            "grid_auto_rows": null,
            "grid_column": null,
            "grid_gap": null,
            "grid_row": null,
            "grid_template_areas": null,
            "grid_template_columns": null,
            "grid_template_rows": null,
            "height": null,
            "justify_content": null,
            "justify_items": null,
            "left": null,
            "margin": null,
            "max_height": null,
            "max_width": null,
            "min_height": null,
            "min_width": null,
            "object_fit": null,
            "object_position": null,
            "order": null,
            "overflow": null,
            "overflow_x": null,
            "overflow_y": null,
            "padding": null,
            "right": null,
            "top": null,
            "visibility": null,
            "width": null
          }
        },
        "c51f7425d24b43998e14e4b628a7bca4": {
          "model_module": "@jupyter-widgets/controls",
          "model_name": "DescriptionStyleModel",
          "model_module_version": "1.5.0",
          "state": {
            "_model_module": "@jupyter-widgets/controls",
            "_model_module_version": "1.5.0",
            "_model_name": "DescriptionStyleModel",
            "_view_count": null,
            "_view_module": "@jupyter-widgets/base",
            "_view_module_version": "1.2.0",
            "_view_name": "StyleView",
            "description_width": ""
          }
        },
        "378e20ffb3d5403086b834a3717452a5": {
          "model_module": "@jupyter-widgets/controls",
          "model_name": "HBoxModel",
          "model_module_version": "1.5.0",
          "state": {
            "_dom_classes": [],
            "_model_module": "@jupyter-widgets/controls",
            "_model_module_version": "1.5.0",
            "_model_name": "HBoxModel",
            "_view_count": null,
            "_view_module": "@jupyter-widgets/controls",
            "_view_module_version": "1.5.0",
            "_view_name": "HBoxView",
            "box_style": "",
            "children": [
              "IPY_MODEL_7a253ea7cf984abe855eaf80d2eb2c83",
              "IPY_MODEL_a12e5df7d1194443a88e56f56d26e62f",
              "IPY_MODEL_6a2cf59b9e314797949d322bba1a7d37"
            ],
            "layout": "IPY_MODEL_4350d9ff2e2f4c11831f50e448e4bb1b"
          }
        },
        "7a253ea7cf984abe855eaf80d2eb2c83": {
          "model_module": "@jupyter-widgets/controls",
          "model_name": "HTMLModel",
          "model_module_version": "1.5.0",
          "state": {
            "_dom_classes": [],
            "_model_module": "@jupyter-widgets/controls",
            "_model_module_version": "1.5.0",
            "_model_name": "HTMLModel",
            "_view_count": null,
            "_view_module": "@jupyter-widgets/controls",
            "_view_module_version": "1.5.0",
            "_view_name": "HTMLView",
            "description": "",
            "description_tooltip": null,
            "layout": "IPY_MODEL_160c9f60da974937a836578abc647bfe",
            "placeholder": "​",
            "style": "IPY_MODEL_7a364d5f196344d8a632239871b06adb",
            "value": "100%"
          }
        },
        "a12e5df7d1194443a88e56f56d26e62f": {
          "model_module": "@jupyter-widgets/controls",
          "model_name": "FloatProgressModel",
          "model_module_version": "1.5.0",
          "state": {
            "_dom_classes": [],
            "_model_module": "@jupyter-widgets/controls",
            "_model_module_version": "1.5.0",
            "_model_name": "FloatProgressModel",
            "_view_count": null,
            "_view_module": "@jupyter-widgets/controls",
            "_view_module_version": "1.5.0",
            "_view_name": "ProgressView",
            "bar_style": "success",
            "description": "",
            "description_tooltip": null,
            "layout": "IPY_MODEL_8341efa33a4f47b597471c7d34dc1c6d",
            "max": 27,
            "min": 0,
            "orientation": "horizontal",
            "style": "IPY_MODEL_719deca264244e978506e757b3fb6850",
            "value": 27
          }
        },
        "6a2cf59b9e314797949d322bba1a7d37": {
          "model_module": "@jupyter-widgets/controls",
          "model_name": "HTMLModel",
          "model_module_version": "1.5.0",
          "state": {
            "_dom_classes": [],
            "_model_module": "@jupyter-widgets/controls",
            "_model_module_version": "1.5.0",
            "_model_name": "HTMLModel",
            "_view_count": null,
            "_view_module": "@jupyter-widgets/controls",
            "_view_module_version": "1.5.0",
            "_view_name": "HTMLView",
            "description": "",
            "description_tooltip": null,
            "layout": "IPY_MODEL_03d16e054e954dd78d08cb508fc44a47",
            "placeholder": "​",
            "style": "IPY_MODEL_b1c6bcd5a7e74145b76554640056a6fb",
            "value": " 27/27 [00:11&lt;00:00,  2.91it/s]"
          }
        },
        "4350d9ff2e2f4c11831f50e448e4bb1b": {
          "model_module": "@jupyter-widgets/base",
          "model_name": "LayoutModel",
          "model_module_version": "1.2.0",
          "state": {
            "_model_module": "@jupyter-widgets/base",
            "_model_module_version": "1.2.0",
            "_model_name": "LayoutModel",
            "_view_count": null,
            "_view_module": "@jupyter-widgets/base",
            "_view_module_version": "1.2.0",
            "_view_name": "LayoutView",
            "align_content": null,
            "align_items": null,
            "align_self": null,
            "border": null,
            "bottom": null,
            "display": null,
            "flex": null,
            "flex_flow": null,
            "grid_area": null,
            "grid_auto_columns": null,
            "grid_auto_flow": null,
            "grid_auto_rows": null,
            "grid_column": null,
            "grid_gap": null,
            "grid_row": null,
            "grid_template_areas": null,
            "grid_template_columns": null,
            "grid_template_rows": null,
            "height": null,
            "justify_content": null,
            "justify_items": null,
            "left": null,
            "margin": null,
            "max_height": null,
            "max_width": null,
            "min_height": null,
            "min_width": null,
            "object_fit": null,
            "object_position": null,
            "order": null,
            "overflow": null,
            "overflow_x": null,
            "overflow_y": null,
            "padding": null,
            "right": null,
            "top": null,
            "visibility": null,
            "width": null
          }
        },
        "160c9f60da974937a836578abc647bfe": {
          "model_module": "@jupyter-widgets/base",
          "model_name": "LayoutModel",
          "model_module_version": "1.2.0",
          "state": {
            "_model_module": "@jupyter-widgets/base",
            "_model_module_version": "1.2.0",
            "_model_name": "LayoutModel",
            "_view_count": null,
            "_view_module": "@jupyter-widgets/base",
            "_view_module_version": "1.2.0",
            "_view_name": "LayoutView",
            "align_content": null,
            "align_items": null,
            "align_self": null,
            "border": null,
            "bottom": null,
            "display": null,
            "flex": null,
            "flex_flow": null,
            "grid_area": null,
            "grid_auto_columns": null,
            "grid_auto_flow": null,
            "grid_auto_rows": null,
            "grid_column": null,
            "grid_gap": null,
            "grid_row": null,
            "grid_template_areas": null,
            "grid_template_columns": null,
            "grid_template_rows": null,
            "height": null,
            "justify_content": null,
            "justify_items": null,
            "left": null,
            "margin": null,
            "max_height": null,
            "max_width": null,
            "min_height": null,
            "min_width": null,
            "object_fit": null,
            "object_position": null,
            "order": null,
            "overflow": null,
            "overflow_x": null,
            "overflow_y": null,
            "padding": null,
            "right": null,
            "top": null,
            "visibility": null,
            "width": null
          }
        },
        "7a364d5f196344d8a632239871b06adb": {
          "model_module": "@jupyter-widgets/controls",
          "model_name": "DescriptionStyleModel",
          "model_module_version": "1.5.0",
          "state": {
            "_model_module": "@jupyter-widgets/controls",
            "_model_module_version": "1.5.0",
            "_model_name": "DescriptionStyleModel",
            "_view_count": null,
            "_view_module": "@jupyter-widgets/base",
            "_view_module_version": "1.2.0",
            "_view_name": "StyleView",
            "description_width": ""
          }
        },
        "8341efa33a4f47b597471c7d34dc1c6d": {
          "model_module": "@jupyter-widgets/base",
          "model_name": "LayoutModel",
          "model_module_version": "1.2.0",
          "state": {
            "_model_module": "@jupyter-widgets/base",
            "_model_module_version": "1.2.0",
            "_model_name": "LayoutModel",
            "_view_count": null,
            "_view_module": "@jupyter-widgets/base",
            "_view_module_version": "1.2.0",
            "_view_name": "LayoutView",
            "align_content": null,
            "align_items": null,
            "align_self": null,
            "border": null,
            "bottom": null,
            "display": null,
            "flex": null,
            "flex_flow": null,
            "grid_area": null,
            "grid_auto_columns": null,
            "grid_auto_flow": null,
            "grid_auto_rows": null,
            "grid_column": null,
            "grid_gap": null,
            "grid_row": null,
            "grid_template_areas": null,
            "grid_template_columns": null,
            "grid_template_rows": null,
            "height": null,
            "justify_content": null,
            "justify_items": null,
            "left": null,
            "margin": null,
            "max_height": null,
            "max_width": null,
            "min_height": null,
            "min_width": null,
            "object_fit": null,
            "object_position": null,
            "order": null,
            "overflow": null,
            "overflow_x": null,
            "overflow_y": null,
            "padding": null,
            "right": null,
            "top": null,
            "visibility": null,
            "width": null
          }
        },
        "719deca264244e978506e757b3fb6850": {
          "model_module": "@jupyter-widgets/controls",
          "model_name": "ProgressStyleModel",
          "model_module_version": "1.5.0",
          "state": {
            "_model_module": "@jupyter-widgets/controls",
            "_model_module_version": "1.5.0",
            "_model_name": "ProgressStyleModel",
            "_view_count": null,
            "_view_module": "@jupyter-widgets/base",
            "_view_module_version": "1.2.0",
            "_view_name": "StyleView",
            "bar_color": null,
            "description_width": ""
          }
        },
        "03d16e054e954dd78d08cb508fc44a47": {
          "model_module": "@jupyter-widgets/base",
          "model_name": "LayoutModel",
          "model_module_version": "1.2.0",
          "state": {
            "_model_module": "@jupyter-widgets/base",
            "_model_module_version": "1.2.0",
            "_model_name": "LayoutModel",
            "_view_count": null,
            "_view_module": "@jupyter-widgets/base",
            "_view_module_version": "1.2.0",
            "_view_name": "LayoutView",
            "align_content": null,
            "align_items": null,
            "align_self": null,
            "border": null,
            "bottom": null,
            "display": null,
            "flex": null,
            "flex_flow": null,
            "grid_area": null,
            "grid_auto_columns": null,
            "grid_auto_flow": null,
            "grid_auto_rows": null,
            "grid_column": null,
            "grid_gap": null,
            "grid_row": null,
            "grid_template_areas": null,
            "grid_template_columns": null,
            "grid_template_rows": null,
            "height": null,
            "justify_content": null,
            "justify_items": null,
            "left": null,
            "margin": null,
            "max_height": null,
            "max_width": null,
            "min_height": null,
            "min_width": null,
            "object_fit": null,
            "object_position": null,
            "order": null,
            "overflow": null,
            "overflow_x": null,
            "overflow_y": null,
            "padding": null,
            "right": null,
            "top": null,
            "visibility": null,
            "width": null
          }
        },
        "b1c6bcd5a7e74145b76554640056a6fb": {
          "model_module": "@jupyter-widgets/controls",
          "model_name": "DescriptionStyleModel",
          "model_module_version": "1.5.0",
          "state": {
            "_model_module": "@jupyter-widgets/controls",
            "_model_module_version": "1.5.0",
            "_model_name": "DescriptionStyleModel",
            "_view_count": null,
            "_view_module": "@jupyter-widgets/base",
            "_view_module_version": "1.2.0",
            "_view_name": "StyleView",
            "description_width": ""
          }
        },
        "1b61d7f560c6420694933294468c4ac3": {
          "model_module": "@jupyter-widgets/controls",
          "model_name": "HBoxModel",
          "model_module_version": "1.5.0",
          "state": {
            "_dom_classes": [],
            "_model_module": "@jupyter-widgets/controls",
            "_model_module_version": "1.5.0",
            "_model_name": "HBoxModel",
            "_view_count": null,
            "_view_module": "@jupyter-widgets/controls",
            "_view_module_version": "1.5.0",
            "_view_name": "HBoxView",
            "box_style": "",
            "children": [
              "IPY_MODEL_8b4108655ef24bc89b5becf611da8bef",
              "IPY_MODEL_730caf91a338450a890c7cf8b332d97a",
              "IPY_MODEL_7e5a03e6c8784b5e8772e5537c6d4364"
            ],
            "layout": "IPY_MODEL_0899e17963654511ab371eadd90a8145"
          }
        },
        "8b4108655ef24bc89b5becf611da8bef": {
          "model_module": "@jupyter-widgets/controls",
          "model_name": "HTMLModel",
          "model_module_version": "1.5.0",
          "state": {
            "_dom_classes": [],
            "_model_module": "@jupyter-widgets/controls",
            "_model_module_version": "1.5.0",
            "_model_name": "HTMLModel",
            "_view_count": null,
            "_view_module": "@jupyter-widgets/controls",
            "_view_module_version": "1.5.0",
            "_view_name": "HTMLView",
            "description": "",
            "description_tooltip": null,
            "layout": "IPY_MODEL_288878061e2e40fdaa1bb38eaa1856b9",
            "placeholder": "​",
            "style": "IPY_MODEL_318179cfb8d14ca89b686b226b81a9d2",
            "value": "100%"
          }
        },
        "730caf91a338450a890c7cf8b332d97a": {
          "model_module": "@jupyter-widgets/controls",
          "model_name": "FloatProgressModel",
          "model_module_version": "1.5.0",
          "state": {
            "_dom_classes": [],
            "_model_module": "@jupyter-widgets/controls",
            "_model_module_version": "1.5.0",
            "_model_name": "FloatProgressModel",
            "_view_count": null,
            "_view_module": "@jupyter-widgets/controls",
            "_view_module_version": "1.5.0",
            "_view_name": "ProgressView",
            "bar_style": "success",
            "description": "",
            "description_tooltip": null,
            "layout": "IPY_MODEL_de0cce5b2ef34f31aa14d3bf7c83476e",
            "max": 27,
            "min": 0,
            "orientation": "horizontal",
            "style": "IPY_MODEL_ad72f0e06c5f4009bca3efd4b8532e45",
            "value": 27
          }
        },
        "7e5a03e6c8784b5e8772e5537c6d4364": {
          "model_module": "@jupyter-widgets/controls",
          "model_name": "HTMLModel",
          "model_module_version": "1.5.0",
          "state": {
            "_dom_classes": [],
            "_model_module": "@jupyter-widgets/controls",
            "_model_module_version": "1.5.0",
            "_model_name": "HTMLModel",
            "_view_count": null,
            "_view_module": "@jupyter-widgets/controls",
            "_view_module_version": "1.5.0",
            "_view_name": "HTMLView",
            "description": "",
            "description_tooltip": null,
            "layout": "IPY_MODEL_153c035adbbf40b5ad01e5db8f2ae76a",
            "placeholder": "​",
            "style": "IPY_MODEL_b52591f3c38541db9f31773d42fd351b",
            "value": " 27/27 [00:11&lt;00:00,  2.82it/s]"
          }
        },
        "0899e17963654511ab371eadd90a8145": {
          "model_module": "@jupyter-widgets/base",
          "model_name": "LayoutModel",
          "model_module_version": "1.2.0",
          "state": {
            "_model_module": "@jupyter-widgets/base",
            "_model_module_version": "1.2.0",
            "_model_name": "LayoutModel",
            "_view_count": null,
            "_view_module": "@jupyter-widgets/base",
            "_view_module_version": "1.2.0",
            "_view_name": "LayoutView",
            "align_content": null,
            "align_items": null,
            "align_self": null,
            "border": null,
            "bottom": null,
            "display": null,
            "flex": null,
            "flex_flow": null,
            "grid_area": null,
            "grid_auto_columns": null,
            "grid_auto_flow": null,
            "grid_auto_rows": null,
            "grid_column": null,
            "grid_gap": null,
            "grid_row": null,
            "grid_template_areas": null,
            "grid_template_columns": null,
            "grid_template_rows": null,
            "height": null,
            "justify_content": null,
            "justify_items": null,
            "left": null,
            "margin": null,
            "max_height": null,
            "max_width": null,
            "min_height": null,
            "min_width": null,
            "object_fit": null,
            "object_position": null,
            "order": null,
            "overflow": null,
            "overflow_x": null,
            "overflow_y": null,
            "padding": null,
            "right": null,
            "top": null,
            "visibility": null,
            "width": null
          }
        },
        "288878061e2e40fdaa1bb38eaa1856b9": {
          "model_module": "@jupyter-widgets/base",
          "model_name": "LayoutModel",
          "model_module_version": "1.2.0",
          "state": {
            "_model_module": "@jupyter-widgets/base",
            "_model_module_version": "1.2.0",
            "_model_name": "LayoutModel",
            "_view_count": null,
            "_view_module": "@jupyter-widgets/base",
            "_view_module_version": "1.2.0",
            "_view_name": "LayoutView",
            "align_content": null,
            "align_items": null,
            "align_self": null,
            "border": null,
            "bottom": null,
            "display": null,
            "flex": null,
            "flex_flow": null,
            "grid_area": null,
            "grid_auto_columns": null,
            "grid_auto_flow": null,
            "grid_auto_rows": null,
            "grid_column": null,
            "grid_gap": null,
            "grid_row": null,
            "grid_template_areas": null,
            "grid_template_columns": null,
            "grid_template_rows": null,
            "height": null,
            "justify_content": null,
            "justify_items": null,
            "left": null,
            "margin": null,
            "max_height": null,
            "max_width": null,
            "min_height": null,
            "min_width": null,
            "object_fit": null,
            "object_position": null,
            "order": null,
            "overflow": null,
            "overflow_x": null,
            "overflow_y": null,
            "padding": null,
            "right": null,
            "top": null,
            "visibility": null,
            "width": null
          }
        },
        "318179cfb8d14ca89b686b226b81a9d2": {
          "model_module": "@jupyter-widgets/controls",
          "model_name": "DescriptionStyleModel",
          "model_module_version": "1.5.0",
          "state": {
            "_model_module": "@jupyter-widgets/controls",
            "_model_module_version": "1.5.0",
            "_model_name": "DescriptionStyleModel",
            "_view_count": null,
            "_view_module": "@jupyter-widgets/base",
            "_view_module_version": "1.2.0",
            "_view_name": "StyleView",
            "description_width": ""
          }
        },
        "de0cce5b2ef34f31aa14d3bf7c83476e": {
          "model_module": "@jupyter-widgets/base",
          "model_name": "LayoutModel",
          "model_module_version": "1.2.0",
          "state": {
            "_model_module": "@jupyter-widgets/base",
            "_model_module_version": "1.2.0",
            "_model_name": "LayoutModel",
            "_view_count": null,
            "_view_module": "@jupyter-widgets/base",
            "_view_module_version": "1.2.0",
            "_view_name": "LayoutView",
            "align_content": null,
            "align_items": null,
            "align_self": null,
            "border": null,
            "bottom": null,
            "display": null,
            "flex": null,
            "flex_flow": null,
            "grid_area": null,
            "grid_auto_columns": null,
            "grid_auto_flow": null,
            "grid_auto_rows": null,
            "grid_column": null,
            "grid_gap": null,
            "grid_row": null,
            "grid_template_areas": null,
            "grid_template_columns": null,
            "grid_template_rows": null,
            "height": null,
            "justify_content": null,
            "justify_items": null,
            "left": null,
            "margin": null,
            "max_height": null,
            "max_width": null,
            "min_height": null,
            "min_width": null,
            "object_fit": null,
            "object_position": null,
            "order": null,
            "overflow": null,
            "overflow_x": null,
            "overflow_y": null,
            "padding": null,
            "right": null,
            "top": null,
            "visibility": null,
            "width": null
          }
        },
        "ad72f0e06c5f4009bca3efd4b8532e45": {
          "model_module": "@jupyter-widgets/controls",
          "model_name": "ProgressStyleModel",
          "model_module_version": "1.5.0",
          "state": {
            "_model_module": "@jupyter-widgets/controls",
            "_model_module_version": "1.5.0",
            "_model_name": "ProgressStyleModel",
            "_view_count": null,
            "_view_module": "@jupyter-widgets/base",
            "_view_module_version": "1.2.0",
            "_view_name": "StyleView",
            "bar_color": null,
            "description_width": ""
          }
        },
        "153c035adbbf40b5ad01e5db8f2ae76a": {
          "model_module": "@jupyter-widgets/base",
          "model_name": "LayoutModel",
          "model_module_version": "1.2.0",
          "state": {
            "_model_module": "@jupyter-widgets/base",
            "_model_module_version": "1.2.0",
            "_model_name": "LayoutModel",
            "_view_count": null,
            "_view_module": "@jupyter-widgets/base",
            "_view_module_version": "1.2.0",
            "_view_name": "LayoutView",
            "align_content": null,
            "align_items": null,
            "align_self": null,
            "border": null,
            "bottom": null,
            "display": null,
            "flex": null,
            "flex_flow": null,
            "grid_area": null,
            "grid_auto_columns": null,
            "grid_auto_flow": null,
            "grid_auto_rows": null,
            "grid_column": null,
            "grid_gap": null,
            "grid_row": null,
            "grid_template_areas": null,
            "grid_template_columns": null,
            "grid_template_rows": null,
            "height": null,
            "justify_content": null,
            "justify_items": null,
            "left": null,
            "margin": null,
            "max_height": null,
            "max_width": null,
            "min_height": null,
            "min_width": null,
            "object_fit": null,
            "object_position": null,
            "order": null,
            "overflow": null,
            "overflow_x": null,
            "overflow_y": null,
            "padding": null,
            "right": null,
            "top": null,
            "visibility": null,
            "width": null
          }
        },
        "b52591f3c38541db9f31773d42fd351b": {
          "model_module": "@jupyter-widgets/controls",
          "model_name": "DescriptionStyleModel",
          "model_module_version": "1.5.0",
          "state": {
            "_model_module": "@jupyter-widgets/controls",
            "_model_module_version": "1.5.0",
            "_model_name": "DescriptionStyleModel",
            "_view_count": null,
            "_view_module": "@jupyter-widgets/base",
            "_view_module_version": "1.2.0",
            "_view_name": "StyleView",
            "description_width": ""
          }
        },
        "54a37b32ec304e27b26738a7cee52d98": {
          "model_module": "@jupyter-widgets/controls",
          "model_name": "HBoxModel",
          "model_module_version": "1.5.0",
          "state": {
            "_dom_classes": [],
            "_model_module": "@jupyter-widgets/controls",
            "_model_module_version": "1.5.0",
            "_model_name": "HBoxModel",
            "_view_count": null,
            "_view_module": "@jupyter-widgets/controls",
            "_view_module_version": "1.5.0",
            "_view_name": "HBoxView",
            "box_style": "",
            "children": [
              "IPY_MODEL_f20545a860d1442f81aab344eb2a7fcd",
              "IPY_MODEL_15ba8bc958ef4c6b88ad296977a4a50d",
              "IPY_MODEL_8ee44f0360ea4651a5e45a464f33965f"
            ],
            "layout": "IPY_MODEL_0ad44ad015994649b2ab829eeceb8c2b"
          }
        },
        "f20545a860d1442f81aab344eb2a7fcd": {
          "model_module": "@jupyter-widgets/controls",
          "model_name": "HTMLModel",
          "model_module_version": "1.5.0",
          "state": {
            "_dom_classes": [],
            "_model_module": "@jupyter-widgets/controls",
            "_model_module_version": "1.5.0",
            "_model_name": "HTMLModel",
            "_view_count": null,
            "_view_module": "@jupyter-widgets/controls",
            "_view_module_version": "1.5.0",
            "_view_name": "HTMLView",
            "description": "",
            "description_tooltip": null,
            "layout": "IPY_MODEL_9de7359e41f84ecf86a9e6ef5c31ffad",
            "placeholder": "​",
            "style": "IPY_MODEL_c730b9565b1546ba90bd5862bc6965fa",
            "value": "100%"
          }
        },
        "15ba8bc958ef4c6b88ad296977a4a50d": {
          "model_module": "@jupyter-widgets/controls",
          "model_name": "FloatProgressModel",
          "model_module_version": "1.5.0",
          "state": {
            "_dom_classes": [],
            "_model_module": "@jupyter-widgets/controls",
            "_model_module_version": "1.5.0",
            "_model_name": "FloatProgressModel",
            "_view_count": null,
            "_view_module": "@jupyter-widgets/controls",
            "_view_module_version": "1.5.0",
            "_view_name": "ProgressView",
            "bar_style": "success",
            "description": "",
            "description_tooltip": null,
            "layout": "IPY_MODEL_7400aafca60042a5b786eb9e52bd52bf",
            "max": 27,
            "min": 0,
            "orientation": "horizontal",
            "style": "IPY_MODEL_e3c36187bd4d435c8e45d401282f9731",
            "value": 27
          }
        },
        "8ee44f0360ea4651a5e45a464f33965f": {
          "model_module": "@jupyter-widgets/controls",
          "model_name": "HTMLModel",
          "model_module_version": "1.5.0",
          "state": {
            "_dom_classes": [],
            "_model_module": "@jupyter-widgets/controls",
            "_model_module_version": "1.5.0",
            "_model_name": "HTMLModel",
            "_view_count": null,
            "_view_module": "@jupyter-widgets/controls",
            "_view_module_version": "1.5.0",
            "_view_name": "HTMLView",
            "description": "",
            "description_tooltip": null,
            "layout": "IPY_MODEL_7f8b5aa464fb48e6af9ee9699eaa1fef",
            "placeholder": "​",
            "style": "IPY_MODEL_4d4ad8707fe24a87951283c7002ec911",
            "value": " 27/27 [00:11&lt;00:00,  2.81it/s]"
          }
        },
        "0ad44ad015994649b2ab829eeceb8c2b": {
          "model_module": "@jupyter-widgets/base",
          "model_name": "LayoutModel",
          "model_module_version": "1.2.0",
          "state": {
            "_model_module": "@jupyter-widgets/base",
            "_model_module_version": "1.2.0",
            "_model_name": "LayoutModel",
            "_view_count": null,
            "_view_module": "@jupyter-widgets/base",
            "_view_module_version": "1.2.0",
            "_view_name": "LayoutView",
            "align_content": null,
            "align_items": null,
            "align_self": null,
            "border": null,
            "bottom": null,
            "display": null,
            "flex": null,
            "flex_flow": null,
            "grid_area": null,
            "grid_auto_columns": null,
            "grid_auto_flow": null,
            "grid_auto_rows": null,
            "grid_column": null,
            "grid_gap": null,
            "grid_row": null,
            "grid_template_areas": null,
            "grid_template_columns": null,
            "grid_template_rows": null,
            "height": null,
            "justify_content": null,
            "justify_items": null,
            "left": null,
            "margin": null,
            "max_height": null,
            "max_width": null,
            "min_height": null,
            "min_width": null,
            "object_fit": null,
            "object_position": null,
            "order": null,
            "overflow": null,
            "overflow_x": null,
            "overflow_y": null,
            "padding": null,
            "right": null,
            "top": null,
            "visibility": null,
            "width": null
          }
        },
        "9de7359e41f84ecf86a9e6ef5c31ffad": {
          "model_module": "@jupyter-widgets/base",
          "model_name": "LayoutModel",
          "model_module_version": "1.2.0",
          "state": {
            "_model_module": "@jupyter-widgets/base",
            "_model_module_version": "1.2.0",
            "_model_name": "LayoutModel",
            "_view_count": null,
            "_view_module": "@jupyter-widgets/base",
            "_view_module_version": "1.2.0",
            "_view_name": "LayoutView",
            "align_content": null,
            "align_items": null,
            "align_self": null,
            "border": null,
            "bottom": null,
            "display": null,
            "flex": null,
            "flex_flow": null,
            "grid_area": null,
            "grid_auto_columns": null,
            "grid_auto_flow": null,
            "grid_auto_rows": null,
            "grid_column": null,
            "grid_gap": null,
            "grid_row": null,
            "grid_template_areas": null,
            "grid_template_columns": null,
            "grid_template_rows": null,
            "height": null,
            "justify_content": null,
            "justify_items": null,
            "left": null,
            "margin": null,
            "max_height": null,
            "max_width": null,
            "min_height": null,
            "min_width": null,
            "object_fit": null,
            "object_position": null,
            "order": null,
            "overflow": null,
            "overflow_x": null,
            "overflow_y": null,
            "padding": null,
            "right": null,
            "top": null,
            "visibility": null,
            "width": null
          }
        },
        "c730b9565b1546ba90bd5862bc6965fa": {
          "model_module": "@jupyter-widgets/controls",
          "model_name": "DescriptionStyleModel",
          "model_module_version": "1.5.0",
          "state": {
            "_model_module": "@jupyter-widgets/controls",
            "_model_module_version": "1.5.0",
            "_model_name": "DescriptionStyleModel",
            "_view_count": null,
            "_view_module": "@jupyter-widgets/base",
            "_view_module_version": "1.2.0",
            "_view_name": "StyleView",
            "description_width": ""
          }
        },
        "7400aafca60042a5b786eb9e52bd52bf": {
          "model_module": "@jupyter-widgets/base",
          "model_name": "LayoutModel",
          "model_module_version": "1.2.0",
          "state": {
            "_model_module": "@jupyter-widgets/base",
            "_model_module_version": "1.2.0",
            "_model_name": "LayoutModel",
            "_view_count": null,
            "_view_module": "@jupyter-widgets/base",
            "_view_module_version": "1.2.0",
            "_view_name": "LayoutView",
            "align_content": null,
            "align_items": null,
            "align_self": null,
            "border": null,
            "bottom": null,
            "display": null,
            "flex": null,
            "flex_flow": null,
            "grid_area": null,
            "grid_auto_columns": null,
            "grid_auto_flow": null,
            "grid_auto_rows": null,
            "grid_column": null,
            "grid_gap": null,
            "grid_row": null,
            "grid_template_areas": null,
            "grid_template_columns": null,
            "grid_template_rows": null,
            "height": null,
            "justify_content": null,
            "justify_items": null,
            "left": null,
            "margin": null,
            "max_height": null,
            "max_width": null,
            "min_height": null,
            "min_width": null,
            "object_fit": null,
            "object_position": null,
            "order": null,
            "overflow": null,
            "overflow_x": null,
            "overflow_y": null,
            "padding": null,
            "right": null,
            "top": null,
            "visibility": null,
            "width": null
          }
        },
        "e3c36187bd4d435c8e45d401282f9731": {
          "model_module": "@jupyter-widgets/controls",
          "model_name": "ProgressStyleModel",
          "model_module_version": "1.5.0",
          "state": {
            "_model_module": "@jupyter-widgets/controls",
            "_model_module_version": "1.5.0",
            "_model_name": "ProgressStyleModel",
            "_view_count": null,
            "_view_module": "@jupyter-widgets/base",
            "_view_module_version": "1.2.0",
            "_view_name": "StyleView",
            "bar_color": null,
            "description_width": ""
          }
        },
        "7f8b5aa464fb48e6af9ee9699eaa1fef": {
          "model_module": "@jupyter-widgets/base",
          "model_name": "LayoutModel",
          "model_module_version": "1.2.0",
          "state": {
            "_model_module": "@jupyter-widgets/base",
            "_model_module_version": "1.2.0",
            "_model_name": "LayoutModel",
            "_view_count": null,
            "_view_module": "@jupyter-widgets/base",
            "_view_module_version": "1.2.0",
            "_view_name": "LayoutView",
            "align_content": null,
            "align_items": null,
            "align_self": null,
            "border": null,
            "bottom": null,
            "display": null,
            "flex": null,
            "flex_flow": null,
            "grid_area": null,
            "grid_auto_columns": null,
            "grid_auto_flow": null,
            "grid_auto_rows": null,
            "grid_column": null,
            "grid_gap": null,
            "grid_row": null,
            "grid_template_areas": null,
            "grid_template_columns": null,
            "grid_template_rows": null,
            "height": null,
            "justify_content": null,
            "justify_items": null,
            "left": null,
            "margin": null,
            "max_height": null,
            "max_width": null,
            "min_height": null,
            "min_width": null,
            "object_fit": null,
            "object_position": null,
            "order": null,
            "overflow": null,
            "overflow_x": null,
            "overflow_y": null,
            "padding": null,
            "right": null,
            "top": null,
            "visibility": null,
            "width": null
          }
        },
        "4d4ad8707fe24a87951283c7002ec911": {
          "model_module": "@jupyter-widgets/controls",
          "model_name": "DescriptionStyleModel",
          "model_module_version": "1.5.0",
          "state": {
            "_model_module": "@jupyter-widgets/controls",
            "_model_module_version": "1.5.0",
            "_model_name": "DescriptionStyleModel",
            "_view_count": null,
            "_view_module": "@jupyter-widgets/base",
            "_view_module_version": "1.2.0",
            "_view_name": "StyleView",
            "description_width": ""
          }
        },
        "494b88db1a064616b40122bd54646e82": {
          "model_module": "@jupyter-widgets/controls",
          "model_name": "HBoxModel",
          "model_module_version": "1.5.0",
          "state": {
            "_dom_classes": [],
            "_model_module": "@jupyter-widgets/controls",
            "_model_module_version": "1.5.0",
            "_model_name": "HBoxModel",
            "_view_count": null,
            "_view_module": "@jupyter-widgets/controls",
            "_view_module_version": "1.5.0",
            "_view_name": "HBoxView",
            "box_style": "",
            "children": [
              "IPY_MODEL_f0cd8493cd9d4af0a4fb43ca3d6e6bd9",
              "IPY_MODEL_72fc4670cffd4f288753ffea6141ec1f",
              "IPY_MODEL_30f392feddd5499fa459588bca69a445"
            ],
            "layout": "IPY_MODEL_cc4c16ee5946465cb60a73587b59d57a"
          }
        },
        "f0cd8493cd9d4af0a4fb43ca3d6e6bd9": {
          "model_module": "@jupyter-widgets/controls",
          "model_name": "HTMLModel",
          "model_module_version": "1.5.0",
          "state": {
            "_dom_classes": [],
            "_model_module": "@jupyter-widgets/controls",
            "_model_module_version": "1.5.0",
            "_model_name": "HTMLModel",
            "_view_count": null,
            "_view_module": "@jupyter-widgets/controls",
            "_view_module_version": "1.5.0",
            "_view_name": "HTMLView",
            "description": "",
            "description_tooltip": null,
            "layout": "IPY_MODEL_13597030658d40c39dbf94ca7d8273aa",
            "placeholder": "​",
            "style": "IPY_MODEL_ebc502548d084735bafe629bf19fcdb2",
            "value": "100%"
          }
        },
        "72fc4670cffd4f288753ffea6141ec1f": {
          "model_module": "@jupyter-widgets/controls",
          "model_name": "FloatProgressModel",
          "model_module_version": "1.5.0",
          "state": {
            "_dom_classes": [],
            "_model_module": "@jupyter-widgets/controls",
            "_model_module_version": "1.5.0",
            "_model_name": "FloatProgressModel",
            "_view_count": null,
            "_view_module": "@jupyter-widgets/controls",
            "_view_module_version": "1.5.0",
            "_view_name": "ProgressView",
            "bar_style": "success",
            "description": "",
            "description_tooltip": null,
            "layout": "IPY_MODEL_a0c8144fed58416397b1feddd3154799",
            "max": 27,
            "min": 0,
            "orientation": "horizontal",
            "style": "IPY_MODEL_3953d96ab94340febc5272c4a38f9531",
            "value": 27
          }
        },
        "30f392feddd5499fa459588bca69a445": {
          "model_module": "@jupyter-widgets/controls",
          "model_name": "HTMLModel",
          "model_module_version": "1.5.0",
          "state": {
            "_dom_classes": [],
            "_model_module": "@jupyter-widgets/controls",
            "_model_module_version": "1.5.0",
            "_model_name": "HTMLModel",
            "_view_count": null,
            "_view_module": "@jupyter-widgets/controls",
            "_view_module_version": "1.5.0",
            "_view_name": "HTMLView",
            "description": "",
            "description_tooltip": null,
            "layout": "IPY_MODEL_d075eb8828da420e8fae7fa137036139",
            "placeholder": "​",
            "style": "IPY_MODEL_815ff84812f14e8783e02ee074d817f6",
            "value": " 27/27 [00:15&lt;00:00,  2.15it/s]"
          }
        },
        "cc4c16ee5946465cb60a73587b59d57a": {
          "model_module": "@jupyter-widgets/base",
          "model_name": "LayoutModel",
          "model_module_version": "1.2.0",
          "state": {
            "_model_module": "@jupyter-widgets/base",
            "_model_module_version": "1.2.0",
            "_model_name": "LayoutModel",
            "_view_count": null,
            "_view_module": "@jupyter-widgets/base",
            "_view_module_version": "1.2.0",
            "_view_name": "LayoutView",
            "align_content": null,
            "align_items": null,
            "align_self": null,
            "border": null,
            "bottom": null,
            "display": null,
            "flex": null,
            "flex_flow": null,
            "grid_area": null,
            "grid_auto_columns": null,
            "grid_auto_flow": null,
            "grid_auto_rows": null,
            "grid_column": null,
            "grid_gap": null,
            "grid_row": null,
            "grid_template_areas": null,
            "grid_template_columns": null,
            "grid_template_rows": null,
            "height": null,
            "justify_content": null,
            "justify_items": null,
            "left": null,
            "margin": null,
            "max_height": null,
            "max_width": null,
            "min_height": null,
            "min_width": null,
            "object_fit": null,
            "object_position": null,
            "order": null,
            "overflow": null,
            "overflow_x": null,
            "overflow_y": null,
            "padding": null,
            "right": null,
            "top": null,
            "visibility": null,
            "width": null
          }
        },
        "13597030658d40c39dbf94ca7d8273aa": {
          "model_module": "@jupyter-widgets/base",
          "model_name": "LayoutModel",
          "model_module_version": "1.2.0",
          "state": {
            "_model_module": "@jupyter-widgets/base",
            "_model_module_version": "1.2.0",
            "_model_name": "LayoutModel",
            "_view_count": null,
            "_view_module": "@jupyter-widgets/base",
            "_view_module_version": "1.2.0",
            "_view_name": "LayoutView",
            "align_content": null,
            "align_items": null,
            "align_self": null,
            "border": null,
            "bottom": null,
            "display": null,
            "flex": null,
            "flex_flow": null,
            "grid_area": null,
            "grid_auto_columns": null,
            "grid_auto_flow": null,
            "grid_auto_rows": null,
            "grid_column": null,
            "grid_gap": null,
            "grid_row": null,
            "grid_template_areas": null,
            "grid_template_columns": null,
            "grid_template_rows": null,
            "height": null,
            "justify_content": null,
            "justify_items": null,
            "left": null,
            "margin": null,
            "max_height": null,
            "max_width": null,
            "min_height": null,
            "min_width": null,
            "object_fit": null,
            "object_position": null,
            "order": null,
            "overflow": null,
            "overflow_x": null,
            "overflow_y": null,
            "padding": null,
            "right": null,
            "top": null,
            "visibility": null,
            "width": null
          }
        },
        "ebc502548d084735bafe629bf19fcdb2": {
          "model_module": "@jupyter-widgets/controls",
          "model_name": "DescriptionStyleModel",
          "model_module_version": "1.5.0",
          "state": {
            "_model_module": "@jupyter-widgets/controls",
            "_model_module_version": "1.5.0",
            "_model_name": "DescriptionStyleModel",
            "_view_count": null,
            "_view_module": "@jupyter-widgets/base",
            "_view_module_version": "1.2.0",
            "_view_name": "StyleView",
            "description_width": ""
          }
        },
        "a0c8144fed58416397b1feddd3154799": {
          "model_module": "@jupyter-widgets/base",
          "model_name": "LayoutModel",
          "model_module_version": "1.2.0",
          "state": {
            "_model_module": "@jupyter-widgets/base",
            "_model_module_version": "1.2.0",
            "_model_name": "LayoutModel",
            "_view_count": null,
            "_view_module": "@jupyter-widgets/base",
            "_view_module_version": "1.2.0",
            "_view_name": "LayoutView",
            "align_content": null,
            "align_items": null,
            "align_self": null,
            "border": null,
            "bottom": null,
            "display": null,
            "flex": null,
            "flex_flow": null,
            "grid_area": null,
            "grid_auto_columns": null,
            "grid_auto_flow": null,
            "grid_auto_rows": null,
            "grid_column": null,
            "grid_gap": null,
            "grid_row": null,
            "grid_template_areas": null,
            "grid_template_columns": null,
            "grid_template_rows": null,
            "height": null,
            "justify_content": null,
            "justify_items": null,
            "left": null,
            "margin": null,
            "max_height": null,
            "max_width": null,
            "min_height": null,
            "min_width": null,
            "object_fit": null,
            "object_position": null,
            "order": null,
            "overflow": null,
            "overflow_x": null,
            "overflow_y": null,
            "padding": null,
            "right": null,
            "top": null,
            "visibility": null,
            "width": null
          }
        },
        "3953d96ab94340febc5272c4a38f9531": {
          "model_module": "@jupyter-widgets/controls",
          "model_name": "ProgressStyleModel",
          "model_module_version": "1.5.0",
          "state": {
            "_model_module": "@jupyter-widgets/controls",
            "_model_module_version": "1.5.0",
            "_model_name": "ProgressStyleModel",
            "_view_count": null,
            "_view_module": "@jupyter-widgets/base",
            "_view_module_version": "1.2.0",
            "_view_name": "StyleView",
            "bar_color": null,
            "description_width": ""
          }
        },
        "d075eb8828da420e8fae7fa137036139": {
          "model_module": "@jupyter-widgets/base",
          "model_name": "LayoutModel",
          "model_module_version": "1.2.0",
          "state": {
            "_model_module": "@jupyter-widgets/base",
            "_model_module_version": "1.2.0",
            "_model_name": "LayoutModel",
            "_view_count": null,
            "_view_module": "@jupyter-widgets/base",
            "_view_module_version": "1.2.0",
            "_view_name": "LayoutView",
            "align_content": null,
            "align_items": null,
            "align_self": null,
            "border": null,
            "bottom": null,
            "display": null,
            "flex": null,
            "flex_flow": null,
            "grid_area": null,
            "grid_auto_columns": null,
            "grid_auto_flow": null,
            "grid_auto_rows": null,
            "grid_column": null,
            "grid_gap": null,
            "grid_row": null,
            "grid_template_areas": null,
            "grid_template_columns": null,
            "grid_template_rows": null,
            "height": null,
            "justify_content": null,
            "justify_items": null,
            "left": null,
            "margin": null,
            "max_height": null,
            "max_width": null,
            "min_height": null,
            "min_width": null,
            "object_fit": null,
            "object_position": null,
            "order": null,
            "overflow": null,
            "overflow_x": null,
            "overflow_y": null,
            "padding": null,
            "right": null,
            "top": null,
            "visibility": null,
            "width": null
          }
        },
        "815ff84812f14e8783e02ee074d817f6": {
          "model_module": "@jupyter-widgets/controls",
          "model_name": "DescriptionStyleModel",
          "model_module_version": "1.5.0",
          "state": {
            "_model_module": "@jupyter-widgets/controls",
            "_model_module_version": "1.5.0",
            "_model_name": "DescriptionStyleModel",
            "_view_count": null,
            "_view_module": "@jupyter-widgets/base",
            "_view_module_version": "1.2.0",
            "_view_name": "StyleView",
            "description_width": ""
          }
        },
        "5c4e104d391942bb9e2561ca8b4f3605": {
          "model_module": "@jupyter-widgets/controls",
          "model_name": "HBoxModel",
          "model_module_version": "1.5.0",
          "state": {
            "_dom_classes": [],
            "_model_module": "@jupyter-widgets/controls",
            "_model_module_version": "1.5.0",
            "_model_name": "HBoxModel",
            "_view_count": null,
            "_view_module": "@jupyter-widgets/controls",
            "_view_module_version": "1.5.0",
            "_view_name": "HBoxView",
            "box_style": "",
            "children": [
              "IPY_MODEL_a330d4f2730043469f0bb54644f2f1fc",
              "IPY_MODEL_31135b7c10a849e9b8abb7e419a89fa7",
              "IPY_MODEL_171d1110eb774441a87614571a9c92eb"
            ],
            "layout": "IPY_MODEL_e2e39c34fda548a0b24e27b069b294ab"
          }
        },
        "a330d4f2730043469f0bb54644f2f1fc": {
          "model_module": "@jupyter-widgets/controls",
          "model_name": "HTMLModel",
          "model_module_version": "1.5.0",
          "state": {
            "_dom_classes": [],
            "_model_module": "@jupyter-widgets/controls",
            "_model_module_version": "1.5.0",
            "_model_name": "HTMLModel",
            "_view_count": null,
            "_view_module": "@jupyter-widgets/controls",
            "_view_module_version": "1.5.0",
            "_view_name": "HTMLView",
            "description": "",
            "description_tooltip": null,
            "layout": "IPY_MODEL_f25242cdbe73426d9f8130f4b3bc871c",
            "placeholder": "​",
            "style": "IPY_MODEL_eea0274045794b8cae5a6e017e867d79",
            "value": "100%"
          }
        },
        "31135b7c10a849e9b8abb7e419a89fa7": {
          "model_module": "@jupyter-widgets/controls",
          "model_name": "FloatProgressModel",
          "model_module_version": "1.5.0",
          "state": {
            "_dom_classes": [],
            "_model_module": "@jupyter-widgets/controls",
            "_model_module_version": "1.5.0",
            "_model_name": "FloatProgressModel",
            "_view_count": null,
            "_view_module": "@jupyter-widgets/controls",
            "_view_module_version": "1.5.0",
            "_view_name": "ProgressView",
            "bar_style": "success",
            "description": "",
            "description_tooltip": null,
            "layout": "IPY_MODEL_8c92b80d15b3425ab0dfdb99b36ef0b8",
            "max": 27,
            "min": 0,
            "orientation": "horizontal",
            "style": "IPY_MODEL_1b4a7ab9a9b04137811f789221fa24e5",
            "value": 27
          }
        },
        "171d1110eb774441a87614571a9c92eb": {
          "model_module": "@jupyter-widgets/controls",
          "model_name": "HTMLModel",
          "model_module_version": "1.5.0",
          "state": {
            "_dom_classes": [],
            "_model_module": "@jupyter-widgets/controls",
            "_model_module_version": "1.5.0",
            "_model_name": "HTMLModel",
            "_view_count": null,
            "_view_module": "@jupyter-widgets/controls",
            "_view_module_version": "1.5.0",
            "_view_name": "HTMLView",
            "description": "",
            "description_tooltip": null,
            "layout": "IPY_MODEL_8104fdbdd4bc4a568853d52a18202766",
            "placeholder": "​",
            "style": "IPY_MODEL_8509d13ef1844138b0a3c1a904680804",
            "value": " 27/27 [00:16&lt;00:00,  2.05it/s]"
          }
        },
        "e2e39c34fda548a0b24e27b069b294ab": {
          "model_module": "@jupyter-widgets/base",
          "model_name": "LayoutModel",
          "model_module_version": "1.2.0",
          "state": {
            "_model_module": "@jupyter-widgets/base",
            "_model_module_version": "1.2.0",
            "_model_name": "LayoutModel",
            "_view_count": null,
            "_view_module": "@jupyter-widgets/base",
            "_view_module_version": "1.2.0",
            "_view_name": "LayoutView",
            "align_content": null,
            "align_items": null,
            "align_self": null,
            "border": null,
            "bottom": null,
            "display": null,
            "flex": null,
            "flex_flow": null,
            "grid_area": null,
            "grid_auto_columns": null,
            "grid_auto_flow": null,
            "grid_auto_rows": null,
            "grid_column": null,
            "grid_gap": null,
            "grid_row": null,
            "grid_template_areas": null,
            "grid_template_columns": null,
            "grid_template_rows": null,
            "height": null,
            "justify_content": null,
            "justify_items": null,
            "left": null,
            "margin": null,
            "max_height": null,
            "max_width": null,
            "min_height": null,
            "min_width": null,
            "object_fit": null,
            "object_position": null,
            "order": null,
            "overflow": null,
            "overflow_x": null,
            "overflow_y": null,
            "padding": null,
            "right": null,
            "top": null,
            "visibility": null,
            "width": null
          }
        },
        "f25242cdbe73426d9f8130f4b3bc871c": {
          "model_module": "@jupyter-widgets/base",
          "model_name": "LayoutModel",
          "model_module_version": "1.2.0",
          "state": {
            "_model_module": "@jupyter-widgets/base",
            "_model_module_version": "1.2.0",
            "_model_name": "LayoutModel",
            "_view_count": null,
            "_view_module": "@jupyter-widgets/base",
            "_view_module_version": "1.2.0",
            "_view_name": "LayoutView",
            "align_content": null,
            "align_items": null,
            "align_self": null,
            "border": null,
            "bottom": null,
            "display": null,
            "flex": null,
            "flex_flow": null,
            "grid_area": null,
            "grid_auto_columns": null,
            "grid_auto_flow": null,
            "grid_auto_rows": null,
            "grid_column": null,
            "grid_gap": null,
            "grid_row": null,
            "grid_template_areas": null,
            "grid_template_columns": null,
            "grid_template_rows": null,
            "height": null,
            "justify_content": null,
            "justify_items": null,
            "left": null,
            "margin": null,
            "max_height": null,
            "max_width": null,
            "min_height": null,
            "min_width": null,
            "object_fit": null,
            "object_position": null,
            "order": null,
            "overflow": null,
            "overflow_x": null,
            "overflow_y": null,
            "padding": null,
            "right": null,
            "top": null,
            "visibility": null,
            "width": null
          }
        },
        "eea0274045794b8cae5a6e017e867d79": {
          "model_module": "@jupyter-widgets/controls",
          "model_name": "DescriptionStyleModel",
          "model_module_version": "1.5.0",
          "state": {
            "_model_module": "@jupyter-widgets/controls",
            "_model_module_version": "1.5.0",
            "_model_name": "DescriptionStyleModel",
            "_view_count": null,
            "_view_module": "@jupyter-widgets/base",
            "_view_module_version": "1.2.0",
            "_view_name": "StyleView",
            "description_width": ""
          }
        },
        "8c92b80d15b3425ab0dfdb99b36ef0b8": {
          "model_module": "@jupyter-widgets/base",
          "model_name": "LayoutModel",
          "model_module_version": "1.2.0",
          "state": {
            "_model_module": "@jupyter-widgets/base",
            "_model_module_version": "1.2.0",
            "_model_name": "LayoutModel",
            "_view_count": null,
            "_view_module": "@jupyter-widgets/base",
            "_view_module_version": "1.2.0",
            "_view_name": "LayoutView",
            "align_content": null,
            "align_items": null,
            "align_self": null,
            "border": null,
            "bottom": null,
            "display": null,
            "flex": null,
            "flex_flow": null,
            "grid_area": null,
            "grid_auto_columns": null,
            "grid_auto_flow": null,
            "grid_auto_rows": null,
            "grid_column": null,
            "grid_gap": null,
            "grid_row": null,
            "grid_template_areas": null,
            "grid_template_columns": null,
            "grid_template_rows": null,
            "height": null,
            "justify_content": null,
            "justify_items": null,
            "left": null,
            "margin": null,
            "max_height": null,
            "max_width": null,
            "min_height": null,
            "min_width": null,
            "object_fit": null,
            "object_position": null,
            "order": null,
            "overflow": null,
            "overflow_x": null,
            "overflow_y": null,
            "padding": null,
            "right": null,
            "top": null,
            "visibility": null,
            "width": null
          }
        },
        "1b4a7ab9a9b04137811f789221fa24e5": {
          "model_module": "@jupyter-widgets/controls",
          "model_name": "ProgressStyleModel",
          "model_module_version": "1.5.0",
          "state": {
            "_model_module": "@jupyter-widgets/controls",
            "_model_module_version": "1.5.0",
            "_model_name": "ProgressStyleModel",
            "_view_count": null,
            "_view_module": "@jupyter-widgets/base",
            "_view_module_version": "1.2.0",
            "_view_name": "StyleView",
            "bar_color": null,
            "description_width": ""
          }
        },
        "8104fdbdd4bc4a568853d52a18202766": {
          "model_module": "@jupyter-widgets/base",
          "model_name": "LayoutModel",
          "model_module_version": "1.2.0",
          "state": {
            "_model_module": "@jupyter-widgets/base",
            "_model_module_version": "1.2.0",
            "_model_name": "LayoutModel",
            "_view_count": null,
            "_view_module": "@jupyter-widgets/base",
            "_view_module_version": "1.2.0",
            "_view_name": "LayoutView",
            "align_content": null,
            "align_items": null,
            "align_self": null,
            "border": null,
            "bottom": null,
            "display": null,
            "flex": null,
            "flex_flow": null,
            "grid_area": null,
            "grid_auto_columns": null,
            "grid_auto_flow": null,
            "grid_auto_rows": null,
            "grid_column": null,
            "grid_gap": null,
            "grid_row": null,
            "grid_template_areas": null,
            "grid_template_columns": null,
            "grid_template_rows": null,
            "height": null,
            "justify_content": null,
            "justify_items": null,
            "left": null,
            "margin": null,
            "max_height": null,
            "max_width": null,
            "min_height": null,
            "min_width": null,
            "object_fit": null,
            "object_position": null,
            "order": null,
            "overflow": null,
            "overflow_x": null,
            "overflow_y": null,
            "padding": null,
            "right": null,
            "top": null,
            "visibility": null,
            "width": null
          }
        },
        "8509d13ef1844138b0a3c1a904680804": {
          "model_module": "@jupyter-widgets/controls",
          "model_name": "DescriptionStyleModel",
          "model_module_version": "1.5.0",
          "state": {
            "_model_module": "@jupyter-widgets/controls",
            "_model_module_version": "1.5.0",
            "_model_name": "DescriptionStyleModel",
            "_view_count": null,
            "_view_module": "@jupyter-widgets/base",
            "_view_module_version": "1.2.0",
            "_view_name": "StyleView",
            "description_width": ""
          }
        },
        "1b415239b6cb4b799555eb59d8893c10": {
          "model_module": "@jupyter-widgets/controls",
          "model_name": "HBoxModel",
          "model_module_version": "1.5.0",
          "state": {
            "_dom_classes": [],
            "_model_module": "@jupyter-widgets/controls",
            "_model_module_version": "1.5.0",
            "_model_name": "HBoxModel",
            "_view_count": null,
            "_view_module": "@jupyter-widgets/controls",
            "_view_module_version": "1.5.0",
            "_view_name": "HBoxView",
            "box_style": "",
            "children": [
              "IPY_MODEL_e85063583fc24c35ad53f413a4bfa904",
              "IPY_MODEL_d8f9f56f305e49b68b7f7265bd32cad4",
              "IPY_MODEL_78002a176a3641ee97d4e8365d1c6b2e"
            ],
            "layout": "IPY_MODEL_f2389a31342d4688b676ba321a956ac4"
          }
        },
        "e85063583fc24c35ad53f413a4bfa904": {
          "model_module": "@jupyter-widgets/controls",
          "model_name": "HTMLModel",
          "model_module_version": "1.5.0",
          "state": {
            "_dom_classes": [],
            "_model_module": "@jupyter-widgets/controls",
            "_model_module_version": "1.5.0",
            "_model_name": "HTMLModel",
            "_view_count": null,
            "_view_module": "@jupyter-widgets/controls",
            "_view_module_version": "1.5.0",
            "_view_name": "HTMLView",
            "description": "",
            "description_tooltip": null,
            "layout": "IPY_MODEL_1d39a6bc43654f7781a32a50f59e135f",
            "placeholder": "​",
            "style": "IPY_MODEL_758b9c90c46443b093de9a1ec4d893d4",
            "value": "100%"
          }
        },
        "d8f9f56f305e49b68b7f7265bd32cad4": {
          "model_module": "@jupyter-widgets/controls",
          "model_name": "FloatProgressModel",
          "model_module_version": "1.5.0",
          "state": {
            "_dom_classes": [],
            "_model_module": "@jupyter-widgets/controls",
            "_model_module_version": "1.5.0",
            "_model_name": "FloatProgressModel",
            "_view_count": null,
            "_view_module": "@jupyter-widgets/controls",
            "_view_module_version": "1.5.0",
            "_view_name": "ProgressView",
            "bar_style": "success",
            "description": "",
            "description_tooltip": null,
            "layout": "IPY_MODEL_2bdc6e0ac1f5477282ff9d52f7ee6ca6",
            "max": 27,
            "min": 0,
            "orientation": "horizontal",
            "style": "IPY_MODEL_ee88b98eeb4e4730a703e580eac31c71",
            "value": 27
          }
        },
        "78002a176a3641ee97d4e8365d1c6b2e": {
          "model_module": "@jupyter-widgets/controls",
          "model_name": "HTMLModel",
          "model_module_version": "1.5.0",
          "state": {
            "_dom_classes": [],
            "_model_module": "@jupyter-widgets/controls",
            "_model_module_version": "1.5.0",
            "_model_name": "HTMLModel",
            "_view_count": null,
            "_view_module": "@jupyter-widgets/controls",
            "_view_module_version": "1.5.0",
            "_view_name": "HTMLView",
            "description": "",
            "description_tooltip": null,
            "layout": "IPY_MODEL_a98a248423c94c1f8ce4ed8ea799d7cb",
            "placeholder": "​",
            "style": "IPY_MODEL_d1436ff8b3444353b4ecd1024f3f7376",
            "value": " 27/27 [00:16&lt;00:00,  1.97it/s]"
          }
        },
        "f2389a31342d4688b676ba321a956ac4": {
          "model_module": "@jupyter-widgets/base",
          "model_name": "LayoutModel",
          "model_module_version": "1.2.0",
          "state": {
            "_model_module": "@jupyter-widgets/base",
            "_model_module_version": "1.2.0",
            "_model_name": "LayoutModel",
            "_view_count": null,
            "_view_module": "@jupyter-widgets/base",
            "_view_module_version": "1.2.0",
            "_view_name": "LayoutView",
            "align_content": null,
            "align_items": null,
            "align_self": null,
            "border": null,
            "bottom": null,
            "display": null,
            "flex": null,
            "flex_flow": null,
            "grid_area": null,
            "grid_auto_columns": null,
            "grid_auto_flow": null,
            "grid_auto_rows": null,
            "grid_column": null,
            "grid_gap": null,
            "grid_row": null,
            "grid_template_areas": null,
            "grid_template_columns": null,
            "grid_template_rows": null,
            "height": null,
            "justify_content": null,
            "justify_items": null,
            "left": null,
            "margin": null,
            "max_height": null,
            "max_width": null,
            "min_height": null,
            "min_width": null,
            "object_fit": null,
            "object_position": null,
            "order": null,
            "overflow": null,
            "overflow_x": null,
            "overflow_y": null,
            "padding": null,
            "right": null,
            "top": null,
            "visibility": null,
            "width": null
          }
        },
        "1d39a6bc43654f7781a32a50f59e135f": {
          "model_module": "@jupyter-widgets/base",
          "model_name": "LayoutModel",
          "model_module_version": "1.2.0",
          "state": {
            "_model_module": "@jupyter-widgets/base",
            "_model_module_version": "1.2.0",
            "_model_name": "LayoutModel",
            "_view_count": null,
            "_view_module": "@jupyter-widgets/base",
            "_view_module_version": "1.2.0",
            "_view_name": "LayoutView",
            "align_content": null,
            "align_items": null,
            "align_self": null,
            "border": null,
            "bottom": null,
            "display": null,
            "flex": null,
            "flex_flow": null,
            "grid_area": null,
            "grid_auto_columns": null,
            "grid_auto_flow": null,
            "grid_auto_rows": null,
            "grid_column": null,
            "grid_gap": null,
            "grid_row": null,
            "grid_template_areas": null,
            "grid_template_columns": null,
            "grid_template_rows": null,
            "height": null,
            "justify_content": null,
            "justify_items": null,
            "left": null,
            "margin": null,
            "max_height": null,
            "max_width": null,
            "min_height": null,
            "min_width": null,
            "object_fit": null,
            "object_position": null,
            "order": null,
            "overflow": null,
            "overflow_x": null,
            "overflow_y": null,
            "padding": null,
            "right": null,
            "top": null,
            "visibility": null,
            "width": null
          }
        },
        "758b9c90c46443b093de9a1ec4d893d4": {
          "model_module": "@jupyter-widgets/controls",
          "model_name": "DescriptionStyleModel",
          "model_module_version": "1.5.0",
          "state": {
            "_model_module": "@jupyter-widgets/controls",
            "_model_module_version": "1.5.0",
            "_model_name": "DescriptionStyleModel",
            "_view_count": null,
            "_view_module": "@jupyter-widgets/base",
            "_view_module_version": "1.2.0",
            "_view_name": "StyleView",
            "description_width": ""
          }
        },
        "2bdc6e0ac1f5477282ff9d52f7ee6ca6": {
          "model_module": "@jupyter-widgets/base",
          "model_name": "LayoutModel",
          "model_module_version": "1.2.0",
          "state": {
            "_model_module": "@jupyter-widgets/base",
            "_model_module_version": "1.2.0",
            "_model_name": "LayoutModel",
            "_view_count": null,
            "_view_module": "@jupyter-widgets/base",
            "_view_module_version": "1.2.0",
            "_view_name": "LayoutView",
            "align_content": null,
            "align_items": null,
            "align_self": null,
            "border": null,
            "bottom": null,
            "display": null,
            "flex": null,
            "flex_flow": null,
            "grid_area": null,
            "grid_auto_columns": null,
            "grid_auto_flow": null,
            "grid_auto_rows": null,
            "grid_column": null,
            "grid_gap": null,
            "grid_row": null,
            "grid_template_areas": null,
            "grid_template_columns": null,
            "grid_template_rows": null,
            "height": null,
            "justify_content": null,
            "justify_items": null,
            "left": null,
            "margin": null,
            "max_height": null,
            "max_width": null,
            "min_height": null,
            "min_width": null,
            "object_fit": null,
            "object_position": null,
            "order": null,
            "overflow": null,
            "overflow_x": null,
            "overflow_y": null,
            "padding": null,
            "right": null,
            "top": null,
            "visibility": null,
            "width": null
          }
        },
        "ee88b98eeb4e4730a703e580eac31c71": {
          "model_module": "@jupyter-widgets/controls",
          "model_name": "ProgressStyleModel",
          "model_module_version": "1.5.0",
          "state": {
            "_model_module": "@jupyter-widgets/controls",
            "_model_module_version": "1.5.0",
            "_model_name": "ProgressStyleModel",
            "_view_count": null,
            "_view_module": "@jupyter-widgets/base",
            "_view_module_version": "1.2.0",
            "_view_name": "StyleView",
            "bar_color": null,
            "description_width": ""
          }
        },
        "a98a248423c94c1f8ce4ed8ea799d7cb": {
          "model_module": "@jupyter-widgets/base",
          "model_name": "LayoutModel",
          "model_module_version": "1.2.0",
          "state": {
            "_model_module": "@jupyter-widgets/base",
            "_model_module_version": "1.2.0",
            "_model_name": "LayoutModel",
            "_view_count": null,
            "_view_module": "@jupyter-widgets/base",
            "_view_module_version": "1.2.0",
            "_view_name": "LayoutView",
            "align_content": null,
            "align_items": null,
            "align_self": null,
            "border": null,
            "bottom": null,
            "display": null,
            "flex": null,
            "flex_flow": null,
            "grid_area": null,
            "grid_auto_columns": null,
            "grid_auto_flow": null,
            "grid_auto_rows": null,
            "grid_column": null,
            "grid_gap": null,
            "grid_row": null,
            "grid_template_areas": null,
            "grid_template_columns": null,
            "grid_template_rows": null,
            "height": null,
            "justify_content": null,
            "justify_items": null,
            "left": null,
            "margin": null,
            "max_height": null,
            "max_width": null,
            "min_height": null,
            "min_width": null,
            "object_fit": null,
            "object_position": null,
            "order": null,
            "overflow": null,
            "overflow_x": null,
            "overflow_y": null,
            "padding": null,
            "right": null,
            "top": null,
            "visibility": null,
            "width": null
          }
        },
        "d1436ff8b3444353b4ecd1024f3f7376": {
          "model_module": "@jupyter-widgets/controls",
          "model_name": "DescriptionStyleModel",
          "model_module_version": "1.5.0",
          "state": {
            "_model_module": "@jupyter-widgets/controls",
            "_model_module_version": "1.5.0",
            "_model_name": "DescriptionStyleModel",
            "_view_count": null,
            "_view_module": "@jupyter-widgets/base",
            "_view_module_version": "1.2.0",
            "_view_name": "StyleView",
            "description_width": ""
          }
        },
        "3b730e500463481cbfc14c6daf674ae0": {
          "model_module": "@jupyter-widgets/controls",
          "model_name": "HBoxModel",
          "model_module_version": "1.5.0",
          "state": {
            "_dom_classes": [],
            "_model_module": "@jupyter-widgets/controls",
            "_model_module_version": "1.5.0",
            "_model_name": "HBoxModel",
            "_view_count": null,
            "_view_module": "@jupyter-widgets/controls",
            "_view_module_version": "1.5.0",
            "_view_name": "HBoxView",
            "box_style": "",
            "children": [
              "IPY_MODEL_39c06ceb032443c19d5da900e6c0873c",
              "IPY_MODEL_fb7efd12a5484c1eae5901aa5200fc6d",
              "IPY_MODEL_6a365d7e42f142c08ee50e9a6477fbdb"
            ],
            "layout": "IPY_MODEL_5c6346adafc1450f99df95e31e05dfa6"
          }
        },
        "39c06ceb032443c19d5da900e6c0873c": {
          "model_module": "@jupyter-widgets/controls",
          "model_name": "HTMLModel",
          "model_module_version": "1.5.0",
          "state": {
            "_dom_classes": [],
            "_model_module": "@jupyter-widgets/controls",
            "_model_module_version": "1.5.0",
            "_model_name": "HTMLModel",
            "_view_count": null,
            "_view_module": "@jupyter-widgets/controls",
            "_view_module_version": "1.5.0",
            "_view_name": "HTMLView",
            "description": "",
            "description_tooltip": null,
            "layout": "IPY_MODEL_af81f6896b594fefb7f28275ee50fe2f",
            "placeholder": "​",
            "style": "IPY_MODEL_217044236a444ea4a88c96cc940f3733",
            "value": "100%"
          }
        },
        "fb7efd12a5484c1eae5901aa5200fc6d": {
          "model_module": "@jupyter-widgets/controls",
          "model_name": "FloatProgressModel",
          "model_module_version": "1.5.0",
          "state": {
            "_dom_classes": [],
            "_model_module": "@jupyter-widgets/controls",
            "_model_module_version": "1.5.0",
            "_model_name": "FloatProgressModel",
            "_view_count": null,
            "_view_module": "@jupyter-widgets/controls",
            "_view_module_version": "1.5.0",
            "_view_name": "ProgressView",
            "bar_style": "success",
            "description": "",
            "description_tooltip": null,
            "layout": "IPY_MODEL_05c04623bc4943728724ca2ef780271c",
            "max": 27,
            "min": 0,
            "orientation": "horizontal",
            "style": "IPY_MODEL_602ccae0654d4cc69b54216fe3c1a3ae",
            "value": 27
          }
        },
        "6a365d7e42f142c08ee50e9a6477fbdb": {
          "model_module": "@jupyter-widgets/controls",
          "model_name": "HTMLModel",
          "model_module_version": "1.5.0",
          "state": {
            "_dom_classes": [],
            "_model_module": "@jupyter-widgets/controls",
            "_model_module_version": "1.5.0",
            "_model_name": "HTMLModel",
            "_view_count": null,
            "_view_module": "@jupyter-widgets/controls",
            "_view_module_version": "1.5.0",
            "_view_name": "HTMLView",
            "description": "",
            "description_tooltip": null,
            "layout": "IPY_MODEL_653550aecc9a45b885014abcebe2c974",
            "placeholder": "​",
            "style": "IPY_MODEL_9214a30969164cc380b25356f6e2bee0",
            "value": " 27/27 [00:06&lt;00:00,  5.07it/s]"
          }
        },
        "5c6346adafc1450f99df95e31e05dfa6": {
          "model_module": "@jupyter-widgets/base",
          "model_name": "LayoutModel",
          "model_module_version": "1.2.0",
          "state": {
            "_model_module": "@jupyter-widgets/base",
            "_model_module_version": "1.2.0",
            "_model_name": "LayoutModel",
            "_view_count": null,
            "_view_module": "@jupyter-widgets/base",
            "_view_module_version": "1.2.0",
            "_view_name": "LayoutView",
            "align_content": null,
            "align_items": null,
            "align_self": null,
            "border": null,
            "bottom": null,
            "display": null,
            "flex": null,
            "flex_flow": null,
            "grid_area": null,
            "grid_auto_columns": null,
            "grid_auto_flow": null,
            "grid_auto_rows": null,
            "grid_column": null,
            "grid_gap": null,
            "grid_row": null,
            "grid_template_areas": null,
            "grid_template_columns": null,
            "grid_template_rows": null,
            "height": null,
            "justify_content": null,
            "justify_items": null,
            "left": null,
            "margin": null,
            "max_height": null,
            "max_width": null,
            "min_height": null,
            "min_width": null,
            "object_fit": null,
            "object_position": null,
            "order": null,
            "overflow": null,
            "overflow_x": null,
            "overflow_y": null,
            "padding": null,
            "right": null,
            "top": null,
            "visibility": null,
            "width": null
          }
        },
        "af81f6896b594fefb7f28275ee50fe2f": {
          "model_module": "@jupyter-widgets/base",
          "model_name": "LayoutModel",
          "model_module_version": "1.2.0",
          "state": {
            "_model_module": "@jupyter-widgets/base",
            "_model_module_version": "1.2.0",
            "_model_name": "LayoutModel",
            "_view_count": null,
            "_view_module": "@jupyter-widgets/base",
            "_view_module_version": "1.2.0",
            "_view_name": "LayoutView",
            "align_content": null,
            "align_items": null,
            "align_self": null,
            "border": null,
            "bottom": null,
            "display": null,
            "flex": null,
            "flex_flow": null,
            "grid_area": null,
            "grid_auto_columns": null,
            "grid_auto_flow": null,
            "grid_auto_rows": null,
            "grid_column": null,
            "grid_gap": null,
            "grid_row": null,
            "grid_template_areas": null,
            "grid_template_columns": null,
            "grid_template_rows": null,
            "height": null,
            "justify_content": null,
            "justify_items": null,
            "left": null,
            "margin": null,
            "max_height": null,
            "max_width": null,
            "min_height": null,
            "min_width": null,
            "object_fit": null,
            "object_position": null,
            "order": null,
            "overflow": null,
            "overflow_x": null,
            "overflow_y": null,
            "padding": null,
            "right": null,
            "top": null,
            "visibility": null,
            "width": null
          }
        },
        "217044236a444ea4a88c96cc940f3733": {
          "model_module": "@jupyter-widgets/controls",
          "model_name": "DescriptionStyleModel",
          "model_module_version": "1.5.0",
          "state": {
            "_model_module": "@jupyter-widgets/controls",
            "_model_module_version": "1.5.0",
            "_model_name": "DescriptionStyleModel",
            "_view_count": null,
            "_view_module": "@jupyter-widgets/base",
            "_view_module_version": "1.2.0",
            "_view_name": "StyleView",
            "description_width": ""
          }
        },
        "05c04623bc4943728724ca2ef780271c": {
          "model_module": "@jupyter-widgets/base",
          "model_name": "LayoutModel",
          "model_module_version": "1.2.0",
          "state": {
            "_model_module": "@jupyter-widgets/base",
            "_model_module_version": "1.2.0",
            "_model_name": "LayoutModel",
            "_view_count": null,
            "_view_module": "@jupyter-widgets/base",
            "_view_module_version": "1.2.0",
            "_view_name": "LayoutView",
            "align_content": null,
            "align_items": null,
            "align_self": null,
            "border": null,
            "bottom": null,
            "display": null,
            "flex": null,
            "flex_flow": null,
            "grid_area": null,
            "grid_auto_columns": null,
            "grid_auto_flow": null,
            "grid_auto_rows": null,
            "grid_column": null,
            "grid_gap": null,
            "grid_row": null,
            "grid_template_areas": null,
            "grid_template_columns": null,
            "grid_template_rows": null,
            "height": null,
            "justify_content": null,
            "justify_items": null,
            "left": null,
            "margin": null,
            "max_height": null,
            "max_width": null,
            "min_height": null,
            "min_width": null,
            "object_fit": null,
            "object_position": null,
            "order": null,
            "overflow": null,
            "overflow_x": null,
            "overflow_y": null,
            "padding": null,
            "right": null,
            "top": null,
            "visibility": null,
            "width": null
          }
        },
        "602ccae0654d4cc69b54216fe3c1a3ae": {
          "model_module": "@jupyter-widgets/controls",
          "model_name": "ProgressStyleModel",
          "model_module_version": "1.5.0",
          "state": {
            "_model_module": "@jupyter-widgets/controls",
            "_model_module_version": "1.5.0",
            "_model_name": "ProgressStyleModel",
            "_view_count": null,
            "_view_module": "@jupyter-widgets/base",
            "_view_module_version": "1.2.0",
            "_view_name": "StyleView",
            "bar_color": null,
            "description_width": ""
          }
        },
        "653550aecc9a45b885014abcebe2c974": {
          "model_module": "@jupyter-widgets/base",
          "model_name": "LayoutModel",
          "model_module_version": "1.2.0",
          "state": {
            "_model_module": "@jupyter-widgets/base",
            "_model_module_version": "1.2.0",
            "_model_name": "LayoutModel",
            "_view_count": null,
            "_view_module": "@jupyter-widgets/base",
            "_view_module_version": "1.2.0",
            "_view_name": "LayoutView",
            "align_content": null,
            "align_items": null,
            "align_self": null,
            "border": null,
            "bottom": null,
            "display": null,
            "flex": null,
            "flex_flow": null,
            "grid_area": null,
            "grid_auto_columns": null,
            "grid_auto_flow": null,
            "grid_auto_rows": null,
            "grid_column": null,
            "grid_gap": null,
            "grid_row": null,
            "grid_template_areas": null,
            "grid_template_columns": null,
            "grid_template_rows": null,
            "height": null,
            "justify_content": null,
            "justify_items": null,
            "left": null,
            "margin": null,
            "max_height": null,
            "max_width": null,
            "min_height": null,
            "min_width": null,
            "object_fit": null,
            "object_position": null,
            "order": null,
            "overflow": null,
            "overflow_x": null,
            "overflow_y": null,
            "padding": null,
            "right": null,
            "top": null,
            "visibility": null,
            "width": null
          }
        },
        "9214a30969164cc380b25356f6e2bee0": {
          "model_module": "@jupyter-widgets/controls",
          "model_name": "DescriptionStyleModel",
          "model_module_version": "1.5.0",
          "state": {
            "_model_module": "@jupyter-widgets/controls",
            "_model_module_version": "1.5.0",
            "_model_name": "DescriptionStyleModel",
            "_view_count": null,
            "_view_module": "@jupyter-widgets/base",
            "_view_module_version": "1.2.0",
            "_view_name": "StyleView",
            "description_width": ""
          }
        },
        "dfa08b20b1154d5ca0c4f1c60c7fd0ed": {
          "model_module": "@jupyter-widgets/controls",
          "model_name": "HBoxModel",
          "model_module_version": "1.5.0",
          "state": {
            "_dom_classes": [],
            "_model_module": "@jupyter-widgets/controls",
            "_model_module_version": "1.5.0",
            "_model_name": "HBoxModel",
            "_view_count": null,
            "_view_module": "@jupyter-widgets/controls",
            "_view_module_version": "1.5.0",
            "_view_name": "HBoxView",
            "box_style": "",
            "children": [
              "IPY_MODEL_56b6fb321c4848bcaa9b4c1108ae6b37",
              "IPY_MODEL_5d9641ac22be44d4837f9ae2fc287918",
              "IPY_MODEL_a5c9b186b7ae4f38927da3f5102f3276"
            ],
            "layout": "IPY_MODEL_c7e5833e838f4f6b9dc12f6b505016f2"
          }
        },
        "56b6fb321c4848bcaa9b4c1108ae6b37": {
          "model_module": "@jupyter-widgets/controls",
          "model_name": "HTMLModel",
          "model_module_version": "1.5.0",
          "state": {
            "_dom_classes": [],
            "_model_module": "@jupyter-widgets/controls",
            "_model_module_version": "1.5.0",
            "_model_name": "HTMLModel",
            "_view_count": null,
            "_view_module": "@jupyter-widgets/controls",
            "_view_module_version": "1.5.0",
            "_view_name": "HTMLView",
            "description": "",
            "description_tooltip": null,
            "layout": "IPY_MODEL_75502ab756784e38a6a76287ad3a9eae",
            "placeholder": "​",
            "style": "IPY_MODEL_2390446422354406853d02d58f6c175f",
            "value": "100%"
          }
        },
        "5d9641ac22be44d4837f9ae2fc287918": {
          "model_module": "@jupyter-widgets/controls",
          "model_name": "FloatProgressModel",
          "model_module_version": "1.5.0",
          "state": {
            "_dom_classes": [],
            "_model_module": "@jupyter-widgets/controls",
            "_model_module_version": "1.5.0",
            "_model_name": "FloatProgressModel",
            "_view_count": null,
            "_view_module": "@jupyter-widgets/controls",
            "_view_module_version": "1.5.0",
            "_view_name": "ProgressView",
            "bar_style": "success",
            "description": "",
            "description_tooltip": null,
            "layout": "IPY_MODEL_bf7f14d995834e29a5f5b20f43bb4a3c",
            "max": 27,
            "min": 0,
            "orientation": "horizontal",
            "style": "IPY_MODEL_69bdddc261434af99618ec6d96ae8549",
            "value": 27
          }
        },
        "a5c9b186b7ae4f38927da3f5102f3276": {
          "model_module": "@jupyter-widgets/controls",
          "model_name": "HTMLModel",
          "model_module_version": "1.5.0",
          "state": {
            "_dom_classes": [],
            "_model_module": "@jupyter-widgets/controls",
            "_model_module_version": "1.5.0",
            "_model_name": "HTMLModel",
            "_view_count": null,
            "_view_module": "@jupyter-widgets/controls",
            "_view_module_version": "1.5.0",
            "_view_name": "HTMLView",
            "description": "",
            "description_tooltip": null,
            "layout": "IPY_MODEL_0d1a4c1123c8451493634654c71c280d",
            "placeholder": "​",
            "style": "IPY_MODEL_aca36466189e48869d7d6bc82b44f47c",
            "value": " 27/27 [00:24&lt;00:00,  1.31it/s]"
          }
        },
        "c7e5833e838f4f6b9dc12f6b505016f2": {
          "model_module": "@jupyter-widgets/base",
          "model_name": "LayoutModel",
          "model_module_version": "1.2.0",
          "state": {
            "_model_module": "@jupyter-widgets/base",
            "_model_module_version": "1.2.0",
            "_model_name": "LayoutModel",
            "_view_count": null,
            "_view_module": "@jupyter-widgets/base",
            "_view_module_version": "1.2.0",
            "_view_name": "LayoutView",
            "align_content": null,
            "align_items": null,
            "align_self": null,
            "border": null,
            "bottom": null,
            "display": null,
            "flex": null,
            "flex_flow": null,
            "grid_area": null,
            "grid_auto_columns": null,
            "grid_auto_flow": null,
            "grid_auto_rows": null,
            "grid_column": null,
            "grid_gap": null,
            "grid_row": null,
            "grid_template_areas": null,
            "grid_template_columns": null,
            "grid_template_rows": null,
            "height": null,
            "justify_content": null,
            "justify_items": null,
            "left": null,
            "margin": null,
            "max_height": null,
            "max_width": null,
            "min_height": null,
            "min_width": null,
            "object_fit": null,
            "object_position": null,
            "order": null,
            "overflow": null,
            "overflow_x": null,
            "overflow_y": null,
            "padding": null,
            "right": null,
            "top": null,
            "visibility": null,
            "width": null
          }
        },
        "75502ab756784e38a6a76287ad3a9eae": {
          "model_module": "@jupyter-widgets/base",
          "model_name": "LayoutModel",
          "model_module_version": "1.2.0",
          "state": {
            "_model_module": "@jupyter-widgets/base",
            "_model_module_version": "1.2.0",
            "_model_name": "LayoutModel",
            "_view_count": null,
            "_view_module": "@jupyter-widgets/base",
            "_view_module_version": "1.2.0",
            "_view_name": "LayoutView",
            "align_content": null,
            "align_items": null,
            "align_self": null,
            "border": null,
            "bottom": null,
            "display": null,
            "flex": null,
            "flex_flow": null,
            "grid_area": null,
            "grid_auto_columns": null,
            "grid_auto_flow": null,
            "grid_auto_rows": null,
            "grid_column": null,
            "grid_gap": null,
            "grid_row": null,
            "grid_template_areas": null,
            "grid_template_columns": null,
            "grid_template_rows": null,
            "height": null,
            "justify_content": null,
            "justify_items": null,
            "left": null,
            "margin": null,
            "max_height": null,
            "max_width": null,
            "min_height": null,
            "min_width": null,
            "object_fit": null,
            "object_position": null,
            "order": null,
            "overflow": null,
            "overflow_x": null,
            "overflow_y": null,
            "padding": null,
            "right": null,
            "top": null,
            "visibility": null,
            "width": null
          }
        },
        "2390446422354406853d02d58f6c175f": {
          "model_module": "@jupyter-widgets/controls",
          "model_name": "DescriptionStyleModel",
          "model_module_version": "1.5.0",
          "state": {
            "_model_module": "@jupyter-widgets/controls",
            "_model_module_version": "1.5.0",
            "_model_name": "DescriptionStyleModel",
            "_view_count": null,
            "_view_module": "@jupyter-widgets/base",
            "_view_module_version": "1.2.0",
            "_view_name": "StyleView",
            "description_width": ""
          }
        },
        "bf7f14d995834e29a5f5b20f43bb4a3c": {
          "model_module": "@jupyter-widgets/base",
          "model_name": "LayoutModel",
          "model_module_version": "1.2.0",
          "state": {
            "_model_module": "@jupyter-widgets/base",
            "_model_module_version": "1.2.0",
            "_model_name": "LayoutModel",
            "_view_count": null,
            "_view_module": "@jupyter-widgets/base",
            "_view_module_version": "1.2.0",
            "_view_name": "LayoutView",
            "align_content": null,
            "align_items": null,
            "align_self": null,
            "border": null,
            "bottom": null,
            "display": null,
            "flex": null,
            "flex_flow": null,
            "grid_area": null,
            "grid_auto_columns": null,
            "grid_auto_flow": null,
            "grid_auto_rows": null,
            "grid_column": null,
            "grid_gap": null,
            "grid_row": null,
            "grid_template_areas": null,
            "grid_template_columns": null,
            "grid_template_rows": null,
            "height": null,
            "justify_content": null,
            "justify_items": null,
            "left": null,
            "margin": null,
            "max_height": null,
            "max_width": null,
            "min_height": null,
            "min_width": null,
            "object_fit": null,
            "object_position": null,
            "order": null,
            "overflow": null,
            "overflow_x": null,
            "overflow_y": null,
            "padding": null,
            "right": null,
            "top": null,
            "visibility": null,
            "width": null
          }
        },
        "69bdddc261434af99618ec6d96ae8549": {
          "model_module": "@jupyter-widgets/controls",
          "model_name": "ProgressStyleModel",
          "model_module_version": "1.5.0",
          "state": {
            "_model_module": "@jupyter-widgets/controls",
            "_model_module_version": "1.5.0",
            "_model_name": "ProgressStyleModel",
            "_view_count": null,
            "_view_module": "@jupyter-widgets/base",
            "_view_module_version": "1.2.0",
            "_view_name": "StyleView",
            "bar_color": null,
            "description_width": ""
          }
        },
        "0d1a4c1123c8451493634654c71c280d": {
          "model_module": "@jupyter-widgets/base",
          "model_name": "LayoutModel",
          "model_module_version": "1.2.0",
          "state": {
            "_model_module": "@jupyter-widgets/base",
            "_model_module_version": "1.2.0",
            "_model_name": "LayoutModel",
            "_view_count": null,
            "_view_module": "@jupyter-widgets/base",
            "_view_module_version": "1.2.0",
            "_view_name": "LayoutView",
            "align_content": null,
            "align_items": null,
            "align_self": null,
            "border": null,
            "bottom": null,
            "display": null,
            "flex": null,
            "flex_flow": null,
            "grid_area": null,
            "grid_auto_columns": null,
            "grid_auto_flow": null,
            "grid_auto_rows": null,
            "grid_column": null,
            "grid_gap": null,
            "grid_row": null,
            "grid_template_areas": null,
            "grid_template_columns": null,
            "grid_template_rows": null,
            "height": null,
            "justify_content": null,
            "justify_items": null,
            "left": null,
            "margin": null,
            "max_height": null,
            "max_width": null,
            "min_height": null,
            "min_width": null,
            "object_fit": null,
            "object_position": null,
            "order": null,
            "overflow": null,
            "overflow_x": null,
            "overflow_y": null,
            "padding": null,
            "right": null,
            "top": null,
            "visibility": null,
            "width": null
          }
        },
        "aca36466189e48869d7d6bc82b44f47c": {
          "model_module": "@jupyter-widgets/controls",
          "model_name": "DescriptionStyleModel",
          "model_module_version": "1.5.0",
          "state": {
            "_model_module": "@jupyter-widgets/controls",
            "_model_module_version": "1.5.0",
            "_model_name": "DescriptionStyleModel",
            "_view_count": null,
            "_view_module": "@jupyter-widgets/base",
            "_view_module_version": "1.2.0",
            "_view_name": "StyleView",
            "description_width": ""
          }
        },
        "fda011c8fe8447a3b23ba4e4dddd2ac2": {
          "model_module": "@jupyter-widgets/controls",
          "model_name": "HBoxModel",
          "model_module_version": "1.5.0",
          "state": {
            "_dom_classes": [],
            "_model_module": "@jupyter-widgets/controls",
            "_model_module_version": "1.5.0",
            "_model_name": "HBoxModel",
            "_view_count": null,
            "_view_module": "@jupyter-widgets/controls",
            "_view_module_version": "1.5.0",
            "_view_name": "HBoxView",
            "box_style": "",
            "children": [
              "IPY_MODEL_fa3882b2a1864e728092ebab7ff32980",
              "IPY_MODEL_0c1af9569dd04968bae07973af2a6cfd",
              "IPY_MODEL_fd4bf460dcb643799a14dd8512542ed9"
            ],
            "layout": "IPY_MODEL_71cc2e3716c44336b6c64365bfcabf06"
          }
        },
        "fa3882b2a1864e728092ebab7ff32980": {
          "model_module": "@jupyter-widgets/controls",
          "model_name": "HTMLModel",
          "model_module_version": "1.5.0",
          "state": {
            "_dom_classes": [],
            "_model_module": "@jupyter-widgets/controls",
            "_model_module_version": "1.5.0",
            "_model_name": "HTMLModel",
            "_view_count": null,
            "_view_module": "@jupyter-widgets/controls",
            "_view_module_version": "1.5.0",
            "_view_name": "HTMLView",
            "description": "",
            "description_tooltip": null,
            "layout": "IPY_MODEL_9bb91cb74db24a8eb165bbca0febca5b",
            "placeholder": "​",
            "style": "IPY_MODEL_37cb25b20c64410e9aae74cca9e7082b",
            "value": "100%"
          }
        },
        "0c1af9569dd04968bae07973af2a6cfd": {
          "model_module": "@jupyter-widgets/controls",
          "model_name": "FloatProgressModel",
          "model_module_version": "1.5.0",
          "state": {
            "_dom_classes": [],
            "_model_module": "@jupyter-widgets/controls",
            "_model_module_version": "1.5.0",
            "_model_name": "FloatProgressModel",
            "_view_count": null,
            "_view_module": "@jupyter-widgets/controls",
            "_view_module_version": "1.5.0",
            "_view_name": "ProgressView",
            "bar_style": "success",
            "description": "",
            "description_tooltip": null,
            "layout": "IPY_MODEL_0d5fb647797349218031f691fcd6c03b",
            "max": 27,
            "min": 0,
            "orientation": "horizontal",
            "style": "IPY_MODEL_36f4d26e9be149659bdd7c46aca84ddd",
            "value": 27
          }
        },
        "fd4bf460dcb643799a14dd8512542ed9": {
          "model_module": "@jupyter-widgets/controls",
          "model_name": "HTMLModel",
          "model_module_version": "1.5.0",
          "state": {
            "_dom_classes": [],
            "_model_module": "@jupyter-widgets/controls",
            "_model_module_version": "1.5.0",
            "_model_name": "HTMLModel",
            "_view_count": null,
            "_view_module": "@jupyter-widgets/controls",
            "_view_module_version": "1.5.0",
            "_view_name": "HTMLView",
            "description": "",
            "description_tooltip": null,
            "layout": "IPY_MODEL_767907e1c59f4294b814e0845d9db160",
            "placeholder": "​",
            "style": "IPY_MODEL_f1b0defd35e34ccb93d0c018b1df015f",
            "value": " 27/27 [00:26&lt;00:00,  1.29it/s]"
          }
        },
        "71cc2e3716c44336b6c64365bfcabf06": {
          "model_module": "@jupyter-widgets/base",
          "model_name": "LayoutModel",
          "model_module_version": "1.2.0",
          "state": {
            "_model_module": "@jupyter-widgets/base",
            "_model_module_version": "1.2.0",
            "_model_name": "LayoutModel",
            "_view_count": null,
            "_view_module": "@jupyter-widgets/base",
            "_view_module_version": "1.2.0",
            "_view_name": "LayoutView",
            "align_content": null,
            "align_items": null,
            "align_self": null,
            "border": null,
            "bottom": null,
            "display": null,
            "flex": null,
            "flex_flow": null,
            "grid_area": null,
            "grid_auto_columns": null,
            "grid_auto_flow": null,
            "grid_auto_rows": null,
            "grid_column": null,
            "grid_gap": null,
            "grid_row": null,
            "grid_template_areas": null,
            "grid_template_columns": null,
            "grid_template_rows": null,
            "height": null,
            "justify_content": null,
            "justify_items": null,
            "left": null,
            "margin": null,
            "max_height": null,
            "max_width": null,
            "min_height": null,
            "min_width": null,
            "object_fit": null,
            "object_position": null,
            "order": null,
            "overflow": null,
            "overflow_x": null,
            "overflow_y": null,
            "padding": null,
            "right": null,
            "top": null,
            "visibility": null,
            "width": null
          }
        },
        "9bb91cb74db24a8eb165bbca0febca5b": {
          "model_module": "@jupyter-widgets/base",
          "model_name": "LayoutModel",
          "model_module_version": "1.2.0",
          "state": {
            "_model_module": "@jupyter-widgets/base",
            "_model_module_version": "1.2.0",
            "_model_name": "LayoutModel",
            "_view_count": null,
            "_view_module": "@jupyter-widgets/base",
            "_view_module_version": "1.2.0",
            "_view_name": "LayoutView",
            "align_content": null,
            "align_items": null,
            "align_self": null,
            "border": null,
            "bottom": null,
            "display": null,
            "flex": null,
            "flex_flow": null,
            "grid_area": null,
            "grid_auto_columns": null,
            "grid_auto_flow": null,
            "grid_auto_rows": null,
            "grid_column": null,
            "grid_gap": null,
            "grid_row": null,
            "grid_template_areas": null,
            "grid_template_columns": null,
            "grid_template_rows": null,
            "height": null,
            "justify_content": null,
            "justify_items": null,
            "left": null,
            "margin": null,
            "max_height": null,
            "max_width": null,
            "min_height": null,
            "min_width": null,
            "object_fit": null,
            "object_position": null,
            "order": null,
            "overflow": null,
            "overflow_x": null,
            "overflow_y": null,
            "padding": null,
            "right": null,
            "top": null,
            "visibility": null,
            "width": null
          }
        },
        "37cb25b20c64410e9aae74cca9e7082b": {
          "model_module": "@jupyter-widgets/controls",
          "model_name": "DescriptionStyleModel",
          "model_module_version": "1.5.0",
          "state": {
            "_model_module": "@jupyter-widgets/controls",
            "_model_module_version": "1.5.0",
            "_model_name": "DescriptionStyleModel",
            "_view_count": null,
            "_view_module": "@jupyter-widgets/base",
            "_view_module_version": "1.2.0",
            "_view_name": "StyleView",
            "description_width": ""
          }
        },
        "0d5fb647797349218031f691fcd6c03b": {
          "model_module": "@jupyter-widgets/base",
          "model_name": "LayoutModel",
          "model_module_version": "1.2.0",
          "state": {
            "_model_module": "@jupyter-widgets/base",
            "_model_module_version": "1.2.0",
            "_model_name": "LayoutModel",
            "_view_count": null,
            "_view_module": "@jupyter-widgets/base",
            "_view_module_version": "1.2.0",
            "_view_name": "LayoutView",
            "align_content": null,
            "align_items": null,
            "align_self": null,
            "border": null,
            "bottom": null,
            "display": null,
            "flex": null,
            "flex_flow": null,
            "grid_area": null,
            "grid_auto_columns": null,
            "grid_auto_flow": null,
            "grid_auto_rows": null,
            "grid_column": null,
            "grid_gap": null,
            "grid_row": null,
            "grid_template_areas": null,
            "grid_template_columns": null,
            "grid_template_rows": null,
            "height": null,
            "justify_content": null,
            "justify_items": null,
            "left": null,
            "margin": null,
            "max_height": null,
            "max_width": null,
            "min_height": null,
            "min_width": null,
            "object_fit": null,
            "object_position": null,
            "order": null,
            "overflow": null,
            "overflow_x": null,
            "overflow_y": null,
            "padding": null,
            "right": null,
            "top": null,
            "visibility": null,
            "width": null
          }
        },
        "36f4d26e9be149659bdd7c46aca84ddd": {
          "model_module": "@jupyter-widgets/controls",
          "model_name": "ProgressStyleModel",
          "model_module_version": "1.5.0",
          "state": {
            "_model_module": "@jupyter-widgets/controls",
            "_model_module_version": "1.5.0",
            "_model_name": "ProgressStyleModel",
            "_view_count": null,
            "_view_module": "@jupyter-widgets/base",
            "_view_module_version": "1.2.0",
            "_view_name": "StyleView",
            "bar_color": null,
            "description_width": ""
          }
        },
        "767907e1c59f4294b814e0845d9db160": {
          "model_module": "@jupyter-widgets/base",
          "model_name": "LayoutModel",
          "model_module_version": "1.2.0",
          "state": {
            "_model_module": "@jupyter-widgets/base",
            "_model_module_version": "1.2.0",
            "_model_name": "LayoutModel",
            "_view_count": null,
            "_view_module": "@jupyter-widgets/base",
            "_view_module_version": "1.2.0",
            "_view_name": "LayoutView",
            "align_content": null,
            "align_items": null,
            "align_self": null,
            "border": null,
            "bottom": null,
            "display": null,
            "flex": null,
            "flex_flow": null,
            "grid_area": null,
            "grid_auto_columns": null,
            "grid_auto_flow": null,
            "grid_auto_rows": null,
            "grid_column": null,
            "grid_gap": null,
            "grid_row": null,
            "grid_template_areas": null,
            "grid_template_columns": null,
            "grid_template_rows": null,
            "height": null,
            "justify_content": null,
            "justify_items": null,
            "left": null,
            "margin": null,
            "max_height": null,
            "max_width": null,
            "min_height": null,
            "min_width": null,
            "object_fit": null,
            "object_position": null,
            "order": null,
            "overflow": null,
            "overflow_x": null,
            "overflow_y": null,
            "padding": null,
            "right": null,
            "top": null,
            "visibility": null,
            "width": null
          }
        },
        "f1b0defd35e34ccb93d0c018b1df015f": {
          "model_module": "@jupyter-widgets/controls",
          "model_name": "DescriptionStyleModel",
          "model_module_version": "1.5.0",
          "state": {
            "_model_module": "@jupyter-widgets/controls",
            "_model_module_version": "1.5.0",
            "_model_name": "DescriptionStyleModel",
            "_view_count": null,
            "_view_module": "@jupyter-widgets/base",
            "_view_module_version": "1.2.0",
            "_view_name": "StyleView",
            "description_width": ""
          }
        },
        "5249551377d7432da9d7dc5626ecd8e2": {
          "model_module": "@jupyter-widgets/controls",
          "model_name": "HBoxModel",
          "model_module_version": "1.5.0",
          "state": {
            "_dom_classes": [],
            "_model_module": "@jupyter-widgets/controls",
            "_model_module_version": "1.5.0",
            "_model_name": "HBoxModel",
            "_view_count": null,
            "_view_module": "@jupyter-widgets/controls",
            "_view_module_version": "1.5.0",
            "_view_name": "HBoxView",
            "box_style": "",
            "children": [
              "IPY_MODEL_d2596191532041eeb852e7ace0a07b21",
              "IPY_MODEL_9ada1b48f76f4fffa0d94a12243bfdcb",
              "IPY_MODEL_fc4fbcc65df0433f9402d8d27d725bf9"
            ],
            "layout": "IPY_MODEL_029b060e4b364b17981b70b2946b0f3d"
          }
        },
        "d2596191532041eeb852e7ace0a07b21": {
          "model_module": "@jupyter-widgets/controls",
          "model_name": "HTMLModel",
          "model_module_version": "1.5.0",
          "state": {
            "_dom_classes": [],
            "_model_module": "@jupyter-widgets/controls",
            "_model_module_version": "1.5.0",
            "_model_name": "HTMLModel",
            "_view_count": null,
            "_view_module": "@jupyter-widgets/controls",
            "_view_module_version": "1.5.0",
            "_view_name": "HTMLView",
            "description": "",
            "description_tooltip": null,
            "layout": "IPY_MODEL_7a6624d6d77b4129963edaeeb5792bc7",
            "placeholder": "​",
            "style": "IPY_MODEL_21d23efd8b6e4396a56ffdc5984837c9",
            "value": "100%"
          }
        },
        "9ada1b48f76f4fffa0d94a12243bfdcb": {
          "model_module": "@jupyter-widgets/controls",
          "model_name": "FloatProgressModel",
          "model_module_version": "1.5.0",
          "state": {
            "_dom_classes": [],
            "_model_module": "@jupyter-widgets/controls",
            "_model_module_version": "1.5.0",
            "_model_name": "FloatProgressModel",
            "_view_count": null,
            "_view_module": "@jupyter-widgets/controls",
            "_view_module_version": "1.5.0",
            "_view_name": "ProgressView",
            "bar_style": "success",
            "description": "",
            "description_tooltip": null,
            "layout": "IPY_MODEL_126f56f16c7d4100ba27160c788862ee",
            "max": 27,
            "min": 0,
            "orientation": "horizontal",
            "style": "IPY_MODEL_293a221cb72547c3bdc4eb32ff547ad0",
            "value": 27
          }
        },
        "fc4fbcc65df0433f9402d8d27d725bf9": {
          "model_module": "@jupyter-widgets/controls",
          "model_name": "HTMLModel",
          "model_module_version": "1.5.0",
          "state": {
            "_dom_classes": [],
            "_model_module": "@jupyter-widgets/controls",
            "_model_module_version": "1.5.0",
            "_model_name": "HTMLModel",
            "_view_count": null,
            "_view_module": "@jupyter-widgets/controls",
            "_view_module_version": "1.5.0",
            "_view_name": "HTMLView",
            "description": "",
            "description_tooltip": null,
            "layout": "IPY_MODEL_0534087df36e4734a7e1ac246ac2036c",
            "placeholder": "​",
            "style": "IPY_MODEL_cc4a294604794d4ca499768e620f8f3a",
            "value": " 27/27 [00:25&lt;00:00,  1.34it/s]"
          }
        },
        "029b060e4b364b17981b70b2946b0f3d": {
          "model_module": "@jupyter-widgets/base",
          "model_name": "LayoutModel",
          "model_module_version": "1.2.0",
          "state": {
            "_model_module": "@jupyter-widgets/base",
            "_model_module_version": "1.2.0",
            "_model_name": "LayoutModel",
            "_view_count": null,
            "_view_module": "@jupyter-widgets/base",
            "_view_module_version": "1.2.0",
            "_view_name": "LayoutView",
            "align_content": null,
            "align_items": null,
            "align_self": null,
            "border": null,
            "bottom": null,
            "display": null,
            "flex": null,
            "flex_flow": null,
            "grid_area": null,
            "grid_auto_columns": null,
            "grid_auto_flow": null,
            "grid_auto_rows": null,
            "grid_column": null,
            "grid_gap": null,
            "grid_row": null,
            "grid_template_areas": null,
            "grid_template_columns": null,
            "grid_template_rows": null,
            "height": null,
            "justify_content": null,
            "justify_items": null,
            "left": null,
            "margin": null,
            "max_height": null,
            "max_width": null,
            "min_height": null,
            "min_width": null,
            "object_fit": null,
            "object_position": null,
            "order": null,
            "overflow": null,
            "overflow_x": null,
            "overflow_y": null,
            "padding": null,
            "right": null,
            "top": null,
            "visibility": null,
            "width": null
          }
        },
        "7a6624d6d77b4129963edaeeb5792bc7": {
          "model_module": "@jupyter-widgets/base",
          "model_name": "LayoutModel",
          "model_module_version": "1.2.0",
          "state": {
            "_model_module": "@jupyter-widgets/base",
            "_model_module_version": "1.2.0",
            "_model_name": "LayoutModel",
            "_view_count": null,
            "_view_module": "@jupyter-widgets/base",
            "_view_module_version": "1.2.0",
            "_view_name": "LayoutView",
            "align_content": null,
            "align_items": null,
            "align_self": null,
            "border": null,
            "bottom": null,
            "display": null,
            "flex": null,
            "flex_flow": null,
            "grid_area": null,
            "grid_auto_columns": null,
            "grid_auto_flow": null,
            "grid_auto_rows": null,
            "grid_column": null,
            "grid_gap": null,
            "grid_row": null,
            "grid_template_areas": null,
            "grid_template_columns": null,
            "grid_template_rows": null,
            "height": null,
            "justify_content": null,
            "justify_items": null,
            "left": null,
            "margin": null,
            "max_height": null,
            "max_width": null,
            "min_height": null,
            "min_width": null,
            "object_fit": null,
            "object_position": null,
            "order": null,
            "overflow": null,
            "overflow_x": null,
            "overflow_y": null,
            "padding": null,
            "right": null,
            "top": null,
            "visibility": null,
            "width": null
          }
        },
        "21d23efd8b6e4396a56ffdc5984837c9": {
          "model_module": "@jupyter-widgets/controls",
          "model_name": "DescriptionStyleModel",
          "model_module_version": "1.5.0",
          "state": {
            "_model_module": "@jupyter-widgets/controls",
            "_model_module_version": "1.5.0",
            "_model_name": "DescriptionStyleModel",
            "_view_count": null,
            "_view_module": "@jupyter-widgets/base",
            "_view_module_version": "1.2.0",
            "_view_name": "StyleView",
            "description_width": ""
          }
        },
        "126f56f16c7d4100ba27160c788862ee": {
          "model_module": "@jupyter-widgets/base",
          "model_name": "LayoutModel",
          "model_module_version": "1.2.0",
          "state": {
            "_model_module": "@jupyter-widgets/base",
            "_model_module_version": "1.2.0",
            "_model_name": "LayoutModel",
            "_view_count": null,
            "_view_module": "@jupyter-widgets/base",
            "_view_module_version": "1.2.0",
            "_view_name": "LayoutView",
            "align_content": null,
            "align_items": null,
            "align_self": null,
            "border": null,
            "bottom": null,
            "display": null,
            "flex": null,
            "flex_flow": null,
            "grid_area": null,
            "grid_auto_columns": null,
            "grid_auto_flow": null,
            "grid_auto_rows": null,
            "grid_column": null,
            "grid_gap": null,
            "grid_row": null,
            "grid_template_areas": null,
            "grid_template_columns": null,
            "grid_template_rows": null,
            "height": null,
            "justify_content": null,
            "justify_items": null,
            "left": null,
            "margin": null,
            "max_height": null,
            "max_width": null,
            "min_height": null,
            "min_width": null,
            "object_fit": null,
            "object_position": null,
            "order": null,
            "overflow": null,
            "overflow_x": null,
            "overflow_y": null,
            "padding": null,
            "right": null,
            "top": null,
            "visibility": null,
            "width": null
          }
        },
        "293a221cb72547c3bdc4eb32ff547ad0": {
          "model_module": "@jupyter-widgets/controls",
          "model_name": "ProgressStyleModel",
          "model_module_version": "1.5.0",
          "state": {
            "_model_module": "@jupyter-widgets/controls",
            "_model_module_version": "1.5.0",
            "_model_name": "ProgressStyleModel",
            "_view_count": null,
            "_view_module": "@jupyter-widgets/base",
            "_view_module_version": "1.2.0",
            "_view_name": "StyleView",
            "bar_color": null,
            "description_width": ""
          }
        },
        "0534087df36e4734a7e1ac246ac2036c": {
          "model_module": "@jupyter-widgets/base",
          "model_name": "LayoutModel",
          "model_module_version": "1.2.0",
          "state": {
            "_model_module": "@jupyter-widgets/base",
            "_model_module_version": "1.2.0",
            "_model_name": "LayoutModel",
            "_view_count": null,
            "_view_module": "@jupyter-widgets/base",
            "_view_module_version": "1.2.0",
            "_view_name": "LayoutView",
            "align_content": null,
            "align_items": null,
            "align_self": null,
            "border": null,
            "bottom": null,
            "display": null,
            "flex": null,
            "flex_flow": null,
            "grid_area": null,
            "grid_auto_columns": null,
            "grid_auto_flow": null,
            "grid_auto_rows": null,
            "grid_column": null,
            "grid_gap": null,
            "grid_row": null,
            "grid_template_areas": null,
            "grid_template_columns": null,
            "grid_template_rows": null,
            "height": null,
            "justify_content": null,
            "justify_items": null,
            "left": null,
            "margin": null,
            "max_height": null,
            "max_width": null,
            "min_height": null,
            "min_width": null,
            "object_fit": null,
            "object_position": null,
            "order": null,
            "overflow": null,
            "overflow_x": null,
            "overflow_y": null,
            "padding": null,
            "right": null,
            "top": null,
            "visibility": null,
            "width": null
          }
        },
        "cc4a294604794d4ca499768e620f8f3a": {
          "model_module": "@jupyter-widgets/controls",
          "model_name": "DescriptionStyleModel",
          "model_module_version": "1.5.0",
          "state": {
            "_model_module": "@jupyter-widgets/controls",
            "_model_module_version": "1.5.0",
            "_model_name": "DescriptionStyleModel",
            "_view_count": null,
            "_view_module": "@jupyter-widgets/base",
            "_view_module_version": "1.2.0",
            "_view_name": "StyleView",
            "description_width": ""
          }
        }
      }
    }
  },
  "cells": [
    {
      "cell_type": "markdown",
      "metadata": {
        "id": "view-in-github",
        "colab_type": "text"
      },
      "source": [
        "<a href=\"https://colab.research.google.com/github/centuryglass/glid-3-xl-expanded-inpainting/blob/colab-refactor/Inpainting_backend_server.ipynb\" target=\"_parent\"><img src=\"https://colab.research.google.com/assets/colab-badge.svg\" alt=\"Open In Colab\"/></a>"
      ]
    },
    {
      "cell_type": "markdown",
      "source": [
        "# GLID-3-XL Inpainting UI backend server\n",
        "Runs image generation operations for the inpainting UI, so that you can use the UI without a powerful GPU.\n",
        "\n",
        "## Instructions:\n",
        "1. Run all cells in this notebook, \n",
        "2. You will be asked to provide access to Google Drive. This is used to store your ngrok authentication token and optionally to load cached models. If you don't want to use drive, set `use_google_drive=False` below before running.\n",
        "3. If you haven't run this before or you aren't using Google Drive, you will be prompted for an ngrok AuthToken in the first cell's output. This is required in order to connect to this server from the UI. You can sign up for an ngrok account for free at https://ngrok.com/, and you'll find your AuthToken at https://dashboard.ngrok.com/get-started/your-authtoken after logging in.\n",
        "4. Wait for the server to start. This may take a few minutes, especially if you need to download model files.\n",
        "5. Once you see `* Running on http://{Unique_session_id}.ngrok.io` in the output, the server is ready. Launch the inpainting UI, and enter in the ngrok.io link from the output when prompted for a server URL.\n",
        "\n",
        "Unless you're using a paid ngrok account, connections are limited to 20/minute. Consider using smaller batch counts to avoid having to wait for this limit to reset.  If you are using a paid ngrok account, launch the UI with the `--fast_ngrok_connection` flag set to use fast image loading.\n"
      ],
      "metadata": {
        "id": "Oqa2CUxXJEsI"
      }
    },
    {
      "cell_type": "code",
      "source": [
        "# Define settings, load models:\n",
        "\n",
        "# Google Drive options:\n",
        "# If use_google_drive=True, this will attempt to load your ngrok Authtoken and\n",
        "# model files from Google Drive. If models aren't in drive they will be \n",
        "# downloaded normally.\n",
        "use_google_drive=True\n",
        "drive_model_dir=\"inpainting\"\n",
        "\n",
        "# If you're using google drive and haven't already uploaded models, set this\n",
        "# to True and models will be uploaded to Drive so they can be loaded more\n",
        "# quickly next time.  This will require something like 6-10 GB of available\n",
        "# storage in Drive, depending on what models you're using.\n",
        "save_missing_models_to_drive=False\n",
        "\n",
        "# ML model options:\n",
        "# model_path sets the primary model name. Unless you have a custom inpainting\n",
        "# model that you're loading from Drive, you shouldn't change this.\n",
        "model_path = 'inpaint.pt'\n",
        "\n",
        "# Set clip_guidance to true for greater accuracy but reduced speed.\n",
        "# This requires Colab Pro, free Colab instances don't have enough GPU memory.\n",
        "# Currently untested, as I don't have Colab Pro.\n",
        "clip_guidance=False\n",
        "clip_guidance_scale=150\n",
        "\n",
        "# Set clip model to use, valid options are RN50, RN101, RN50x4, RN50x16, \n",
        "# RN50x64, ViT-B/32, ViT-B/16, ViT-L/14. Most of these are not working when\n",
        "# clip_guidance is true, but ViT-L/14 and RN50x16 might work on Colab Pro.\n",
        "clip_model_name = 'ViT-L/14'\n",
        "\n",
        "# Changing these will subtly alter the image generation process in ways I\n",
        "# haven't bothered to identify yet. You should just be able to leave them as-is\n",
        "# and still get good results:\n",
        "cutn=16\n",
        "ddim=False\n",
        "ddpm=False # Not working currently, leave this as False for now\n",
        "\n",
        "\n",
        "\n",
        "# Setup ngrok, google drive(if enabled):\n",
        "import os\n",
        "drive_path='/content/gdrive/MyDrive/'\n",
        "drive_model_dir=\"inpainting\"\n",
        "if use_google_drive:\n",
        "    from google.colab import drive\n",
        "    drive.mount('/content/gdrive')\n",
        "    if drive_model_dir:\n",
        "      drive_path = drive_path + drive_model_dir + '/'\n",
        "      if not os.path.exists(drive_path):\n",
        "        os.mkdir(drive_path)\n",
        "\n",
        "# load authtoken from Drive if possible, otherwise prompt for input:\n",
        "authtoken = None\n",
        "if use_google_drive and os.path.isfile(drive_path + 'ngrok-Authtoken.txt'):\n",
        "  with open(drive_path + 'ngrok-Authtoken.txt', 'r', newline='') as tokenFile:\n",
        "    authtoken = tokenFile.read()\n",
        "if authtoken is None:\n",
        "  from getpass import getpass\n",
        "  authtoken = getpass('Enter ngrok Authtoken:')\n",
        "  if use_google_drive:\n",
        "    with open(drive_path + 'ngrok-Authtoken.txt', 'w', newline='') as tokenFile:\n",
        "      tokenFile.write(authtoken)\n",
        "\n",
        "# install dependencies:\n",
        "import os, sys\n",
        "!pip install ipywidgets omegaconf>=2.0.0 pytorch-lightning>=1.0.8 torch-fidelity einops ftfy regex tqdm transformers flask flask_cors flask_ngrok pyngrok\n",
        "!pip install git+https://github.com/openai/CLIP.git\n",
        "%cd /content\n",
        "for compVisDep in ['taming-transformers', 'latent-diffusion']:\n",
        "  if not os.path.exists(compVisDep):\n",
        "    !git clone https://github.com/CompVis/{compVisDep}.git\n",
        "    !pip install -e {compVisDep}\n",
        "    sys.path.append(f'/content/{compVisDep}')\n",
        "if not os.path.exists('glid-3-xl-expanded-inpainting'):\n",
        "  !git clone https://github.com/centuryglass/glid-3-xl-expanded-inpainting\n",
        "%cd glid-3-xl-expanded-inpainting\n",
        "!git fetch origin\n",
        "!git checkout origin/colab-refactor\n",
        "!pip install -e .\n",
        "\n",
        "# download required models:\n",
        "if use_google_drive:\n",
        "    from google.colab import drive\n",
        "    drive.mount('/content/gdrive')\n",
        "\n",
        "for model in ['bert.pt', 'kl-f8.pt', model_path]:\n",
        "    if use_google_drive and not os.path.isfile(model) and os.path.isfile(f'{drive_path}{model}'):\n",
        "      !cp '{drive_path}{model}' .\n",
        "    if not os.path.isfile(model):\n",
        "      !wget 'https://dall-3.com/models/glid-3-xl/{model}'\n",
        "    if os.path.isfile(model):\n",
        "      print(f\"model file '{model}' obtained.\")\n",
        "      if use_google_drive and save_missing_models_to_drive and not os.path.isfile(f'{drive_path}{model}'):\n",
        "        !cp '{model}' '{drive_path}{model}'\n",
        "        if os.path.isfile(f'{drive_path}{model}'):\n",
        "          print(f'saved {model} to google drive')\n",
        "        else:\n",
        "          print(f'error: unable to save {model} to google drive')\n",
        "    else:\n",
        "      print(f\"error: failed to get required model file '{model}'!\")\n",
        "\n",
        "# load all models: \n",
        "import torch\n",
        "import gc\n",
        "gc.collect()\n",
        "device = torch.device('cuda:0')\n",
        "from startup.load_models import loadModels\n",
        "model_params, model, diffusion, ldm, bert, clip_model, clip_preprocess, normalize = loadModels(\n",
        "    device,\n",
        "    model_path=model_path,\n",
        "    clip_model_name=clip_model_name,\n",
        "    clip_guidance=clip_guidance,\n",
        "    ddpm=ddpm,\n",
        "    ddim=ddim)"
      ],
      "metadata": {
        "id": "D9GdtsHq494q",
        "colab": {
          "base_uri": "https://localhost:8080/",
          "height": 1000,
          "referenced_widgets": [
            "435b8804c91e4bf6ab6d0c4a3e59e254",
            "90387b5856b1471c8c517de7ca1e22c1",
            "5151a4ae8eb64a16b5232b3ee6e8395b",
            "27ecdaf0bce44a4ebfa2ec8f11b51bac",
            "4187bbe176414ba1952184dc2a7f2c5a",
            "e78475e378fd487cac592c44c9341795",
            "4bf2a227ce284c8c821dc29b8060382b",
            "1075b147d48c4680953a060a2c4f73d7",
            "caf2a54915b346079fa2be24f95dbd63",
            "85c2678910fb4b26a199f1b982961d4f",
            "7726d7c430cb4358a9cfc2814fc2aad7",
            "a9f473c8892b45f999b61b7364141ca7",
            "6a547a4160e94ca2b51f8d72fa7f13f2",
            "805f5abc8dee49b486374a9004841590",
            "455372b277f84e51b7653e9e99e8672c",
            "184efe166edd4254a8baf6133c32e8c9",
            "caf3fd2bac60469cb12cc7adb8bae834",
            "633f379d7ded43fca1964b90f9e33348",
            "9c6b05712a7f4c41bdd417c4099b1914",
            "e01cd2ce021d4fe4890c655b1c3def13",
            "bb094d8cd04a4582a41d5f965f9fde7a",
            "832b29f214854f66825d5a9efa6009bd",
            "cacd1cb1ab004719b434c3aa300523d1",
            "2704649b14ec46f88f1285e1b1331720",
            "0de9886f9a5c423db6f833d4ae565427",
            "203fa6b34b754f0a951492de705efb95",
            "1744b8cfb4cd4f99813a9c62e432c966",
            "3ae464ba17d54350912a8a9afde98baf",
            "c256c163d2374bb68d6b7b0585fa4171",
            "d0f1abbeefe74b59930ce58fa5a92405",
            "59385ff65fe24f8cb9eed5ca10143afd",
            "c0e12b27d07f407fa964e402458405d1",
            "6b441e05af9d40588c088d02753e7872",
            "8618f48e088c4950860e4eb99a1c0859",
            "b72c52f006a54a0aac70a2991e411210",
            "0893ba68ce024cff8ec49aa619537816",
            "3f31450e503941589044aa74a9d4dbb7",
            "c3dc25811dd844e5ad3fd2f0fda9de0a",
            "5f92945fe21940cb8f1033bc17ff8fd5",
            "c8bfb821d61a4a0c98dd94924a0451c3",
            "0fedfda36f1d4aeb8ac622a4ea050eb6",
            "7e6734b6333344f8bbfc0360668c52f3",
            "b037be6c58444574a04a6ebb1a14322f",
            "983c26ad7c104413b3d36b66fa97f0fd"
          ]
        },
        "outputId": "f20377b5-fc4b-4385-b629-fc1ff1c89b63"
      },
      "execution_count": 1,
      "outputs": [
        {
          "output_type": "stream",
          "name": "stdout",
          "text": [
            "Mounted at /content/gdrive\n",
            "Looking in indexes: https://pypi.org/simple, https://us-python.pkg.dev/colab-wheels/public/simple/\n",
            "Collecting git+https://github.com/openai/CLIP.git\n",
            "  Cloning https://github.com/openai/CLIP.git to /tmp/pip-req-build-zqvtntc3\n",
            "  Running command git clone -q https://github.com/openai/CLIP.git /tmp/pip-req-build-zqvtntc3\n",
            "Requirement already satisfied: ftfy in /usr/local/lib/python3.7/dist-packages (from clip==1.0) (6.1.1)\n",
            "Requirement already satisfied: regex in /usr/local/lib/python3.7/dist-packages (from clip==1.0) (2022.6.2)\n",
            "Requirement already satisfied: tqdm in /usr/local/lib/python3.7/dist-packages (from clip==1.0) (4.64.0)\n",
            "Requirement already satisfied: torch in /usr/local/lib/python3.7/dist-packages (from clip==1.0) (1.11.0+cu113)\n",
            "Requirement already satisfied: torchvision in /usr/local/lib/python3.7/dist-packages (from clip==1.0) (0.12.0+cu113)\n",
            "Requirement already satisfied: wcwidth>=0.2.5 in /usr/local/lib/python3.7/dist-packages (from ftfy->clip==1.0) (0.2.5)\n",
            "Requirement already satisfied: typing-extensions in /usr/local/lib/python3.7/dist-packages (from torch->clip==1.0) (4.1.1)\n",
            "Requirement already satisfied: pillow!=8.3.*,>=5.3.0 in /usr/local/lib/python3.7/dist-packages (from torchvision->clip==1.0) (7.1.2)\n",
            "Requirement already satisfied: numpy in /usr/local/lib/python3.7/dist-packages (from torchvision->clip==1.0) (1.21.6)\n",
            "Requirement already satisfied: requests in /usr/local/lib/python3.7/dist-packages (from torchvision->clip==1.0) (2.23.0)\n",
            "Requirement already satisfied: urllib3!=1.25.0,!=1.25.1,<1.26,>=1.21.1 in /usr/local/lib/python3.7/dist-packages (from requests->torchvision->clip==1.0) (1.24.3)\n",
            "Requirement already satisfied: idna<3,>=2.5 in /usr/local/lib/python3.7/dist-packages (from requests->torchvision->clip==1.0) (2.10)\n",
            "Requirement already satisfied: certifi>=2017.4.17 in /usr/local/lib/python3.7/dist-packages (from requests->torchvision->clip==1.0) (2022.6.15)\n",
            "Requirement already satisfied: chardet<4,>=3.0.2 in /usr/local/lib/python3.7/dist-packages (from requests->torchvision->clip==1.0) (3.0.4)\n",
            "Building wheels for collected packages: clip\n",
            "  Building wheel for clip (setup.py) ... \u001b[?25l\u001b[?25hdone\n",
            "  Created wheel for clip: filename=clip-1.0-py3-none-any.whl size=1369387 sha256=119bdded15767562e8f93cc587f0cca119dba81a8da09fcc2eb6200b3b63312b\n",
            "  Stored in directory: /tmp/pip-ephem-wheel-cache-tz9_e6wa/wheels/fd/b9/c3/5b4470e35ed76e174bff77c92f91da82098d5e35fd5bc8cdac\n",
            "Successfully built clip\n",
            "Installing collected packages: clip\n",
            "Successfully installed clip-1.0\n",
            "/content\n",
            "Cloning into 'taming-transformers'...\n",
            "remote: Enumerating objects: 1335, done.\u001b[K\n",
            "remote: Total 1335 (delta 0), reused 0 (delta 0), pack-reused 1335\u001b[K\n",
            "Receiving objects: 100% (1335/1335), 409.77 MiB | 37.59 MiB/s, done.\n",
            "Resolving deltas: 100% (278/278), done.\n",
            "Looking in indexes: https://pypi.org/simple, https://us-python.pkg.dev/colab-wheels/public/simple/\n",
            "Obtaining file:///content/taming-transformers\n",
            "Requirement already satisfied: torch in /usr/local/lib/python3.7/dist-packages (from taming-transformers==0.0.1) (1.11.0+cu113)\n",
            "Requirement already satisfied: numpy in /usr/local/lib/python3.7/dist-packages (from taming-transformers==0.0.1) (1.21.6)\n",
            "Requirement already satisfied: tqdm in /usr/local/lib/python3.7/dist-packages (from taming-transformers==0.0.1) (4.64.0)\n",
            "Requirement already satisfied: typing-extensions in /usr/local/lib/python3.7/dist-packages (from torch->taming-transformers==0.0.1) (4.1.1)\n",
            "Installing collected packages: taming-transformers\n",
            "  Running setup.py develop for taming-transformers\n",
            "Successfully installed taming-transformers-0.0.1\n",
            "Cloning into 'latent-diffusion'...\n",
            "remote: Enumerating objects: 282, done.\u001b[K\n",
            "remote: Total 282 (delta 0), reused 0 (delta 0), pack-reused 282\u001b[K\n",
            "Receiving objects: 100% (282/282), 28.39 MiB | 26.60 MiB/s, done.\n",
            "Resolving deltas: 100% (105/105), done.\n",
            "Looking in indexes: https://pypi.org/simple, https://us-python.pkg.dev/colab-wheels/public/simple/\n",
            "Obtaining file:///content/latent-diffusion\n",
            "Requirement already satisfied: torch in /usr/local/lib/python3.7/dist-packages (from latent-diffusion==0.0.1) (1.11.0+cu113)\n",
            "Requirement already satisfied: numpy in /usr/local/lib/python3.7/dist-packages (from latent-diffusion==0.0.1) (1.21.6)\n",
            "Requirement already satisfied: tqdm in /usr/local/lib/python3.7/dist-packages (from latent-diffusion==0.0.1) (4.64.0)\n",
            "Requirement already satisfied: typing-extensions in /usr/local/lib/python3.7/dist-packages (from torch->latent-diffusion==0.0.1) (4.1.1)\n",
            "Installing collected packages: latent-diffusion\n",
            "  Running setup.py develop for latent-diffusion\n",
            "Successfully installed latent-diffusion-0.0.1\n",
            "Cloning into 'glid-3-xl-expanded-inpainting'...\n",
            "remote: Enumerating objects: 250, done.\u001b[K\n",
            "remote: Counting objects: 100% (136/136), done.\u001b[K\n",
            "remote: Compressing objects: 100% (67/67), done.\u001b[K\n",
            "remote: Total 250 (delta 85), reused 99 (delta 68), pack-reused 114\u001b[K\n",
            "Receiving objects: 100% (250/250), 2.67 MiB | 20.70 MiB/s, done.\n",
            "Resolving deltas: 100% (112/112), done.\n",
            "/content/glid-3-xl-expanded-inpainting\n",
            "Note: checking out 'origin/colab-refactor'.\n",
            "\n",
            "You are in 'detached HEAD' state. You can look around, make experimental\n",
            "changes and commit them, and you can discard any commits you make in this\n",
            "state without impacting any branches by performing another checkout.\n",
            "\n",
            "If you want to create a new branch to retain commits you create, you may\n",
            "do so (now or later) by using -b with the checkout command again. Example:\n",
            "\n",
            "  git checkout -b <new-branch-name>\n",
            "\n",
            "HEAD is now at 6a1a0d6 Fix dependency init error\n",
            "Looking in indexes: https://pypi.org/simple, https://us-python.pkg.dev/colab-wheels/public/simple/\n",
            "Obtaining file:///content/glid-3-xl-expanded-inpainting\n",
            "Collecting blobfile>=1.0.5\n",
            "  Downloading blobfile-1.3.1-py3-none-any.whl (70 kB)\n",
            "\u001b[K     |████████████████████████████████| 70 kB 5.3 MB/s \n",
            "\u001b[?25hRequirement already satisfied: torch in /usr/local/lib/python3.7/dist-packages (from guided-diffusion==0.0.0) (1.11.0+cu113)\n",
            "Requirement already satisfied: tqdm in /usr/local/lib/python3.7/dist-packages (from guided-diffusion==0.0.0) (4.64.0)\n",
            "Collecting urllib3~=1.25\n",
            "  Downloading urllib3-1.26.10-py2.py3-none-any.whl (139 kB)\n",
            "\u001b[K     |████████████████████████████████| 139 kB 16.3 MB/s \n",
            "\u001b[?25hCollecting xmltodict~=0.12.0\n",
            "  Downloading xmltodict-0.12.0-py2.py3-none-any.whl (9.2 kB)\n",
            "Collecting pycryptodomex~=3.8\n",
            "  Downloading pycryptodomex-3.15.0-cp35-abi3-manylinux2010_x86_64.whl (2.3 MB)\n",
            "\u001b[K     |████████████████████████████████| 2.3 MB 75.2 MB/s \n",
            "\u001b[?25hRequirement already satisfied: filelock~=3.0 in /usr/local/lib/python3.7/dist-packages (from blobfile>=1.0.5->guided-diffusion==0.0.0) (3.7.1)\n",
            "Requirement already satisfied: typing-extensions in /usr/local/lib/python3.7/dist-packages (from torch->guided-diffusion==0.0.0) (4.1.1)\n",
            "Installing collected packages: xmltodict, urllib3, pycryptodomex, blobfile, guided-diffusion\n",
            "  Attempting uninstall: urllib3\n",
            "    Found existing installation: urllib3 1.24.3\n",
            "    Uninstalling urllib3-1.24.3:\n",
            "      Successfully uninstalled urllib3-1.24.3\n",
            "  Running setup.py develop for guided-diffusion\n",
            "\u001b[31mERROR: pip's dependency resolver does not currently take into account all the packages that are installed. This behaviour is the source of the following dependency conflicts.\n",
            "requests 2.23.0 requires urllib3!=1.25.0,!=1.25.1,<1.26,>=1.21.1, but you have urllib3 1.26.10 which is incompatible.\n",
            "datascience 0.10.6 requires folium==0.2.1, but you have folium 0.8.3 which is incompatible.\u001b[0m\n",
            "Successfully installed blobfile-1.3.1 guided-diffusion-0.0.0 pycryptodomex-3.15.0 urllib3-1.26.10 xmltodict-0.12.0\n",
            "Drive already mounted at /content/gdrive; to attempt to forcibly remount, call drive.mount(\"/content/gdrive\", force_remount=True).\n",
            "model file 'bert.pt' obtained.\n",
            "model file 'kl-f8.pt' obtained.\n",
            "model file 'inpaint.pt' obtained.\n"
          ]
        },
        {
          "output_type": "stream",
          "name": "stderr",
          "text": [
            "/usr/local/lib/python3.7/dist-packages/requests/__init__.py:91: RequestsDependencyWarning: urllib3 (1.26.10) or chardet (3.0.4) doesn't match a supported version!\n",
            "  RequestsDependencyWarning)\n"
          ]
        },
        {
          "output_type": "stream",
          "name": "stdout",
          "text": [
            "loaded and configured primary model from inpaint.pt\n",
            "loaded and configured latent diffusion model from kl-f8.pt\n"
          ]
        },
        {
          "output_type": "display_data",
          "data": {
            "text/plain": [
              "Downloading:   0%|          | 0.00/28.0 [00:00<?, ?B/s]"
            ],
            "application/vnd.jupyter.widget-view+json": {
              "version_major": 2,
              "version_minor": 0,
              "model_id": "435b8804c91e4bf6ab6d0c4a3e59e254"
            }
          },
          "metadata": {}
        },
        {
          "output_type": "display_data",
          "data": {
            "text/plain": [
              "Downloading:   0%|          | 0.00/226k [00:00<?, ?B/s]"
            ],
            "application/vnd.jupyter.widget-view+json": {
              "version_major": 2,
              "version_minor": 0,
              "model_id": "a9f473c8892b45f999b61b7364141ca7"
            }
          },
          "metadata": {}
        },
        {
          "output_type": "display_data",
          "data": {
            "text/plain": [
              "Downloading:   0%|          | 0.00/455k [00:00<?, ?B/s]"
            ],
            "application/vnd.jupyter.widget-view+json": {
              "version_major": 2,
              "version_minor": 0,
              "model_id": "cacd1cb1ab004719b434c3aa300523d1"
            }
          },
          "metadata": {}
        },
        {
          "output_type": "display_data",
          "data": {
            "text/plain": [
              "Downloading:   0%|          | 0.00/570 [00:00<?, ?B/s]"
            ],
            "application/vnd.jupyter.widget-view+json": {
              "version_major": 2,
              "version_minor": 0,
              "model_id": "8618f48e088c4950860e4eb99a1c0859"
            }
          },
          "metadata": {}
        },
        {
          "output_type": "stream",
          "name": "stdout",
          "text": [
            "loaded and configured BERT model from bert.pt\n"
          ]
        },
        {
          "output_type": "stream",
          "name": "stderr",
          "text": [
            "100%|███████████████████████████████████████| 890M/890M [00:17<00:00, 52.4MiB/s]\n"
          ]
        },
        {
          "output_type": "stream",
          "name": "stdout",
          "text": [
            "loaded and configured CLIP model from ViT-L/14\n"
          ]
        }
      ]
    },
    {
      "cell_type": "code",
      "source": [
        "from flask_ngrok import run_with_ngrok\n",
        "from colabFiles.server import startServer\n",
        "app = startServer(device, model_params, model, diffusion, ldm, bert, clip_model, clip_preprocess, normalize)\n",
        "run_with_ngrok(app)\n",
        "app.run()\n"
      ],
      "metadata": {
        "id": "5MSOV77VYrMV",
        "colab": {
          "base_uri": "https://localhost:8080/",
          "height": 1000,
          "referenced_widgets": [
            "c737e1169c94420a895ffdf281309532",
            "3e76e11dd22249129e8b941f259c2cf1",
            "760cc3aa4d744dda9a93b219614a2e48",
            "d10159f90ec54c7badb9a22b98d3df8a",
            "6d4a37c7a4ea4cfaaf1cb23da8f5ba58",
            "0bd8a53ad416460cbdf94cb6e88024f1",
            "8ff35030bcb34ef5a9ae2df5a748009e",
            "fc9b67659f9749a7af1b4ddcb55dc8c0",
            "e9432063fd764b9bac737ecaadf4165f",
            "1e24bb5f736e42b1a2ca592c86c68036",
            "06a9807de64e4721ac98f839ad587917",
            "1584071b343c41b993f6f85eb5652154",
            "6b7f3388de1b471687ec9fa19b474666",
            "1d010df9bbc644f6bdf2aec112468a96",
            "743f90cb965748e385768d97cf633b64",
            "3e5a9e7fdcfd47d4aaf34c01f9bbd635",
            "39c4c06c0f9648b0b53286c803eeb0e9",
            "35ed1061bd1b422bbb6b5c46c41600ed",
            "bb4140fb691540fc86c9d5c983012903",
            "76e444fef659419f9647b04e331ea7ed",
            "98b947c561d94b379b565e5a9b67ae2f",
            "c51f7425d24b43998e14e4b628a7bca4",
            "378e20ffb3d5403086b834a3717452a5",
            "7a253ea7cf984abe855eaf80d2eb2c83",
            "a12e5df7d1194443a88e56f56d26e62f",
            "6a2cf59b9e314797949d322bba1a7d37",
            "4350d9ff2e2f4c11831f50e448e4bb1b",
            "160c9f60da974937a836578abc647bfe",
            "7a364d5f196344d8a632239871b06adb",
            "8341efa33a4f47b597471c7d34dc1c6d",
            "719deca264244e978506e757b3fb6850",
            "03d16e054e954dd78d08cb508fc44a47",
            "b1c6bcd5a7e74145b76554640056a6fb",
            "1b61d7f560c6420694933294468c4ac3",
            "8b4108655ef24bc89b5becf611da8bef",
            "730caf91a338450a890c7cf8b332d97a",
            "7e5a03e6c8784b5e8772e5537c6d4364",
            "0899e17963654511ab371eadd90a8145",
            "288878061e2e40fdaa1bb38eaa1856b9",
            "318179cfb8d14ca89b686b226b81a9d2",
            "de0cce5b2ef34f31aa14d3bf7c83476e",
            "ad72f0e06c5f4009bca3efd4b8532e45",
            "153c035adbbf40b5ad01e5db8f2ae76a",
            "b52591f3c38541db9f31773d42fd351b",
            "54a37b32ec304e27b26738a7cee52d98",
            "f20545a860d1442f81aab344eb2a7fcd",
            "15ba8bc958ef4c6b88ad296977a4a50d",
            "8ee44f0360ea4651a5e45a464f33965f",
            "0ad44ad015994649b2ab829eeceb8c2b",
            "9de7359e41f84ecf86a9e6ef5c31ffad",
            "c730b9565b1546ba90bd5862bc6965fa",
            "7400aafca60042a5b786eb9e52bd52bf",
            "e3c36187bd4d435c8e45d401282f9731",
            "7f8b5aa464fb48e6af9ee9699eaa1fef",
            "4d4ad8707fe24a87951283c7002ec911",
            "494b88db1a064616b40122bd54646e82",
            "f0cd8493cd9d4af0a4fb43ca3d6e6bd9",
            "72fc4670cffd4f288753ffea6141ec1f",
            "30f392feddd5499fa459588bca69a445",
            "cc4c16ee5946465cb60a73587b59d57a",
            "13597030658d40c39dbf94ca7d8273aa",
            "ebc502548d084735bafe629bf19fcdb2",
            "a0c8144fed58416397b1feddd3154799",
            "3953d96ab94340febc5272c4a38f9531",
            "d075eb8828da420e8fae7fa137036139",
            "815ff84812f14e8783e02ee074d817f6",
            "5c4e104d391942bb9e2561ca8b4f3605",
            "a330d4f2730043469f0bb54644f2f1fc",
            "31135b7c10a849e9b8abb7e419a89fa7",
            "171d1110eb774441a87614571a9c92eb",
            "e2e39c34fda548a0b24e27b069b294ab",
            "f25242cdbe73426d9f8130f4b3bc871c",
            "eea0274045794b8cae5a6e017e867d79",
            "8c92b80d15b3425ab0dfdb99b36ef0b8",
            "1b4a7ab9a9b04137811f789221fa24e5",
            "8104fdbdd4bc4a568853d52a18202766",
            "8509d13ef1844138b0a3c1a904680804",
            "1b415239b6cb4b799555eb59d8893c10",
            "e85063583fc24c35ad53f413a4bfa904",
            "d8f9f56f305e49b68b7f7265bd32cad4",
            "78002a176a3641ee97d4e8365d1c6b2e",
            "f2389a31342d4688b676ba321a956ac4",
            "1d39a6bc43654f7781a32a50f59e135f",
            "758b9c90c46443b093de9a1ec4d893d4",
            "2bdc6e0ac1f5477282ff9d52f7ee6ca6",
            "ee88b98eeb4e4730a703e580eac31c71",
            "a98a248423c94c1f8ce4ed8ea799d7cb",
            "d1436ff8b3444353b4ecd1024f3f7376",
            "3b730e500463481cbfc14c6daf674ae0",
            "39c06ceb032443c19d5da900e6c0873c",
            "fb7efd12a5484c1eae5901aa5200fc6d",
            "6a365d7e42f142c08ee50e9a6477fbdb",
            "5c6346adafc1450f99df95e31e05dfa6",
            "af81f6896b594fefb7f28275ee50fe2f",
            "217044236a444ea4a88c96cc940f3733",
            "05c04623bc4943728724ca2ef780271c",
            "602ccae0654d4cc69b54216fe3c1a3ae",
            "653550aecc9a45b885014abcebe2c974",
            "9214a30969164cc380b25356f6e2bee0",
            "dfa08b20b1154d5ca0c4f1c60c7fd0ed",
            "56b6fb321c4848bcaa9b4c1108ae6b37",
            "5d9641ac22be44d4837f9ae2fc287918",
            "a5c9b186b7ae4f38927da3f5102f3276",
            "c7e5833e838f4f6b9dc12f6b505016f2",
            "75502ab756784e38a6a76287ad3a9eae",
            "2390446422354406853d02d58f6c175f",
            "bf7f14d995834e29a5f5b20f43bb4a3c",
            "69bdddc261434af99618ec6d96ae8549",
            "0d1a4c1123c8451493634654c71c280d",
            "aca36466189e48869d7d6bc82b44f47c",
            "fda011c8fe8447a3b23ba4e4dddd2ac2",
            "fa3882b2a1864e728092ebab7ff32980",
            "0c1af9569dd04968bae07973af2a6cfd",
            "fd4bf460dcb643799a14dd8512542ed9",
            "71cc2e3716c44336b6c64365bfcabf06",
            "9bb91cb74db24a8eb165bbca0febca5b",
            "37cb25b20c64410e9aae74cca9e7082b",
            "0d5fb647797349218031f691fcd6c03b",
            "36f4d26e9be149659bdd7c46aca84ddd",
            "767907e1c59f4294b814e0845d9db160",
            "f1b0defd35e34ccb93d0c018b1df015f",
            "5249551377d7432da9d7dc5626ecd8e2",
            "d2596191532041eeb852e7ace0a07b21",
            "9ada1b48f76f4fffa0d94a12243bfdcb",
            "fc4fbcc65df0433f9402d8d27d725bf9",
            "029b060e4b364b17981b70b2946b0f3d",
            "7a6624d6d77b4129963edaeeb5792bc7",
            "21d23efd8b6e4396a56ffdc5984837c9",
            "126f56f16c7d4100ba27160c788862ee",
            "293a221cb72547c3bdc4eb32ff547ad0",
            "0534087df36e4734a7e1ac246ac2036c",
            "cc4a294604794d4ca499768e620f8f3a"
          ]
        },
        "outputId": "ef9eab27-56e1-4e27-db31-42e490b88545"
      },
      "execution_count": null,
      "outputs": [
        {
          "output_type": "stream",
          "name": "stdout",
          "text": [
            "Starting server...\n",
            " * Serving Flask app \"colabFiles.server\" (lazy loading)\n",
            " * Environment: production\n",
            "\u001b[31m   WARNING: This is a development server. Do not use it in a production deployment.\u001b[0m\n",
            "\u001b[2m   Use a production WSGI server instead.\u001b[0m\n",
            " * Debug mode: off\n"
          ]
        },
        {
          "output_type": "stream",
          "name": "stderr",
          "text": [
            " * Running on http://127.0.0.1:5000/ (Press CTRL+C to quit)\n"
          ]
        },
        {
          "output_type": "stream",
          "name": "stdout",
          "text": [
            " * Running on http://e024-35-247-18-54.ngrok.io\n",
            " * Traffic stats available on http://127.0.0.1:4040\n"
          ]
        },
        {
          "output_type": "stream",
          "name": "stderr",
          "text": [
            "127.0.0.1 - - [09/Jul/2022 19:54:24] \"\u001b[37mGET / HTTP/1.1\u001b[0m\" 200 -\n",
            "127.0.0.1 - - [09/Jul/2022 19:56:13] \"\u001b[37mGET / HTTP/1.1\u001b[0m\" 200 -\n",
            "127.0.0.1 - - [09/Jul/2022 19:57:36] \"\u001b[37mGET / HTTP/1.1\u001b[0m\" 200 -\n",
            "127.0.0.1 - - [09/Jul/2022 19:58:04] \"\u001b[37mGET / HTTP/1.1\u001b[0m\" 200 -\n",
            "127.0.0.1 - - [09/Jul/2022 19:58:18] \"\u001b[37mPOST / HTTP/1.1\u001b[0m\" 200 -\n"
          ]
        },
        {
          "output_type": "display_data",
          "data": {
            "text/plain": [
              "  0%|          | 0/27 [00:00<?, ?it/s]"
            ],
            "application/vnd.jupyter.widget-view+json": {
              "version_major": 2,
              "version_minor": 0,
              "model_id": "c737e1169c94420a895ffdf281309532"
            }
          },
          "metadata": {}
        },
        {
          "output_type": "stream",
          "name": "stdout",
          "text": [
            "Created 00000 at 1657396700.868071\n",
            "Created 00001 at 1657396700.868071\n",
            "Created 00002 at 1657396700.868071\n",
            "Created 00003 at 1657396700.868071\n",
            "Created 00004 at 1657396700.868071\n",
            "Created 00000 at 1657396707.470361\n",
            "Created 00001 at 1657396707.470361\n",
            "Created 00002 at 1657396707.470361\n",
            "Created 00003 at 1657396707.470361\n",
            "Created 00004 at 1657396707.470361\n",
            "Created 00000 at 1657396710.868429\n",
            "Created 00001 at 1657396710.868429\n",
            "Created 00002 at 1657396710.868429\n",
            "Created 00003 at 1657396710.868429\n",
            "Created 00004 at 1657396710.868429\n",
            "Created 00000 at 1657396714.279806\n",
            "Created 00001 at 1657396714.279806\n",
            "Created 00002 at 1657396714.279806\n",
            "Created 00003 at 1657396714.279806\n",
            "Created 00004 at 1657396714.279806\n",
            "Created 00000 at 1657396717.726956\n",
            "Created 00001 at 1657396717.726956\n",
            "Created 00002 at 1657396717.726956\n",
            "Created 00003 at 1657396717.726956\n",
            "Created 00004 at 1657396717.726956\n",
            "Created 00000 at 1657396721.14662\n",
            "Created 00001 at 1657396721.14662\n",
            "Created 00002 at 1657396721.14662\n",
            "Created 00003 at 1657396721.14662\n",
            "Created 00004 at 1657396721.14662\n",
            "Created 00000 at 1657396722.344416\n",
            "Created 00001 at 1657396722.344416\n",
            "Created 00002 at 1657396722.344416\n",
            "Created 00003 at 1657396722.344416\n",
            "Created 00004 at 1657396722.344416\n"
          ]
        },
        {
          "output_type": "display_data",
          "data": {
            "text/plain": [
              "  0%|          | 0/27 [00:00<?, ?it/s]"
            ],
            "application/vnd.jupyter.widget-view+json": {
              "version_major": 2,
              "version_minor": 0,
              "model_id": "1584071b343c41b993f6f85eb5652154"
            }
          },
          "metadata": {}
        },
        {
          "output_type": "stream",
          "name": "stdout",
          "text": [
            "Created 00005 at 1657396725.246651\n",
            "Created 00006 at 1657396725.246651\n",
            "Created 00007 at 1657396725.246651\n",
            "Created 00008 at 1657396725.246651\n",
            "Created 00009 at 1657396725.246651\n",
            "Created 00005 at 1657396732.168842\n",
            "Created 00006 at 1657396732.168842\n",
            "Created 00007 at 1657396732.168842\n",
            "Created 00008 at 1657396732.168842\n",
            "Created 00009 at 1657396732.168842\n",
            "Created 00005 at 1657396735.713283\n",
            "Created 00006 at 1657396735.713283\n",
            "Created 00007 at 1657396735.713283\n",
            "Created 00008 at 1657396735.713283\n",
            "Created 00009 at 1657396735.713283\n",
            "Created 00005 at 1657396739.283299\n",
            "Created 00006 at 1657396739.283299\n",
            "Created 00007 at 1657396739.283299\n",
            "Created 00008 at 1657396739.283299\n",
            "Created 00009 at 1657396739.283299\n",
            "Created 00005 at 1657396742.888135\n",
            "Created 00006 at 1657396742.888135\n",
            "Created 00007 at 1657396742.888135\n",
            "Created 00008 at 1657396742.888135\n",
            "Created 00009 at 1657396742.888135\n",
            "Created 00005 at 1657396746.538164\n",
            "Created 00006 at 1657396746.538164\n",
            "Created 00007 at 1657396746.538164\n",
            "Created 00008 at 1657396746.538164\n",
            "Created 00009 at 1657396746.538164\n",
            "Created 00005 at 1657396747.800782\n",
            "Created 00006 at 1657396747.800782\n",
            "Created 00007 at 1657396747.800782\n",
            "Created 00008 at 1657396747.800782\n",
            "Created 00009 at 1657396747.800782\n"
          ]
        },
        {
          "output_type": "stream",
          "name": "stderr",
          "text": [
            "127.0.0.1 - - [09/Jul/2022 19:59:47] \"\u001b[37mGET / HTTP/1.1\u001b[0m\" 200 -\n",
            "127.0.0.1 - - [09/Jul/2022 20:00:03] \"\u001b[37mPOST / HTTP/1.1\u001b[0m\" 200 -\n"
          ]
        },
        {
          "output_type": "display_data",
          "data": {
            "text/plain": [
              "  0%|          | 0/27 [00:00<?, ?it/s]"
            ],
            "application/vnd.jupyter.widget-view+json": {
              "version_major": 2,
              "version_minor": 0,
              "model_id": "378e20ffb3d5403086b834a3717452a5"
            }
          },
          "metadata": {}
        },
        {
          "output_type": "stream",
          "name": "stderr",
          "text": [
            "127.0.0.1 - - [09/Jul/2022 20:00:03] \"\u001b[37mGET //sample HTTP/1.1\u001b[0m\" 200 -\n",
            "127.0.0.1 - - [09/Jul/2022 20:00:03] \"\u001b[37mGET //sample HTTP/1.1\u001b[0m\" 200 -\n",
            "127.0.0.1 - - [09/Jul/2022 20:00:04] \"\u001b[37mGET //sample HTTP/1.1\u001b[0m\" 200 -\n",
            "127.0.0.1 - - [09/Jul/2022 20:00:04] \"\u001b[37mGET //sample HTTP/1.1\u001b[0m\" 200 -\n",
            "127.0.0.1 - - [09/Jul/2022 20:00:04] \"\u001b[37mGET //sample HTTP/1.1\u001b[0m\" 200 -\n",
            "127.0.0.1 - - [09/Jul/2022 20:00:04] \"\u001b[37mGET //sample HTTP/1.1\u001b[0m\" 200 -\n",
            "127.0.0.1 - - [09/Jul/2022 20:00:04] \"\u001b[37mGET //sample HTTP/1.1\u001b[0m\" 200 -\n",
            "127.0.0.1 - - [09/Jul/2022 20:00:05] \"\u001b[37mGET //sample HTTP/1.1\u001b[0m\" 200 -\n"
          ]
        },
        {
          "output_type": "stream",
          "name": "stdout",
          "text": [
            "Created 00000 at 1657396804.756402\n",
            "Created 00001 at 1657396804.756402\n"
          ]
        },
        {
          "output_type": "stream",
          "name": "stderr",
          "text": [
            "127.0.0.1 - - [09/Jul/2022 20:00:05] \"\u001b[37mGET //sample/00000 HTTP/1.1\u001b[0m\" 200 -\n",
            "127.0.0.1 - - [09/Jul/2022 20:00:05] \"\u001b[37mGET //sample/00001 HTTP/1.1\u001b[0m\" 200 -\n",
            "127.0.0.1 - - [09/Jul/2022 20:00:05] \"\u001b[37mGET //sample HTTP/1.1\u001b[0m\" 200 -\n",
            "127.0.0.1 - - [09/Jul/2022 20:00:05] \"\u001b[37mGET //sample HTTP/1.1\u001b[0m\" 200 -\n",
            "127.0.0.1 - - [09/Jul/2022 20:00:06] \"\u001b[37mGET //sample HTTP/1.1\u001b[0m\" 200 -\n",
            "127.0.0.1 - - [09/Jul/2022 20:00:06] \"\u001b[37mGET //sample HTTP/1.1\u001b[0m\" 200 -\n",
            "127.0.0.1 - - [09/Jul/2022 20:00:06] \"\u001b[37mGET //sample HTTP/1.1\u001b[0m\" 200 -\n",
            "127.0.0.1 - - [09/Jul/2022 20:00:06] \"\u001b[37mGET //sample HTTP/1.1\u001b[0m\" 200 -\n",
            "127.0.0.1 - - [09/Jul/2022 20:00:06] \"\u001b[37mGET //sample HTTP/1.1\u001b[0m\" 200 -\n",
            "127.0.0.1 - - [09/Jul/2022 20:00:06] \"\u001b[37mGET //sample HTTP/1.1\u001b[0m\" 200 -\n",
            "127.0.0.1 - - [09/Jul/2022 20:00:06] \"\u001b[37mGET //sample HTTP/1.1\u001b[0m\" 200 -\n",
            "127.0.0.1 - - [09/Jul/2022 20:00:07] \"\u001b[37mGET //sample HTTP/1.1\u001b[0m\" 200 -\n",
            "127.0.0.1 - - [09/Jul/2022 20:00:07] \"\u001b[37mGET //sample HTTP/1.1\u001b[0m\" 200 -\n",
            "127.0.0.1 - - [09/Jul/2022 20:00:07] \"\u001b[37mGET //sample HTTP/1.1\u001b[0m\" 200 -\n",
            "127.0.0.1 - - [09/Jul/2022 20:00:07] \"\u001b[37mGET //sample HTTP/1.1\u001b[0m\" 200 -\n",
            "127.0.0.1 - - [09/Jul/2022 20:00:07] \"\u001b[37mGET //sample HTTP/1.1\u001b[0m\" 200 -\n",
            "127.0.0.1 - - [09/Jul/2022 20:00:07] \"\u001b[37mGET //sample HTTP/1.1\u001b[0m\" 200 -\n",
            "127.0.0.1 - - [09/Jul/2022 20:00:07] \"\u001b[37mGET //sample HTTP/1.1\u001b[0m\" 200 -\n",
            "127.0.0.1 - - [09/Jul/2022 20:00:08] \"\u001b[37mGET //sample HTTP/1.1\u001b[0m\" 200 -\n"
          ]
        },
        {
          "output_type": "stream",
          "name": "stdout",
          "text": [
            "Created 00000 at 1657396807.992614\n",
            "Created 00001 at 1657396807.992614\n"
          ]
        },
        {
          "output_type": "stream",
          "name": "stderr",
          "text": [
            "127.0.0.1 - - [09/Jul/2022 20:00:08] \"\u001b[37mGET //sample/00000 HTTP/1.1\u001b[0m\" 200 -\n",
            "127.0.0.1 - - [09/Jul/2022 20:00:08] \"\u001b[37mGET //sample/00001 HTTP/1.1\u001b[0m\" 200 -\n",
            "127.0.0.1 - - [09/Jul/2022 20:00:09] \"\u001b[37mGET //sample HTTP/1.1\u001b[0m\" 200 -\n",
            "127.0.0.1 - - [09/Jul/2022 20:00:09] \"\u001b[37mGET //sample HTTP/1.1\u001b[0m\" 200 -\n",
            "127.0.0.1 - - [09/Jul/2022 20:00:09] \"\u001b[37mGET //sample HTTP/1.1\u001b[0m\" 200 -\n",
            "127.0.0.1 - - [09/Jul/2022 20:00:09] \"\u001b[37mGET //sample HTTP/1.1\u001b[0m\" 200 -\n",
            "127.0.0.1 - - [09/Jul/2022 20:00:09] \"\u001b[37mGET //sample HTTP/1.1\u001b[0m\" 200 -\n",
            "127.0.0.1 - - [09/Jul/2022 20:00:09] \"\u001b[37mGET //sample HTTP/1.1\u001b[0m\" 200 -\n"
          ]
        },
        {
          "output_type": "stream",
          "name": "stdout",
          "text": [
            "Created 00000 at 1657396809.632996\n",
            "Created 00001 at 1657396809.632996\n"
          ]
        },
        {
          "output_type": "stream",
          "name": "stderr",
          "text": [
            "127.0.0.1 - - [09/Jul/2022 20:00:10] \"\u001b[37mGET //sample/00000 HTTP/1.1\u001b[0m\" 200 -\n",
            "127.0.0.1 - - [09/Jul/2022 20:00:10] \"\u001b[37mGET //sample/00001 HTTP/1.1\u001b[0m\" 200 -\n",
            "127.0.0.1 - - [09/Jul/2022 20:00:10] \"\u001b[37mGET //sample HTTP/1.1\u001b[0m\" 200 -\n",
            "127.0.0.1 - - [09/Jul/2022 20:00:10] \"\u001b[37mGET //sample HTTP/1.1\u001b[0m\" 200 -\n",
            "127.0.0.1 - - [09/Jul/2022 20:00:10] \"\u001b[37mGET //sample HTTP/1.1\u001b[0m\" 200 -\n",
            "127.0.0.1 - - [09/Jul/2022 20:00:11] \"\u001b[37mGET //sample HTTP/1.1\u001b[0m\" 200 -\n",
            "127.0.0.1 - - [09/Jul/2022 20:00:11] \"\u001b[37mGET //sample HTTP/1.1\u001b[0m\" 200 -\n",
            "127.0.0.1 - - [09/Jul/2022 20:00:11] \"\u001b[37mGET //sample HTTP/1.1\u001b[0m\" 200 -\n"
          ]
        },
        {
          "output_type": "stream",
          "name": "stdout",
          "text": [
            "Created 00000 at 1657396811.274527\n",
            "Created 00001 at 1657396811.274527\n"
          ]
        },
        {
          "output_type": "stream",
          "name": "stderr",
          "text": [
            "127.0.0.1 - - [09/Jul/2022 20:00:11] \"\u001b[37mGET //sample/00000 HTTP/1.1\u001b[0m\" 200 -\n",
            "127.0.0.1 - - [09/Jul/2022 20:00:11] \"\u001b[37mGET //sample/00001 HTTP/1.1\u001b[0m\" 200 -\n",
            "127.0.0.1 - - [09/Jul/2022 20:00:12] \"\u001b[37mGET //sample HTTP/1.1\u001b[0m\" 200 -\n",
            "127.0.0.1 - - [09/Jul/2022 20:00:12] \"\u001b[37mGET //sample HTTP/1.1\u001b[0m\" 200 -\n",
            "127.0.0.1 - - [09/Jul/2022 20:00:12] \"\u001b[37mGET //sample HTTP/1.1\u001b[0m\" 200 -\n",
            "127.0.0.1 - - [09/Jul/2022 20:00:12] \"\u001b[37mGET //sample HTTP/1.1\u001b[0m\" 200 -\n",
            "127.0.0.1 - - [09/Jul/2022 20:00:12] \"\u001b[37mGET //sample HTTP/1.1\u001b[0m\" 200 -\n",
            "127.0.0.1 - - [09/Jul/2022 20:00:13] \"\u001b[37mGET //sample HTTP/1.1\u001b[0m\" 200 -\n"
          ]
        },
        {
          "output_type": "stream",
          "name": "stdout",
          "text": [
            "Created 00000 at 1657396812.908159\n",
            "Created 00001 at 1657396812.908159\n"
          ]
        },
        {
          "output_type": "stream",
          "name": "stderr",
          "text": [
            "127.0.0.1 - - [09/Jul/2022 20:00:13] \"\u001b[37mGET //sample/00000 HTTP/1.1\u001b[0m\" 200 -\n",
            "127.0.0.1 - - [09/Jul/2022 20:00:13] \"\u001b[37mGET //sample/00001 HTTP/1.1\u001b[0m\" 200 -\n",
            "127.0.0.1 - - [09/Jul/2022 20:00:13] \"\u001b[37mGET //sample HTTP/1.1\u001b[0m\" 200 -\n",
            "127.0.0.1 - - [09/Jul/2022 20:00:14] \"\u001b[37mGET //sample HTTP/1.1\u001b[0m\" 200 -\n",
            "127.0.0.1 - - [09/Jul/2022 20:00:14] \"\u001b[37mGET //sample HTTP/1.1\u001b[0m\" 200 -\n",
            "127.0.0.1 - - [09/Jul/2022 20:00:14] \"\u001b[37mGET //sample HTTP/1.1\u001b[0m\" 200 -\n",
            "127.0.0.1 - - [09/Jul/2022 20:00:14] \"\u001b[37mGET //sample HTTP/1.1\u001b[0m\" 200 -\n",
            "127.0.0.1 - - [09/Jul/2022 20:00:14] \"\u001b[37mGET //sample HTTP/1.1\u001b[0m\" 200 -\n"
          ]
        },
        {
          "output_type": "stream",
          "name": "stdout",
          "text": [
            "Created 00000 at 1657396814.556006\n",
            "Created 00001 at 1657396814.556006\n"
          ]
        },
        {
          "output_type": "stream",
          "name": "stderr",
          "text": [
            "127.0.0.1 - - [09/Jul/2022 20:00:14] \"\u001b[37mGET //sample/00000 HTTP/1.1\u001b[0m\" 200 -\n"
          ]
        },
        {
          "output_type": "stream",
          "name": "stdout",
          "text": [
            "Created 00000 at 1657396815.099983\n",
            "Created 00001 at 1657396815.099983\n"
          ]
        },
        {
          "output_type": "display_data",
          "data": {
            "text/plain": [
              "  0%|          | 0/27 [00:00<?, ?it/s]"
            ],
            "application/vnd.jupyter.widget-view+json": {
              "version_major": 2,
              "version_minor": 0,
              "model_id": "1b61d7f560c6420694933294468c4ac3"
            }
          },
          "metadata": {}
        },
        {
          "output_type": "stream",
          "name": "stderr",
          "text": [
            "127.0.0.1 - - [09/Jul/2022 20:00:15] \"\u001b[37mGET //sample/00001 HTTP/1.1\u001b[0m\" 200 -\n",
            "127.0.0.1 - - [09/Jul/2022 20:00:15] \"\u001b[37mGET //sample HTTP/1.1\u001b[0m\" 200 -\n",
            "127.0.0.1 - - [09/Jul/2022 20:00:15] \"\u001b[37mGET //sample/00000 HTTP/1.1\u001b[0m\" 200 -\n",
            "127.0.0.1 - - [09/Jul/2022 20:00:16] \"\u001b[37mGET //sample/00001 HTTP/1.1\u001b[0m\" 200 -\n",
            "127.0.0.1 - - [09/Jul/2022 20:00:16] \"\u001b[37mGET //sample HTTP/1.1\u001b[0m\" 200 -\n",
            "127.0.0.1 - - [09/Jul/2022 20:00:16] \"\u001b[37mGET //sample HTTP/1.1\u001b[0m\" 200 -\n",
            "127.0.0.1 - - [09/Jul/2022 20:00:16] \"\u001b[37mGET //sample HTTP/1.1\u001b[0m\" 200 -\n"
          ]
        },
        {
          "output_type": "stream",
          "name": "stdout",
          "text": [
            "Created 00002 at 1657396816.539526\n",
            "Created 00003 at 1657396816.539526\n"
          ]
        },
        {
          "output_type": "stream",
          "name": "stderr",
          "text": [
            "127.0.0.1 - - [09/Jul/2022 20:00:16] \"\u001b[37mGET //sample/00002 HTTP/1.1\u001b[0m\" 200 -\n",
            "127.0.0.1 - - [09/Jul/2022 20:00:17] \"\u001b[37mGET //sample/00003 HTTP/1.1\u001b[0m\" 200 -\n",
            "127.0.0.1 - - [09/Jul/2022 20:00:17] \"\u001b[37mGET //sample HTTP/1.1\u001b[0m\" 200 -\n",
            "127.0.0.1 - - [09/Jul/2022 20:00:17] \"\u001b[37mGET //sample HTTP/1.1\u001b[0m\" 200 -\n",
            "127.0.0.1 - - [09/Jul/2022 20:00:17] \"\u001b[37mGET //sample HTTP/1.1\u001b[0m\" 200 -\n",
            "127.0.0.1 - - [09/Jul/2022 20:00:17] \"\u001b[37mGET //sample HTTP/1.1\u001b[0m\" 200 -\n",
            "127.0.0.1 - - [09/Jul/2022 20:00:18] \"\u001b[37mGET //sample HTTP/1.1\u001b[0m\" 200 -\n",
            "127.0.0.1 - - [09/Jul/2022 20:00:18] \"\u001b[37mGET //sample HTTP/1.1\u001b[0m\" 200 -\n",
            "127.0.0.1 - - [09/Jul/2022 20:00:18] \"\u001b[37mGET //sample HTTP/1.1\u001b[0m\" 200 -\n",
            "127.0.0.1 - - [09/Jul/2022 20:00:18] \"\u001b[37mGET //sample HTTP/1.1\u001b[0m\" 200 -\n",
            "127.0.0.1 - - [09/Jul/2022 20:00:18] \"\u001b[37mGET //sample HTTP/1.1\u001b[0m\" 200 -\n",
            "127.0.0.1 - - [09/Jul/2022 20:00:18] \"\u001b[37mGET //sample HTTP/1.1\u001b[0m\" 200 -\n",
            "127.0.0.1 - - [09/Jul/2022 20:00:18] \"\u001b[37mGET //sample HTTP/1.1\u001b[0m\" 200 -\n",
            "127.0.0.1 - - [09/Jul/2022 20:00:19] \"\u001b[37mGET //sample HTTP/1.1\u001b[0m\" 200 -\n",
            "127.0.0.1 - - [09/Jul/2022 20:00:19] \"\u001b[37mGET //sample HTTP/1.1\u001b[0m\" 200 -\n",
            "127.0.0.1 - - [09/Jul/2022 20:00:19] \"\u001b[37mGET //sample HTTP/1.1\u001b[0m\" 200 -\n",
            "127.0.0.1 - - [09/Jul/2022 20:00:19] \"\u001b[37mGET //sample HTTP/1.1\u001b[0m\" 200 -\n",
            "127.0.0.1 - - [09/Jul/2022 20:00:19] \"\u001b[37mGET //sample HTTP/1.1\u001b[0m\" 200 -\n",
            "127.0.0.1 - - [09/Jul/2022 20:00:20] \"\u001b[37mGET //sample HTTP/1.1\u001b[0m\" 200 -\n"
          ]
        },
        {
          "output_type": "stream",
          "name": "stdout",
          "text": [
            "Created 00002 at 1657396819.877381\n",
            "Created 00003 at 1657396819.877381\n"
          ]
        },
        {
          "output_type": "stream",
          "name": "stderr",
          "text": [
            "127.0.0.1 - - [09/Jul/2022 20:00:20] \"\u001b[37mGET //sample/00002 HTTP/1.1\u001b[0m\" 200 -\n",
            "127.0.0.1 - - [09/Jul/2022 20:00:20] \"\u001b[37mGET //sample/00003 HTTP/1.1\u001b[0m\" 200 -\n",
            "127.0.0.1 - - [09/Jul/2022 20:00:20] \"\u001b[37mGET //sample HTTP/1.1\u001b[0m\" 200 -\n",
            "127.0.0.1 - - [09/Jul/2022 20:00:21] \"\u001b[37mGET //sample HTTP/1.1\u001b[0m\" 200 -\n",
            "127.0.0.1 - - [09/Jul/2022 20:00:21] \"\u001b[37mGET //sample HTTP/1.1\u001b[0m\" 200 -\n",
            "127.0.0.1 - - [09/Jul/2022 20:00:21] \"\u001b[37mGET //sample HTTP/1.1\u001b[0m\" 200 -\n",
            "127.0.0.1 - - [09/Jul/2022 20:00:21] \"\u001b[37mGET //sample HTTP/1.1\u001b[0m\" 200 -\n",
            "127.0.0.1 - - [09/Jul/2022 20:00:21] \"\u001b[37mGET //sample HTTP/1.1\u001b[0m\" 200 -\n"
          ]
        },
        {
          "output_type": "stream",
          "name": "stdout",
          "text": [
            "Created 00002 at 1657396821.550604\n",
            "Created 00003 at 1657396821.550604\n"
          ]
        },
        {
          "output_type": "stream",
          "name": "stderr",
          "text": [
            "127.0.0.1 - - [09/Jul/2022 20:00:22] \"\u001b[37mGET //sample/00002 HTTP/1.1\u001b[0m\" 200 -\n",
            "127.0.0.1 - - [09/Jul/2022 20:00:22] \"\u001b[37mGET //sample/00003 HTTP/1.1\u001b[0m\" 200 -\n",
            "127.0.0.1 - - [09/Jul/2022 20:00:22] \"\u001b[37mGET //sample HTTP/1.1\u001b[0m\" 200 -\n",
            "127.0.0.1 - - [09/Jul/2022 20:00:22] \"\u001b[37mGET //sample HTTP/1.1\u001b[0m\" 200 -\n",
            "127.0.0.1 - - [09/Jul/2022 20:00:22] \"\u001b[37mGET //sample HTTP/1.1\u001b[0m\" 200 -\n",
            "127.0.0.1 - - [09/Jul/2022 20:00:22] \"\u001b[37mGET //sample HTTP/1.1\u001b[0m\" 200 -\n",
            "127.0.0.1 - - [09/Jul/2022 20:00:23] \"\u001b[37mGET //sample HTTP/1.1\u001b[0m\" 200 -\n",
            "127.0.0.1 - - [09/Jul/2022 20:00:23] \"\u001b[37mGET //sample HTTP/1.1\u001b[0m\" 200 -\n"
          ]
        },
        {
          "output_type": "stream",
          "name": "stdout",
          "text": [
            "Created 00002 at 1657396823.238594\n",
            "Created 00003 at 1657396823.238594\n"
          ]
        },
        {
          "output_type": "stream",
          "name": "stderr",
          "text": [
            "127.0.0.1 - - [09/Jul/2022 20:00:23] \"\u001b[37mGET //sample/00002 HTTP/1.1\u001b[0m\" 200 -\n",
            "127.0.0.1 - - [09/Jul/2022 20:00:23] \"\u001b[37mGET //sample/00003 HTTP/1.1\u001b[0m\" 200 -\n",
            "127.0.0.1 - - [09/Jul/2022 20:00:24] \"\u001b[37mGET //sample HTTP/1.1\u001b[0m\" 200 -\n",
            "127.0.0.1 - - [09/Jul/2022 20:00:24] \"\u001b[37mGET //sample HTTP/1.1\u001b[0m\" 200 -\n",
            "127.0.0.1 - - [09/Jul/2022 20:00:24] \"\u001b[37mGET //sample HTTP/1.1\u001b[0m\" 200 -\n",
            "127.0.0.1 - - [09/Jul/2022 20:00:24] \"\u001b[37mGET //sample HTTP/1.1\u001b[0m\" 200 -\n",
            "127.0.0.1 - - [09/Jul/2022 20:00:24] \"\u001b[37mGET //sample HTTP/1.1\u001b[0m\" 200 -\n",
            "127.0.0.1 - - [09/Jul/2022 20:00:25] \"\u001b[37mGET //sample HTTP/1.1\u001b[0m\" 200 -\n"
          ]
        },
        {
          "output_type": "stream",
          "name": "stdout",
          "text": [
            "Created 00002 at 1657396824.92911\n",
            "Created 00003 at 1657396824.92911\n"
          ]
        },
        {
          "output_type": "stream",
          "name": "stderr",
          "text": [
            "127.0.0.1 - - [09/Jul/2022 20:00:25] \"\u001b[37mGET //sample/00002 HTTP/1.1\u001b[0m\" 200 -\n",
            "127.0.0.1 - - [09/Jul/2022 20:00:25] \"\u001b[37mGET //sample/00003 HTTP/1.1\u001b[0m\" 200 -\n",
            "127.0.0.1 - - [09/Jul/2022 20:00:25] \"\u001b[37mGET //sample HTTP/1.1\u001b[0m\" 200 -\n",
            "127.0.0.1 - - [09/Jul/2022 20:00:26] \"\u001b[37mGET //sample HTTP/1.1\u001b[0m\" 200 -\n",
            "127.0.0.1 - - [09/Jul/2022 20:00:26] \"\u001b[37mGET //sample HTTP/1.1\u001b[0m\" 200 -\n",
            "127.0.0.1 - - [09/Jul/2022 20:00:26] \"\u001b[37mGET //sample HTTP/1.1\u001b[0m\" 200 -\n",
            "127.0.0.1 - - [09/Jul/2022 20:00:26] \"\u001b[37mGET //sample HTTP/1.1\u001b[0m\" 200 -\n",
            "127.0.0.1 - - [09/Jul/2022 20:00:26] \"\u001b[37mGET //sample HTTP/1.1\u001b[0m\" 200 -\n"
          ]
        },
        {
          "output_type": "stream",
          "name": "stdout",
          "text": [
            "Created 00002 at 1657396826.625878\n",
            "Created 00003 at 1657396826.625878\n"
          ]
        },
        {
          "output_type": "stream",
          "name": "stderr",
          "text": [
            "127.0.0.1 - - [09/Jul/2022 20:00:27] \"\u001b[37mGET //sample/00002 HTTP/1.1\u001b[0m\" 200 -\n"
          ]
        },
        {
          "output_type": "stream",
          "name": "stdout",
          "text": [
            "Created 00002 at 1657396827.189808\n",
            "Created 00003 at 1657396827.189808\n"
          ]
        },
        {
          "output_type": "display_data",
          "data": {
            "text/plain": [
              "  0%|          | 0/27 [00:00<?, ?it/s]"
            ],
            "application/vnd.jupyter.widget-view+json": {
              "version_major": 2,
              "version_minor": 0,
              "model_id": "54a37b32ec304e27b26738a7cee52d98"
            }
          },
          "metadata": {}
        },
        {
          "output_type": "stream",
          "name": "stderr",
          "text": [
            "127.0.0.1 - - [09/Jul/2022 20:00:27] \"\u001b[37mGET //sample/00003 HTTP/1.1\u001b[0m\" 200 -\n",
            "127.0.0.1 - - [09/Jul/2022 20:00:27] \"\u001b[37mGET //sample HTTP/1.1\u001b[0m\" 200 -\n",
            "127.0.0.1 - - [09/Jul/2022 20:00:27] \"\u001b[37mGET //sample/00002 HTTP/1.1\u001b[0m\" 200 -\n",
            "127.0.0.1 - - [09/Jul/2022 20:00:28] \"\u001b[37mGET //sample/00003 HTTP/1.1\u001b[0m\" 200 -\n",
            "127.0.0.1 - - [09/Jul/2022 20:00:28] \"\u001b[37mGET //sample HTTP/1.1\u001b[0m\" 200 -\n",
            "127.0.0.1 - - [09/Jul/2022 20:00:28] \"\u001b[37mGET //sample HTTP/1.1\u001b[0m\" 200 -\n"
          ]
        },
        {
          "output_type": "stream",
          "name": "stdout",
          "text": [
            "Created 00004 at 1657396828.639777\n",
            "Created 00005 at 1657396828.639777\n"
          ]
        },
        {
          "output_type": "stream",
          "name": "stderr",
          "text": [
            "127.0.0.1 - - [09/Jul/2022 20:00:29] \"\u001b[37mGET //sample/00004 HTTP/1.1\u001b[0m\" 200 -\n",
            "127.0.0.1 - - [09/Jul/2022 20:00:29] \"\u001b[37mGET //sample/00005 HTTP/1.1\u001b[0m\" 200 -\n",
            "127.0.0.1 - - [09/Jul/2022 20:00:29] \"\u001b[37mGET //sample HTTP/1.1\u001b[0m\" 200 -\n",
            "127.0.0.1 - - [09/Jul/2022 20:00:29] \"\u001b[37mGET //sample HTTP/1.1\u001b[0m\" 200 -\n",
            "127.0.0.1 - - [09/Jul/2022 20:00:29] \"\u001b[37mGET //sample HTTP/1.1\u001b[0m\" 200 -\n",
            "127.0.0.1 - - [09/Jul/2022 20:00:30] \"\u001b[37mGET //sample HTTP/1.1\u001b[0m\" 200 -\n",
            "127.0.0.1 - - [09/Jul/2022 20:00:30] \"\u001b[37mGET //sample HTTP/1.1\u001b[0m\" 200 -\n",
            "127.0.0.1 - - [09/Jul/2022 20:00:30] \"\u001b[37mGET //sample HTTP/1.1\u001b[0m\" 200 -\n",
            "127.0.0.1 - - [09/Jul/2022 20:00:30] \"\u001b[37mGET //sample HTTP/1.1\u001b[0m\" 200 -\n",
            "127.0.0.1 - - [09/Jul/2022 20:00:30] \"\u001b[37mGET //sample HTTP/1.1\u001b[0m\" 200 -\n",
            "127.0.0.1 - - [09/Jul/2022 20:00:30] \"\u001b[37mGET //sample HTTP/1.1\u001b[0m\" 200 -\n",
            "127.0.0.1 - - [09/Jul/2022 20:00:30] \"\u001b[37mGET //sample HTTP/1.1\u001b[0m\" 200 -\n",
            "127.0.0.1 - - [09/Jul/2022 20:00:31] \"\u001b[37mGET //sample HTTP/1.1\u001b[0m\" 200 -\n",
            "127.0.0.1 - - [09/Jul/2022 20:00:31] \"\u001b[37mGET //sample HTTP/1.1\u001b[0m\" 200 -\n",
            "127.0.0.1 - - [09/Jul/2022 20:00:31] \"\u001b[37mGET //sample HTTP/1.1\u001b[0m\" 200 -\n",
            "127.0.0.1 - - [09/Jul/2022 20:00:31] \"\u001b[37mGET //sample HTTP/1.1\u001b[0m\" 200 -\n",
            "127.0.0.1 - - [09/Jul/2022 20:00:31] \"\u001b[37mGET //sample HTTP/1.1\u001b[0m\" 200 -\n",
            "127.0.0.1 - - [09/Jul/2022 20:00:31] \"\u001b[37mGET //sample HTTP/1.1\u001b[0m\" 200 -\n",
            "127.0.0.1 - - [09/Jul/2022 20:00:31] \"\u001b[37mGET //sample HTTP/1.1\u001b[0m\" 200 -\n",
            "127.0.0.1 - - [09/Jul/2022 20:00:32] \"\u001b[37mGET //sample HTTP/1.1\u001b[0m\" 200 -\n"
          ]
        },
        {
          "output_type": "stream",
          "name": "stdout",
          "text": [
            "Created 00004 at 1657396832.06704\n",
            "Created 00005 at 1657396832.06704\n"
          ]
        },
        {
          "output_type": "stream",
          "name": "stderr",
          "text": [
            "127.0.0.1 - - [09/Jul/2022 20:00:32] \"\u001b[37mGET //sample/00004 HTTP/1.1\u001b[0m\" 200 -\n",
            "127.0.0.1 - - [09/Jul/2022 20:00:32] \"\u001b[37mGET //sample/00005 HTTP/1.1\u001b[0m\" 200 -\n",
            "127.0.0.1 - - [09/Jul/2022 20:00:33] \"\u001b[37mGET //sample HTTP/1.1\u001b[0m\" 200 -\n",
            "127.0.0.1 - - [09/Jul/2022 20:00:33] \"\u001b[37mGET //sample HTTP/1.1\u001b[0m\" 200 -\n",
            "127.0.0.1 - - [09/Jul/2022 20:00:33] \"\u001b[37mGET //sample HTTP/1.1\u001b[0m\" 200 -\n",
            "127.0.0.1 - - [09/Jul/2022 20:00:33] \"\u001b[37mGET //sample HTTP/1.1\u001b[0m\" 200 -\n",
            "127.0.0.1 - - [09/Jul/2022 20:00:33] \"\u001b[37mGET //sample HTTP/1.1\u001b[0m\" 200 -\n",
            "127.0.0.1 - - [09/Jul/2022 20:00:33] \"\u001b[37mGET //sample HTTP/1.1\u001b[0m\" 200 -\n",
            "127.0.0.1 - - [09/Jul/2022 20:00:34] \"\u001b[37mGET //sample HTTP/1.1\u001b[0m\" 200 -\n"
          ]
        },
        {
          "output_type": "stream",
          "name": "stdout",
          "text": [
            "Created 00004 at 1657396833.774955\n",
            "Created 00005 at 1657396833.774955\n"
          ]
        },
        {
          "output_type": "stream",
          "name": "stderr",
          "text": [
            "127.0.0.1 - - [09/Jul/2022 20:00:34] \"\u001b[37mGET //sample/00004 HTTP/1.1\u001b[0m\" 200 -\n",
            "127.0.0.1 - - [09/Jul/2022 20:00:34] \"\u001b[37mGET //sample/00005 HTTP/1.1\u001b[0m\" 200 -\n",
            "127.0.0.1 - - [09/Jul/2022 20:00:34] \"\u001b[37mGET //sample HTTP/1.1\u001b[0m\" 200 -\n",
            "127.0.0.1 - - [09/Jul/2022 20:00:34] \"\u001b[37mGET //sample HTTP/1.1\u001b[0m\" 200 -\n",
            "127.0.0.1 - - [09/Jul/2022 20:00:35] \"\u001b[37mGET //sample HTTP/1.1\u001b[0m\" 200 -\n",
            "127.0.0.1 - - [09/Jul/2022 20:00:35] \"\u001b[37mGET //sample HTTP/1.1\u001b[0m\" 200 -\n",
            "127.0.0.1 - - [09/Jul/2022 20:00:35] \"\u001b[37mGET //sample HTTP/1.1\u001b[0m\" 200 -\n",
            "127.0.0.1 - - [09/Jul/2022 20:00:35] \"\u001b[37mGET //sample HTTP/1.1\u001b[0m\" 200 -\n"
          ]
        },
        {
          "output_type": "stream",
          "name": "stdout",
          "text": [
            "Created 00004 at 1657396835.487816\n",
            "Created 00005 at 1657396835.487816\n"
          ]
        },
        {
          "output_type": "stream",
          "name": "stderr",
          "text": [
            "127.0.0.1 - - [09/Jul/2022 20:00:35] \"\u001b[37mGET //sample/00004 HTTP/1.1\u001b[0m\" 200 -\n",
            "127.0.0.1 - - [09/Jul/2022 20:00:36] \"\u001b[37mGET //sample/00005 HTTP/1.1\u001b[0m\" 200 -\n",
            "127.0.0.1 - - [09/Jul/2022 20:00:36] \"\u001b[37mGET //sample HTTP/1.1\u001b[0m\" 200 -\n"
          ]
        },
        {
          "output_type": "stream",
          "name": "stdout",
          "text": [
            "Created 00004 at 1657396837.19529\n",
            "Created 00005 at 1657396837.19529\n",
            "Created 00004 at 1657396838.897672\n",
            "Created 00005 at 1657396838.897672\n",
            "Created 00004 at 1657396839.460577\n",
            "Created 00005 at 1657396839.460577\n"
          ]
        },
        {
          "output_type": "stream",
          "name": "stderr",
          "text": [
            "127.0.0.1 - - [09/Jul/2022 20:02:20] \"\u001b[37mGET / HTTP/1.1\u001b[0m\" 200 -\n",
            "127.0.0.1 - - [09/Jul/2022 20:04:47] \"\u001b[37mGET / HTTP/1.1\u001b[0m\" 200 -\n",
            "127.0.0.1 - - [09/Jul/2022 20:05:01] \"\u001b[37mPOST / HTTP/1.1\u001b[0m\" 200 -\n"
          ]
        },
        {
          "output_type": "display_data",
          "data": {
            "text/plain": [
              "  0%|          | 0/27 [00:00<?, ?it/s]"
            ],
            "application/vnd.jupyter.widget-view+json": {
              "version_major": 2,
              "version_minor": 0,
              "model_id": "494b88db1a064616b40122bd54646e82"
            }
          },
          "metadata": {}
        },
        {
          "output_type": "stream",
          "name": "stderr",
          "text": [
            "127.0.0.1 - - [09/Jul/2022 20:05:01] \"\u001b[37mGET //sample HTTP/1.1\u001b[0m\" 200 -\n",
            "127.0.0.1 - - [09/Jul/2022 20:05:01] \"\u001b[37mGET //sample HTTP/1.1\u001b[0m\" 200 -\n",
            "127.0.0.1 - - [09/Jul/2022 20:05:01] \"\u001b[37mGET //sample HTTP/1.1\u001b[0m\" 200 -\n",
            "127.0.0.1 - - [09/Jul/2022 20:05:01] \"\u001b[37mGET //sample HTTP/1.1\u001b[0m\" 200 -\n",
            "127.0.0.1 - - [09/Jul/2022 20:05:01] \"\u001b[37mGET //sample HTTP/1.1\u001b[0m\" 200 -\n",
            "127.0.0.1 - - [09/Jul/2022 20:05:01] \"\u001b[37mGET //sample HTTP/1.1\u001b[0m\" 200 -\n",
            "127.0.0.1 - - [09/Jul/2022 20:05:02] \"\u001b[37mGET //sample HTTP/1.1\u001b[0m\" 200 -\n",
            "127.0.0.1 - - [09/Jul/2022 20:05:02] \"\u001b[37mGET //sample HTTP/1.1\u001b[0m\" 200 -\n",
            "127.0.0.1 - - [09/Jul/2022 20:05:02] \"\u001b[37mGET //sample HTTP/1.1\u001b[0m\" 200 -\n"
          ]
        },
        {
          "output_type": "stream",
          "name": "stdout",
          "text": [
            "Created 00000 at 1657397102.451797\n",
            "Created 00001 at 1657397102.451797\n"
          ]
        },
        {
          "output_type": "stream",
          "name": "stderr",
          "text": [
            "127.0.0.1 - - [09/Jul/2022 20:05:02] \"\u001b[37mGET //sample HTTP/1.1\u001b[0m\" 200 -\n",
            "127.0.0.1 - - [09/Jul/2022 20:05:03] \"\u001b[37mGET //sample/00000 HTTP/1.1\u001b[0m\" 200 -\n"
          ]
        },
        {
          "output_type": "stream",
          "name": "stdout",
          "text": [
            "Created 00002 at 1657397102.451797\n"
          ]
        },
        {
          "output_type": "stream",
          "name": "stderr",
          "text": [
            "127.0.0.1 - - [09/Jul/2022 20:05:03] \"\u001b[37mGET //sample/00001 HTTP/1.1\u001b[0m\" 200 -\n",
            "127.0.0.1 - - [09/Jul/2022 20:05:03] \"\u001b[37mGET //sample/00002 HTTP/1.1\u001b[0m\" 200 -\n",
            "127.0.0.1 - - [09/Jul/2022 20:05:03] \"\u001b[37mGET //sample HTTP/1.1\u001b[0m\" 200 -\n",
            "127.0.0.1 - - [09/Jul/2022 20:05:03] \"\u001b[37mGET //sample HTTP/1.1\u001b[0m\" 200 -\n",
            "127.0.0.1 - - [09/Jul/2022 20:05:04] \"\u001b[37mGET //sample HTTP/1.1\u001b[0m\" 200 -\n",
            "127.0.0.1 - - [09/Jul/2022 20:05:04] \"\u001b[37mGET //sample HTTP/1.1\u001b[0m\" 200 -\n",
            "127.0.0.1 - - [09/Jul/2022 20:05:04] \"\u001b[37mGET //sample HTTP/1.1\u001b[0m\" 200 -\n",
            "127.0.0.1 - - [09/Jul/2022 20:05:04] \"\u001b[37mGET //sample HTTP/1.1\u001b[0m\" 200 -\n",
            "127.0.0.1 - - [09/Jul/2022 20:05:04] \"\u001b[37mGET //sample HTTP/1.1\u001b[0m\" 200 -\n",
            "127.0.0.1 - - [09/Jul/2022 20:05:04] \"\u001b[37mGET //sample HTTP/1.1\u001b[0m\" 200 -\n",
            "127.0.0.1 - - [09/Jul/2022 20:05:04] \"\u001b[37mGET //sample HTTP/1.1\u001b[0m\" 200 -\n",
            "127.0.0.1 - - [09/Jul/2022 20:05:05] \"\u001b[37mGET //sample HTTP/1.1\u001b[0m\" 200 -\n",
            "127.0.0.1 - - [09/Jul/2022 20:05:05] \"\u001b[37mGET //sample HTTP/1.1\u001b[0m\" 200 -\n",
            "127.0.0.1 - - [09/Jul/2022 20:05:05] \"\u001b[37mGET //sample HTTP/1.1\u001b[0m\" 200 -\n",
            "127.0.0.1 - - [09/Jul/2022 20:05:05] \"\u001b[37mGET //sample HTTP/1.1\u001b[0m\" 200 -\n",
            "127.0.0.1 - - [09/Jul/2022 20:05:05] \"\u001b[37mGET //sample HTTP/1.1\u001b[0m\" 200 -\n",
            "127.0.0.1 - - [09/Jul/2022 20:05:05] \"\u001b[37mGET //sample HTTP/1.1\u001b[0m\" 200 -\n",
            "127.0.0.1 - - [09/Jul/2022 20:05:06] \"\u001b[37mGET //sample HTTP/1.1\u001b[0m\" 200 -\n",
            "127.0.0.1 - - [09/Jul/2022 20:05:06] \"\u001b[37mGET //sample HTTP/1.1\u001b[0m\" 200 -\n",
            "127.0.0.1 - - [09/Jul/2022 20:05:06] \"\u001b[37mGET //sample HTTP/1.1\u001b[0m\" 200 -\n",
            "127.0.0.1 - - [09/Jul/2022 20:05:06] \"\u001b[37mGET //sample HTTP/1.1\u001b[0m\" 200 -\n",
            "127.0.0.1 - - [09/Jul/2022 20:05:06] \"\u001b[37mGET //sample HTTP/1.1\u001b[0m\" 200 -\n",
            "127.0.0.1 - - [09/Jul/2022 20:05:06] \"\u001b[37mGET //sample HTTP/1.1\u001b[0m\" 200 -\n"
          ]
        },
        {
          "output_type": "stream",
          "name": "stdout",
          "text": [
            "Created 00000 at 1657397106.821751\n",
            "Created 00001 at 1657397106.821751\n"
          ]
        },
        {
          "output_type": "stream",
          "name": "stderr",
          "text": [
            "127.0.0.1 - - [09/Jul/2022 20:05:07] \"\u001b[37mGET //sample HTTP/1.1\u001b[0m\" 200 -\n",
            "127.0.0.1 - - [09/Jul/2022 20:05:07] \"\u001b[37mGET //sample/00000 HTTP/1.1\u001b[0m\" 200 -\n"
          ]
        },
        {
          "output_type": "stream",
          "name": "stdout",
          "text": [
            "Created 00002 at 1657397106.821751\n"
          ]
        },
        {
          "output_type": "stream",
          "name": "stderr",
          "text": [
            "127.0.0.1 - - [09/Jul/2022 20:05:07] \"\u001b[37mGET //sample/00001 HTTP/1.1\u001b[0m\" 200 -\n",
            "127.0.0.1 - - [09/Jul/2022 20:05:07] \"\u001b[37mGET //sample/00002 HTTP/1.1\u001b[0m\" 200 -\n",
            "127.0.0.1 - - [09/Jul/2022 20:05:08] \"\u001b[37mGET //sample HTTP/1.1\u001b[0m\" 200 -\n",
            "127.0.0.1 - - [09/Jul/2022 20:05:08] \"\u001b[37mGET //sample HTTP/1.1\u001b[0m\" 200 -\n",
            "127.0.0.1 - - [09/Jul/2022 20:05:08] \"\u001b[37mGET //sample HTTP/1.1\u001b[0m\" 200 -\n",
            "127.0.0.1 - - [09/Jul/2022 20:05:08] \"\u001b[37mGET //sample HTTP/1.1\u001b[0m\" 200 -\n",
            "127.0.0.1 - - [09/Jul/2022 20:05:08] \"\u001b[37mGET //sample HTTP/1.1\u001b[0m\" 200 -\n",
            "127.0.0.1 - - [09/Jul/2022 20:05:08] \"\u001b[37mGET //sample HTTP/1.1\u001b[0m\" 200 -\n"
          ]
        },
        {
          "output_type": "stream",
          "name": "stdout",
          "text": [
            "Created 00000 at 1657397109.02412\n",
            "Created 00001 at 1657397109.02412\n"
          ]
        },
        {
          "output_type": "stream",
          "name": "stderr",
          "text": [
            "127.0.0.1 - - [09/Jul/2022 20:05:09] \"\u001b[37mGET //sample HTTP/1.1\u001b[0m\" 200 -\n",
            "127.0.0.1 - - [09/Jul/2022 20:05:09] \"\u001b[37mGET //sample/00000 HTTP/1.1\u001b[0m\" 200 -\n"
          ]
        },
        {
          "output_type": "stream",
          "name": "stdout",
          "text": [
            "Created 00002 at 1657397109.02412\n"
          ]
        },
        {
          "output_type": "stream",
          "name": "stderr",
          "text": [
            "127.0.0.1 - - [09/Jul/2022 20:05:09] \"\u001b[37mGET //sample/00001 HTTP/1.1\u001b[0m\" 200 -\n",
            "127.0.0.1 - - [09/Jul/2022 20:05:10] \"\u001b[37mGET //sample/00002 HTTP/1.1\u001b[0m\" 200 -\n",
            "127.0.0.1 - - [09/Jul/2022 20:05:10] \"\u001b[37mGET //sample HTTP/1.1\u001b[0m\" 200 -\n",
            "127.0.0.1 - - [09/Jul/2022 20:05:10] \"\u001b[37mGET //sample HTTP/1.1\u001b[0m\" 200 -\n",
            "127.0.0.1 - - [09/Jul/2022 20:05:10] \"\u001b[37mGET //sample HTTP/1.1\u001b[0m\" 200 -\n",
            "127.0.0.1 - - [09/Jul/2022 20:05:10] \"\u001b[37mGET //sample HTTP/1.1\u001b[0m\" 200 -\n",
            "127.0.0.1 - - [09/Jul/2022 20:05:10] \"\u001b[37mGET //sample HTTP/1.1\u001b[0m\" 200 -\n",
            "127.0.0.1 - - [09/Jul/2022 20:05:11] \"\u001b[37mGET //sample HTTP/1.1\u001b[0m\" 200 -\n",
            "127.0.0.1 - - [09/Jul/2022 20:05:11] \"\u001b[37mGET //sample HTTP/1.1\u001b[0m\" 200 -\n"
          ]
        },
        {
          "output_type": "stream",
          "name": "stdout",
          "text": [
            "Created 00000 at 1657397111.257125\n",
            "Created 00001 at 1657397111.257125\n"
          ]
        },
        {
          "output_type": "stream",
          "name": "stderr",
          "text": [
            "127.0.0.1 - - [09/Jul/2022 20:05:11] \"\u001b[37mGET //sample HTTP/1.1\u001b[0m\" 200 -\n",
            "127.0.0.1 - - [09/Jul/2022 20:05:11] \"\u001b[37mGET //sample/00000 HTTP/1.1\u001b[0m\" 200 -\n"
          ]
        },
        {
          "output_type": "stream",
          "name": "stdout",
          "text": [
            "Created 00002 at 1657397111.257125\n"
          ]
        },
        {
          "output_type": "stream",
          "name": "stderr",
          "text": [
            "127.0.0.1 - - [09/Jul/2022 20:05:12] \"\u001b[37mGET //sample/00001 HTTP/1.1\u001b[0m\" 200 -\n",
            "127.0.0.1 - - [09/Jul/2022 20:05:12] \"\u001b[37mGET //sample/00002 HTTP/1.1\u001b[0m\" 200 -\n",
            "127.0.0.1 - - [09/Jul/2022 20:05:12] \"\u001b[37mGET //sample HTTP/1.1\u001b[0m\" 200 -\n",
            "127.0.0.1 - - [09/Jul/2022 20:05:12] \"\u001b[37mGET //sample HTTP/1.1\u001b[0m\" 200 -\n",
            "127.0.0.1 - - [09/Jul/2022 20:05:12] \"\u001b[37mGET //sample HTTP/1.1\u001b[0m\" 200 -\n",
            "127.0.0.1 - - [09/Jul/2022 20:05:13] \"\u001b[37mGET //sample HTTP/1.1\u001b[0m\" 200 -\n",
            "127.0.0.1 - - [09/Jul/2022 20:05:13] \"\u001b[37mGET //sample HTTP/1.1\u001b[0m\" 200 -\n",
            "127.0.0.1 - - [09/Jul/2022 20:05:13] \"\u001b[37mGET //sample HTTP/1.1\u001b[0m\" 200 -\n",
            "127.0.0.1 - - [09/Jul/2022 20:05:13] \"\u001b[37mGET //sample HTTP/1.1\u001b[0m\" 200 -\n"
          ]
        },
        {
          "output_type": "stream",
          "name": "stdout",
          "text": [
            "Created 00000 at 1657397113.482445\n",
            "Created 00001 at 1657397113.482445\n"
          ]
        },
        {
          "output_type": "stream",
          "name": "stderr",
          "text": [
            "127.0.0.1 - - [09/Jul/2022 20:05:13] \"\u001b[37mGET //sample HTTP/1.1\u001b[0m\" 200 -\n",
            "127.0.0.1 - - [09/Jul/2022 20:05:14] \"\u001b[37mGET //sample/00000 HTTP/1.1\u001b[0m\" 200 -\n"
          ]
        },
        {
          "output_type": "stream",
          "name": "stdout",
          "text": [
            "Created 00002 at 1657397113.482445\n"
          ]
        },
        {
          "output_type": "stream",
          "name": "stderr",
          "text": [
            "127.0.0.1 - - [09/Jul/2022 20:05:14] \"\u001b[37mGET //sample/00001 HTTP/1.1\u001b[0m\" 200 -\n",
            "127.0.0.1 - - [09/Jul/2022 20:05:14] \"\u001b[37mGET //sample/00002 HTTP/1.1\u001b[0m\" 200 -\n",
            "127.0.0.1 - - [09/Jul/2022 20:05:14] \"\u001b[37mGET //sample HTTP/1.1\u001b[0m\" 200 -\n",
            "127.0.0.1 - - [09/Jul/2022 20:05:14] \"\u001b[37mGET //sample HTTP/1.1\u001b[0m\" 200 -\n",
            "127.0.0.1 - - [09/Jul/2022 20:05:15] \"\u001b[37mGET //sample HTTP/1.1\u001b[0m\" 200 -\n",
            "127.0.0.1 - - [09/Jul/2022 20:05:15] \"\u001b[37mGET //sample HTTP/1.1\u001b[0m\" 200 -\n",
            "127.0.0.1 - - [09/Jul/2022 20:05:15] \"\u001b[37mGET //sample HTTP/1.1\u001b[0m\" 200 -\n",
            "127.0.0.1 - - [09/Jul/2022 20:05:15] \"\u001b[37mGET //sample HTTP/1.1\u001b[0m\" 200 -\n",
            "127.0.0.1 - - [09/Jul/2022 20:05:15] \"\u001b[37mGET //sample HTTP/1.1\u001b[0m\" 200 -\n"
          ]
        },
        {
          "output_type": "stream",
          "name": "stdout",
          "text": [
            "Created 00000 at 1657397115.707695\n",
            "Created 00001 at 1657397115.707695\n"
          ]
        },
        {
          "output_type": "stream",
          "name": "stderr",
          "text": [
            "127.0.0.1 - - [09/Jul/2022 20:05:16] \"\u001b[37mGET //sample HTTP/1.1\u001b[0m\" 200 -\n",
            "127.0.0.1 - - [09/Jul/2022 20:05:16] \"\u001b[37mGET //sample/00000 HTTP/1.1\u001b[0m\" 200 -\n"
          ]
        },
        {
          "output_type": "stream",
          "name": "stdout",
          "text": [
            "Created 00002 at 1657397115.707695\n",
            "Created 00000 at 1657397116.460417\n",
            "Created 00001 at 1657397116.460417\n",
            "Created 00002 at 1657397116.460417\n"
          ]
        },
        {
          "output_type": "display_data",
          "data": {
            "text/plain": [
              "  0%|          | 0/27 [00:00<?, ?it/s]"
            ],
            "application/vnd.jupyter.widget-view+json": {
              "version_major": 2,
              "version_minor": 0,
              "model_id": "5c4e104d391942bb9e2561ca8b4f3605"
            }
          },
          "metadata": {}
        },
        {
          "output_type": "stream",
          "name": "stderr",
          "text": [
            "127.0.0.1 - - [09/Jul/2022 20:05:16] \"\u001b[37mGET //sample/00001 HTTP/1.1\u001b[0m\" 200 -\n",
            "127.0.0.1 - - [09/Jul/2022 20:05:17] \"\u001b[37mGET //sample/00002 HTTP/1.1\u001b[0m\" 200 -\n",
            "127.0.0.1 - - [09/Jul/2022 20:05:17] \"\u001b[37mGET //sample HTTP/1.1\u001b[0m\" 200 -\n",
            "127.0.0.1 - - [09/Jul/2022 20:05:17] \"\u001b[37mGET //sample/00000 HTTP/1.1\u001b[0m\" 200 -\n",
            "127.0.0.1 - - [09/Jul/2022 20:05:17] \"\u001b[37mGET //sample/00001 HTTP/1.1\u001b[0m\" 200 -\n",
            "127.0.0.1 - - [09/Jul/2022 20:05:18] \"\u001b[37mGET //sample/00002 HTTP/1.1\u001b[0m\" 200 -\n"
          ]
        },
        {
          "output_type": "stream",
          "name": "stdout",
          "text": [
            "Created 00003 at 1657397118.355181\n",
            "Created 00004 at 1657397118.355181\n"
          ]
        },
        {
          "output_type": "stream",
          "name": "stderr",
          "text": [
            "127.0.0.1 - - [09/Jul/2022 20:05:18] \"\u001b[37mGET //sample HTTP/1.1\u001b[0m\" 200 -\n",
            "127.0.0.1 - - [09/Jul/2022 20:05:18] \"\u001b[37mGET //sample/00003 HTTP/1.1\u001b[0m\" 200 -\n"
          ]
        },
        {
          "output_type": "stream",
          "name": "stdout",
          "text": [
            "Created 00005 at 1657397118.355181\n"
          ]
        },
        {
          "output_type": "stream",
          "name": "stderr",
          "text": [
            "127.0.0.1 - - [09/Jul/2022 20:05:19] \"\u001b[37mGET //sample/00004 HTTP/1.1\u001b[0m\" 200 -\n",
            "127.0.0.1 - - [09/Jul/2022 20:05:19] \"\u001b[37mGET //sample/00005 HTTP/1.1\u001b[0m\" 200 -\n",
            "127.0.0.1 - - [09/Jul/2022 20:05:19] \"\u001b[37mGET //sample HTTP/1.1\u001b[0m\" 200 -\n",
            "127.0.0.1 - - [09/Jul/2022 20:05:19] \"\u001b[37mGET //sample HTTP/1.1\u001b[0m\" 200 -\n",
            "127.0.0.1 - - [09/Jul/2022 20:05:19] \"\u001b[37mGET //sample HTTP/1.1\u001b[0m\" 200 -\n",
            "127.0.0.1 - - [09/Jul/2022 20:05:20] \"\u001b[37mGET //sample HTTP/1.1\u001b[0m\" 200 -\n",
            "127.0.0.1 - - [09/Jul/2022 20:05:20] \"\u001b[37mGET //sample HTTP/1.1\u001b[0m\" 200 -\n",
            "127.0.0.1 - - [09/Jul/2022 20:05:20] \"\u001b[37mGET //sample HTTP/1.1\u001b[0m\" 200 -\n",
            "127.0.0.1 - - [09/Jul/2022 20:05:20] \"\u001b[37mGET //sample HTTP/1.1\u001b[0m\" 200 -\n",
            "127.0.0.1 - - [09/Jul/2022 20:05:20] \"\u001b[37mGET //sample HTTP/1.1\u001b[0m\" 200 -\n",
            "127.0.0.1 - - [09/Jul/2022 20:05:20] \"\u001b[37mGET //sample HTTP/1.1\u001b[0m\" 200 -\n",
            "127.0.0.1 - - [09/Jul/2022 20:05:20] \"\u001b[37mGET //sample HTTP/1.1\u001b[0m\" 200 -\n",
            "127.0.0.1 - - [09/Jul/2022 20:05:21] \"\u001b[37mGET //sample HTTP/1.1\u001b[0m\" 200 -\n",
            "127.0.0.1 - - [09/Jul/2022 20:05:21] \"\u001b[37mGET //sample HTTP/1.1\u001b[0m\" 200 -\n",
            "127.0.0.1 - - [09/Jul/2022 20:05:21] \"\u001b[37mGET //sample HTTP/1.1\u001b[0m\" 200 -\n",
            "127.0.0.1 - - [09/Jul/2022 20:05:21] \"\u001b[37mGET //sample HTTP/1.1\u001b[0m\" 200 -\n",
            "127.0.0.1 - - [09/Jul/2022 20:05:21] \"\u001b[37mGET //sample HTTP/1.1\u001b[0m\" 200 -\n",
            "127.0.0.1 - - [09/Jul/2022 20:05:21] \"\u001b[37mGET //sample HTTP/1.1\u001b[0m\" 200 -\n",
            "127.0.0.1 - - [09/Jul/2022 20:05:21] \"\u001b[37mGET //sample HTTP/1.1\u001b[0m\" 200 -\n",
            "127.0.0.1 - - [09/Jul/2022 20:05:22] \"\u001b[37mGET //sample HTTP/1.1\u001b[0m\" 200 -\n",
            "127.0.0.1 - - [09/Jul/2022 20:05:22] \"\u001b[37mGET //sample HTTP/1.1\u001b[0m\" 200 -\n",
            "127.0.0.1 - - [09/Jul/2022 20:05:22] \"\u001b[37mGET //sample HTTP/1.1\u001b[0m\" 200 -\n",
            "127.0.0.1 - - [09/Jul/2022 20:05:22] \"\u001b[37mGET //sample HTTP/1.1\u001b[0m\" 200 -\n",
            "127.0.0.1 - - [09/Jul/2022 20:05:22] \"\u001b[37mGET //sample HTTP/1.1\u001b[0m\" 200 -\n",
            "127.0.0.1 - - [09/Jul/2022 20:05:22] \"\u001b[37mGET //sample HTTP/1.1\u001b[0m\" 200 -\n"
          ]
        },
        {
          "output_type": "stream",
          "name": "stdout",
          "text": [
            "Created 00003 at 1657397122.855925\n",
            "Created 00004 at 1657397122.855925\n"
          ]
        },
        {
          "output_type": "stream",
          "name": "stderr",
          "text": [
            "127.0.0.1 - - [09/Jul/2022 20:05:23] \"\u001b[37mGET //sample HTTP/1.1\u001b[0m\" 200 -\n"
          ]
        },
        {
          "output_type": "stream",
          "name": "stdout",
          "text": [
            "Created 00005 at 1657397122.855925\n"
          ]
        },
        {
          "output_type": "stream",
          "name": "stderr",
          "text": [
            "127.0.0.1 - - [09/Jul/2022 20:05:23] \"\u001b[37mGET //sample/00003 HTTP/1.1\u001b[0m\" 200 -\n",
            "127.0.0.1 - - [09/Jul/2022 20:05:23] \"\u001b[37mGET //sample/00004 HTTP/1.1\u001b[0m\" 200 -\n",
            "127.0.0.1 - - [09/Jul/2022 20:05:24] \"\u001b[37mGET //sample/00005 HTTP/1.1\u001b[0m\" 200 -\n",
            "127.0.0.1 - - [09/Jul/2022 20:05:24] \"\u001b[37mGET //sample HTTP/1.1\u001b[0m\" 200 -\n",
            "127.0.0.1 - - [09/Jul/2022 20:05:24] \"\u001b[37mGET //sample HTTP/1.1\u001b[0m\" 200 -\n",
            "127.0.0.1 - - [09/Jul/2022 20:05:24] \"\u001b[37mGET //sample HTTP/1.1\u001b[0m\" 200 -\n",
            "127.0.0.1 - - [09/Jul/2022 20:05:24] \"\u001b[37mGET //sample HTTP/1.1\u001b[0m\" 200 -\n",
            "127.0.0.1 - - [09/Jul/2022 20:05:24] \"\u001b[37mGET //sample HTTP/1.1\u001b[0m\" 200 -\n",
            "127.0.0.1 - - [09/Jul/2022 20:05:25] \"\u001b[37mGET //sample HTTP/1.1\u001b[0m\" 200 -\n"
          ]
        },
        {
          "output_type": "stream",
          "name": "stdout",
          "text": [
            "Created 00003 at 1657397125.149614\n",
            "Created 00004 at 1657397125.149614\n"
          ]
        },
        {
          "output_type": "stream",
          "name": "stderr",
          "text": [
            "127.0.0.1 - - [09/Jul/2022 20:05:25] \"\u001b[37mGET //sample HTTP/1.1\u001b[0m\" 200 -\n"
          ]
        },
        {
          "output_type": "stream",
          "name": "stdout",
          "text": [
            "Created 00005 at 1657397125.149614\n"
          ]
        },
        {
          "output_type": "stream",
          "name": "stderr",
          "text": [
            "127.0.0.1 - - [09/Jul/2022 20:05:25] \"\u001b[37mGET //sample/00003 HTTP/1.1\u001b[0m\" 200 -\n",
            "127.0.0.1 - - [09/Jul/2022 20:05:26] \"\u001b[37mGET //sample/00004 HTTP/1.1\u001b[0m\" 200 -\n",
            "127.0.0.1 - - [09/Jul/2022 20:05:26] \"\u001b[37mGET //sample/00005 HTTP/1.1\u001b[0m\" 200 -\n",
            "127.0.0.1 - - [09/Jul/2022 20:05:26] \"\u001b[37mGET //sample HTTP/1.1\u001b[0m\" 200 -\n",
            "127.0.0.1 - - [09/Jul/2022 20:05:26] \"\u001b[37mGET //sample HTTP/1.1\u001b[0m\" 200 -\n",
            "127.0.0.1 - - [09/Jul/2022 20:05:26] \"\u001b[37mGET //sample HTTP/1.1\u001b[0m\" 200 -\n",
            "127.0.0.1 - - [09/Jul/2022 20:05:26] \"\u001b[37mGET //sample HTTP/1.1\u001b[0m\" 200 -\n",
            "127.0.0.1 - - [09/Jul/2022 20:05:27] \"\u001b[37mGET //sample HTTP/1.1\u001b[0m\" 200 -\n"
          ]
        },
        {
          "output_type": "stream",
          "name": "stdout",
          "text": [
            "Created 00003 at 1657397127.446408\n",
            "Created 00004 at 1657397127.446408\n",
            "Created 00005 at 1657397127.446408\n"
          ]
        },
        {
          "output_type": "stream",
          "name": "stderr",
          "text": [
            "127.0.0.1 - - [09/Jul/2022 20:05:28] \"\u001b[37mGET //sample HTTP/1.1\u001b[0m\" 200 -\n",
            "127.0.0.1 - - [09/Jul/2022 20:05:28] \"\u001b[37mGET //sample/00003 HTTP/1.1\u001b[0m\" 200 -\n",
            "127.0.0.1 - - [09/Jul/2022 20:05:29] \"\u001b[37mGET //sample/00004 HTTP/1.1\u001b[0m\" 200 -\n",
            "127.0.0.1 - - [09/Jul/2022 20:05:29] \"\u001b[37mGET //sample/00005 HTTP/1.1\u001b[0m\" 200 -\n"
          ]
        },
        {
          "output_type": "stream",
          "name": "stdout",
          "text": [
            "Created 00003 at 1657397129.758824\n",
            "Created 00004 at 1657397129.758824\n"
          ]
        },
        {
          "output_type": "stream",
          "name": "stderr",
          "text": [
            "127.0.0.1 - - [09/Jul/2022 20:05:30] \"\u001b[37mGET //sample HTTP/1.1\u001b[0m\" 200 -\n"
          ]
        },
        {
          "output_type": "stream",
          "name": "stdout",
          "text": [
            "Created 00005 at 1657397129.758824\n"
          ]
        },
        {
          "output_type": "stream",
          "name": "stderr",
          "text": [
            "127.0.0.1 - - [09/Jul/2022 20:05:30] \"\u001b[37mGET //sample/00003 HTTP/1.1\u001b[0m\" 200 -\n",
            "127.0.0.1 - - [09/Jul/2022 20:05:31] \"\u001b[37mGET //sample/00004 HTTP/1.1\u001b[0m\" 200 -\n",
            "127.0.0.1 - - [09/Jul/2022 20:05:31] \"\u001b[37mGET //sample/00005 HTTP/1.1\u001b[0m\" 200 -\n"
          ]
        },
        {
          "output_type": "stream",
          "name": "stdout",
          "text": [
            "Created 00003 at 1657397132.074575\n",
            "Created 00004 at 1657397132.074575\n"
          ]
        },
        {
          "output_type": "stream",
          "name": "stderr",
          "text": [
            "127.0.0.1 - - [09/Jul/2022 20:05:32] \"\u001b[37mGET //sample HTTP/1.1\u001b[0m\" 200 -\n"
          ]
        },
        {
          "output_type": "stream",
          "name": "stdout",
          "text": [
            "Created 00005 at 1657397132.074575\n",
            "Created 00003 at 1657397132.86356\n",
            "Created 00004 at 1657397132.86356\n",
            "Created 00005 at 1657397132.86356\n"
          ]
        },
        {
          "output_type": "display_data",
          "data": {
            "text/plain": [
              "  0%|          | 0/27 [00:00<?, ?it/s]"
            ],
            "application/vnd.jupyter.widget-view+json": {
              "version_major": 2,
              "version_minor": 0,
              "model_id": "1b415239b6cb4b799555eb59d8893c10"
            }
          },
          "metadata": {}
        },
        {
          "output_type": "stream",
          "name": "stderr",
          "text": [
            "127.0.0.1 - - [09/Jul/2022 20:05:33] \"\u001b[37mGET //sample/00003 HTTP/1.1\u001b[0m\" 200 -\n",
            "127.0.0.1 - - [09/Jul/2022 20:05:34] \"\u001b[37mGET //sample/00004 HTTP/1.1\u001b[0m\" 200 -\n"
          ]
        },
        {
          "output_type": "stream",
          "name": "stdout",
          "text": [
            "Created 00006 at 1657397134.82594\n",
            "Created 00007 at 1657397134.82594\n"
          ]
        },
        {
          "output_type": "stream",
          "name": "stderr",
          "text": [
            "127.0.0.1 - - [09/Jul/2022 20:05:35] \"\u001b[37mGET //sample/00005 HTTP/1.1\u001b[0m\" 200 -\n"
          ]
        },
        {
          "output_type": "stream",
          "name": "stdout",
          "text": [
            "Created 00008 at 1657397134.82594\n"
          ]
        },
        {
          "output_type": "stream",
          "name": "stderr",
          "text": [
            "127.0.0.1 - - [09/Jul/2022 20:05:36] \"\u001b[37mGET //sample HTTP/1.1\u001b[0m\" 200 -\n",
            "127.0.0.1 - - [09/Jul/2022 20:05:36] \"\u001b[37mGET //sample/00003 HTTP/1.1\u001b[0m\" 200 -\n",
            "127.0.0.1 - - [09/Jul/2022 20:05:37] \"\u001b[37mGET //sample/00004 HTTP/1.1\u001b[0m\" 200 -\n",
            "127.0.0.1 - - [09/Jul/2022 20:05:37] \"\u001b[37mGET //sample/00005 HTTP/1.1\u001b[0m\" 200 -\n",
            "127.0.0.1 - - [09/Jul/2022 20:05:37] \"\u001b[37mGET //sample/00006 HTTP/1.1\u001b[0m\" 200 -\n",
            "127.0.0.1 - - [09/Jul/2022 20:05:38] \"\u001b[37mGET //sample/00007 HTTP/1.1\u001b[0m\" 200 -\n",
            "127.0.0.1 - - [09/Jul/2022 20:05:38] \"\u001b[37mGET //sample/00008 HTTP/1.1\u001b[0m\" 200 -\n",
            "127.0.0.1 - - [09/Jul/2022 20:05:39] \"\u001b[37mGET //sample HTTP/1.1\u001b[0m\" 200 -\n",
            "127.0.0.1 - - [09/Jul/2022 20:05:39] \"\u001b[37mGET //sample HTTP/1.1\u001b[0m\" 200 -\n",
            "127.0.0.1 - - [09/Jul/2022 20:05:39] \"\u001b[37mGET //sample HTTP/1.1\u001b[0m\" 200 -\n",
            "127.0.0.1 - - [09/Jul/2022 20:05:39] \"\u001b[37mGET //sample HTTP/1.1\u001b[0m\" 200 -\n"
          ]
        },
        {
          "output_type": "stream",
          "name": "stdout",
          "text": [
            "Created 00006 at 1657397139.518922\n",
            "Created 00007 at 1657397139.518922\n"
          ]
        },
        {
          "output_type": "stream",
          "name": "stderr",
          "text": [
            "127.0.0.1 - - [09/Jul/2022 20:05:39] \"\u001b[37mGET //sample HTTP/1.1\u001b[0m\" 200 -\n",
            "127.0.0.1 - - [09/Jul/2022 20:05:40] \"\u001b[37mGET //sample/00006 HTTP/1.1\u001b[0m\" 200 -\n"
          ]
        },
        {
          "output_type": "stream",
          "name": "stdout",
          "text": [
            "Created 00008 at 1657397139.518922\n"
          ]
        },
        {
          "output_type": "stream",
          "name": "stderr",
          "text": [
            "127.0.0.1 - - [09/Jul/2022 20:05:40] \"\u001b[37mGET //sample/00007 HTTP/1.1\u001b[0m\" 200 -\n",
            "127.0.0.1 - - [09/Jul/2022 20:05:40] \"\u001b[37mGET //sample/00008 HTTP/1.1\u001b[0m\" 200 -\n",
            "127.0.0.1 - - [09/Jul/2022 20:05:41] \"\u001b[37mGET //sample HTTP/1.1\u001b[0m\" 200 -\n",
            "127.0.0.1 - - [09/Jul/2022 20:05:41] \"\u001b[37mGET //sample HTTP/1.1\u001b[0m\" 200 -\n",
            "127.0.0.1 - - [09/Jul/2022 20:05:41] \"\u001b[37mGET //sample HTTP/1.1\u001b[0m\" 200 -\n",
            "127.0.0.1 - - [09/Jul/2022 20:05:41] \"\u001b[37mGET //sample HTTP/1.1\u001b[0m\" 200 -\n",
            "127.0.0.1 - - [09/Jul/2022 20:05:41] \"\u001b[37mGET //sample HTTP/1.1\u001b[0m\" 200 -\n"
          ]
        },
        {
          "output_type": "stream",
          "name": "stdout",
          "text": [
            "Created 00006 at 1657397141.89437\n",
            "Created 00007 at 1657397141.89437\n"
          ]
        },
        {
          "output_type": "stream",
          "name": "stderr",
          "text": [
            "127.0.0.1 - - [09/Jul/2022 20:05:42] \"\u001b[37mGET //sample HTTP/1.1\u001b[0m\" 200 -\n",
            "127.0.0.1 - - [09/Jul/2022 20:05:42] \"\u001b[37mGET //sample/00006 HTTP/1.1\u001b[0m\" 200 -\n"
          ]
        },
        {
          "output_type": "stream",
          "name": "stdout",
          "text": [
            "Created 00008 at 1657397141.89437\n"
          ]
        },
        {
          "output_type": "stream",
          "name": "stderr",
          "text": [
            "127.0.0.1 - - [09/Jul/2022 20:05:42] \"\u001b[37mGET //sample/00007 HTTP/1.1\u001b[0m\" 200 -\n",
            "127.0.0.1 - - [09/Jul/2022 20:05:43] \"\u001b[37mGET //sample/00008 HTTP/1.1\u001b[0m\" 200 -\n",
            "127.0.0.1 - - [09/Jul/2022 20:05:43] \"\u001b[37mGET //sample HTTP/1.1\u001b[0m\" 200 -\n",
            "127.0.0.1 - - [09/Jul/2022 20:05:44] \"\u001b[37mGET //sample HTTP/1.1\u001b[0m\" 200 -\n",
            "127.0.0.1 - - [09/Jul/2022 20:05:44] \"\u001b[37mGET //sample HTTP/1.1\u001b[0m\" 200 -\n"
          ]
        },
        {
          "output_type": "stream",
          "name": "stdout",
          "text": [
            "Created 00006 at 1657397144.269815\n",
            "Created 00007 at 1657397144.269815\n"
          ]
        },
        {
          "output_type": "stream",
          "name": "stderr",
          "text": [
            "127.0.0.1 - - [09/Jul/2022 20:05:44] \"\u001b[37mGET //sample HTTP/1.1\u001b[0m\" 200 -\n",
            "127.0.0.1 - - [09/Jul/2022 20:05:44] \"\u001b[37mGET //sample/00006 HTTP/1.1\u001b[0m\" 200 -\n"
          ]
        },
        {
          "output_type": "stream",
          "name": "stdout",
          "text": [
            "Created 00008 at 1657397144.269815\n"
          ]
        },
        {
          "output_type": "stream",
          "name": "stderr",
          "text": [
            "127.0.0.1 - - [09/Jul/2022 20:05:45] \"\u001b[37mGET //sample/00007 HTTP/1.1\u001b[0m\" 200 -\n",
            "127.0.0.1 - - [09/Jul/2022 20:05:45] \"\u001b[37mGET //sample/00008 HTTP/1.1\u001b[0m\" 200 -\n"
          ]
        },
        {
          "output_type": "stream",
          "name": "stdout",
          "text": [
            "Created 00006 at 1657397146.683295\n",
            "Created 00007 at 1657397146.683295\n"
          ]
        },
        {
          "output_type": "stream",
          "name": "stderr",
          "text": [
            "127.0.0.1 - - [09/Jul/2022 20:05:47] \"\u001b[37mGET //sample HTTP/1.1\u001b[0m\" 200 -\n"
          ]
        },
        {
          "output_type": "stream",
          "name": "stdout",
          "text": [
            "Created 00008 at 1657397146.683295\n"
          ]
        },
        {
          "output_type": "stream",
          "name": "stderr",
          "text": [
            "127.0.0.1 - - [09/Jul/2022 20:05:47] \"\u001b[37mGET //sample/00006 HTTP/1.1\u001b[0m\" 200 -\n",
            "127.0.0.1 - - [09/Jul/2022 20:05:48] \"\u001b[37mGET //sample/00007 HTTP/1.1\u001b[0m\" 200 -\n"
          ]
        },
        {
          "output_type": "stream",
          "name": "stdout",
          "text": [
            "Created 00006 at 1657397149.100897\n",
            "Created 00007 at 1657397149.100897\n",
            "Created 00008 at 1657397149.100897\n",
            "Created 00006 at 1657397149.91377\n",
            "Created 00007 at 1657397149.91377\n",
            "Created 00008 at 1657397149.91377\n"
          ]
        },
        {
          "output_type": "stream",
          "name": "stderr",
          "text": [
            "127.0.0.1 - - [09/Jul/2022 20:07:53] \"\u001b[37mGET / HTTP/1.1\u001b[0m\" 200 -\n",
            "127.0.0.1 - - [09/Jul/2022 20:08:03] \"\u001b[37mPOST / HTTP/1.1\u001b[0m\" 200 -\n"
          ]
        },
        {
          "output_type": "display_data",
          "data": {
            "text/plain": [
              "  0%|          | 0/27 [00:00<?, ?it/s]"
            ],
            "application/vnd.jupyter.widget-view+json": {
              "version_major": 2,
              "version_minor": 0,
              "model_id": "3b730e500463481cbfc14c6daf674ae0"
            }
          },
          "metadata": {}
        },
        {
          "output_type": "stream",
          "name": "stdout",
          "text": [
            "Created 00000 at 1657397283.706512\n",
            "Created 00000 at 1657397285.633761\n"
          ]
        },
        {
          "output_type": "stream",
          "name": "stderr",
          "text": [
            "127.0.0.1 - - [09/Jul/2022 20:08:06] \"\u001b[37mGET //sample HTTP/1.1\u001b[0m\" 200 -\n",
            "127.0.0.1 - - [09/Jul/2022 20:08:06] \"\u001b[37mGET //sample/00000 HTTP/1.1\u001b[0m\" 200 -\n"
          ]
        },
        {
          "output_type": "stream",
          "name": "stdout",
          "text": [
            "Created 00000 at 1657397286.587107\n",
            "Created 00000 at 1657397287.536849\n",
            "Created 00000 at 1657397288.499124\n"
          ]
        },
        {
          "output_type": "stream",
          "name": "stderr",
          "text": [
            "127.0.0.1 - - [09/Jul/2022 20:08:09] \"\u001b[37mGET //sample HTTP/1.1\u001b[0m\" 200 -\n"
          ]
        },
        {
          "output_type": "stream",
          "name": "stdout",
          "text": [
            "Created 00000 at 1657397289.44662\n"
          ]
        },
        {
          "output_type": "stream",
          "name": "stderr",
          "text": [
            "127.0.0.1 - - [09/Jul/2022 20:08:09] \"\u001b[37mGET //sample/00000 HTTP/1.1\u001b[0m\" 200 -\n"
          ]
        },
        {
          "output_type": "stream",
          "name": "stdout",
          "text": [
            "Created 00000 at 1657397289.744615\n"
          ]
        },
        {
          "output_type": "stream",
          "name": "stderr",
          "text": [
            "127.0.0.1 - - [09/Jul/2022 20:08:13] \"\u001b[37mGET //sample HTTP/1.1\u001b[0m\" 200 -\n",
            "127.0.0.1 - - [09/Jul/2022 20:08:13] \"\u001b[37mGET //sample/00000 HTTP/1.1\u001b[0m\" 200 -\n",
            "127.0.0.1 - - [09/Jul/2022 20:08:30] \"\u001b[37mPOST / HTTP/1.1\u001b[0m\" 200 -\n"
          ]
        },
        {
          "output_type": "display_data",
          "data": {
            "text/plain": [
              "  0%|          | 0/27 [00:00<?, ?it/s]"
            ],
            "application/vnd.jupyter.widget-view+json": {
              "version_major": 2,
              "version_minor": 0,
              "model_id": "dfa08b20b1154d5ca0c4f1c60c7fd0ed"
            }
          },
          "metadata": {}
        },
        {
          "output_type": "stream",
          "name": "stdout",
          "text": [
            "Created 00000 at 1657397312.329506\n",
            "Created 00001 at 1657397312.329506\n",
            "Created 00002 at 1657397312.329506\n",
            "Created 00003 at 1657397312.329506\n",
            "Created 00004 at 1657397312.329506\n"
          ]
        },
        {
          "output_type": "stream",
          "name": "stderr",
          "text": [
            "127.0.0.1 - - [09/Jul/2022 20:08:33] \"\u001b[37mGET //sample HTTP/1.1\u001b[0m\" 200 -\n",
            "127.0.0.1 - - [09/Jul/2022 20:08:33] \"\u001b[37mGET //sample/00000 HTTP/1.1\u001b[0m\" 200 -\n",
            "127.0.0.1 - - [09/Jul/2022 20:08:33] \"\u001b[37mGET //sample/00001 HTTP/1.1\u001b[0m\" 200 -\n",
            "127.0.0.1 - - [09/Jul/2022 20:08:34] \"\u001b[37mGET //sample/00002 HTTP/1.1\u001b[0m\" 200 -\n",
            "127.0.0.1 - - [09/Jul/2022 20:08:34] \"\u001b[37mGET //sample/00003 HTTP/1.1\u001b[0m\" 200 -\n",
            "127.0.0.1 - - [09/Jul/2022 20:08:34] \"\u001b[37mGET //sample/00004 HTTP/1.1\u001b[0m\" 200 -\n",
            "127.0.0.1 - - [09/Jul/2022 20:08:37] \"\u001b[37mGET //sample HTTP/1.1\u001b[0m\" 200 -\n"
          ]
        },
        {
          "output_type": "stream",
          "name": "stdout",
          "text": [
            "Created 00000 at 1657397319.203147\n",
            "Created 00001 at 1657397319.203147\n",
            "Created 00002 at 1657397319.203147\n",
            "Created 00003 at 1657397319.203147\n",
            "Created 00004 at 1657397319.203147\n"
          ]
        },
        {
          "output_type": "stream",
          "name": "stderr",
          "text": [
            "127.0.0.1 - - [09/Jul/2022 20:08:41] \"\u001b[37mGET //sample HTTP/1.1\u001b[0m\" 200 -\n",
            "127.0.0.1 - - [09/Jul/2022 20:08:41] \"\u001b[37mGET //sample/00000 HTTP/1.1\u001b[0m\" 200 -\n",
            "127.0.0.1 - - [09/Jul/2022 20:08:41] \"\u001b[37mGET //sample/00001 HTTP/1.1\u001b[0m\" 200 -\n",
            "127.0.0.1 - - [09/Jul/2022 20:08:41] \"\u001b[37mGET //sample/00002 HTTP/1.1\u001b[0m\" 200 -\n",
            "127.0.0.1 - - [09/Jul/2022 20:08:42] \"\u001b[37mGET //sample/00003 HTTP/1.1\u001b[0m\" 200 -\n",
            "127.0.0.1 - - [09/Jul/2022 20:08:42] \"\u001b[37mGET //sample/00004 HTTP/1.1\u001b[0m\" 200 -\n"
          ]
        },
        {
          "output_type": "stream",
          "name": "stdout",
          "text": [
            "Created 00000 at 1657397322.743631\n",
            "Created 00001 at 1657397322.743631\n",
            "Created 00002 at 1657397322.743631\n",
            "Created 00003 at 1657397322.743631\n",
            "Created 00004 at 1657397322.743631\n"
          ]
        },
        {
          "output_type": "stream",
          "name": "stderr",
          "text": [
            "127.0.0.1 - - [09/Jul/2022 20:08:45] \"\u001b[37mGET //sample HTTP/1.1\u001b[0m\" 200 -\n",
            "127.0.0.1 - - [09/Jul/2022 20:08:45] \"\u001b[37mGET //sample/00000 HTTP/1.1\u001b[0m\" 200 -\n",
            "127.0.0.1 - - [09/Jul/2022 20:08:46] \"\u001b[37mGET //sample/00001 HTTP/1.1\u001b[0m\" 200 -\n"
          ]
        },
        {
          "output_type": "stream",
          "name": "stdout",
          "text": [
            "Created 00000 at 1657397326.301038\n",
            "Created 00001 at 1657397326.301038\n",
            "Created 00002 at 1657397326.301038\n",
            "Created 00003 at 1657397326.301038\n"
          ]
        },
        {
          "output_type": "stream",
          "name": "stderr",
          "text": [
            "127.0.0.1 - - [09/Jul/2022 20:08:46] \"\u001b[37mGET //sample/00002 HTTP/1.1\u001b[0m\" 200 -\n"
          ]
        },
        {
          "output_type": "stream",
          "name": "stdout",
          "text": [
            "Created 00004 at 1657397326.301038\n"
          ]
        },
        {
          "output_type": "stream",
          "name": "stderr",
          "text": [
            "127.0.0.1 - - [09/Jul/2022 20:08:47] \"\u001b[37mGET //sample/00003 HTTP/1.1\u001b[0m\" 200 -\n",
            "127.0.0.1 - - [09/Jul/2022 20:08:47] \"\u001b[37mGET //sample/00004 HTTP/1.1\u001b[0m\" 200 -\n"
          ]
        },
        {
          "output_type": "stream",
          "name": "stdout",
          "text": [
            "Created 00000 at 1657397329.922378\n",
            "Created 00001 at 1657397329.922378\n",
            "Created 00002 at 1657397329.922378\n",
            "Created 00003 at 1657397329.922378\n",
            "Created 00004 at 1657397329.922378\n"
          ]
        },
        {
          "output_type": "stream",
          "name": "stderr",
          "text": [
            "127.0.0.1 - - [09/Jul/2022 20:08:50] \"\u001b[37mGET //sample HTTP/1.1\u001b[0m\" 200 -\n",
            "127.0.0.1 - - [09/Jul/2022 20:08:50] \"\u001b[37mGET //sample/00000 HTTP/1.1\u001b[0m\" 200 -\n",
            "127.0.0.1 - - [09/Jul/2022 20:08:51] \"\u001b[37mGET //sample/00001 HTTP/1.1\u001b[0m\" 200 -\n",
            "127.0.0.1 - - [09/Jul/2022 20:08:51] \"\u001b[37mGET //sample/00002 HTTP/1.1\u001b[0m\" 200 -\n",
            "127.0.0.1 - - [09/Jul/2022 20:08:51] \"\u001b[37mGET //sample/00003 HTTP/1.1\u001b[0m\" 200 -\n",
            "127.0.0.1 - - [09/Jul/2022 20:08:52] \"\u001b[37mGET //sample/00004 HTTP/1.1\u001b[0m\" 200 -\n"
          ]
        },
        {
          "output_type": "stream",
          "name": "stdout",
          "text": [
            "Created 00000 at 1657397333.562385\n",
            "Created 00001 at 1657397333.562385\n",
            "Created 00002 at 1657397333.562385\n",
            "Created 00003 at 1657397333.562385\n",
            "Created 00004 at 1657397333.562385\n",
            "Created 00000 at 1657397334.823353\n",
            "Created 00001 at 1657397334.823353\n",
            "Created 00002 at 1657397334.823353\n",
            "Created 00003 at 1657397334.823353\n",
            "Created 00004 at 1657397334.823353\n"
          ]
        },
        {
          "output_type": "stream",
          "name": "stderr",
          "text": [
            "127.0.0.1 - - [09/Jul/2022 20:08:55] \"\u001b[37mGET //sample HTTP/1.1\u001b[0m\" 200 -\n"
          ]
        },
        {
          "output_type": "display_data",
          "data": {
            "text/plain": [
              "  0%|          | 0/27 [00:00<?, ?it/s]"
            ],
            "application/vnd.jupyter.widget-view+json": {
              "version_major": 2,
              "version_minor": 0,
              "model_id": "fda011c8fe8447a3b23ba4e4dddd2ac2"
            }
          },
          "metadata": {}
        },
        {
          "output_type": "stream",
          "name": "stderr",
          "text": [
            "127.0.0.1 - - [09/Jul/2022 20:08:55] \"\u001b[37mGET //sample/00000 HTTP/1.1\u001b[0m\" 200 -\n",
            "127.0.0.1 - - [09/Jul/2022 20:08:56] \"\u001b[37mGET //sample/00001 HTTP/1.1\u001b[0m\" 200 -\n",
            "127.0.0.1 - - [09/Jul/2022 20:08:56] \"\u001b[37mGET //sample/00002 HTTP/1.1\u001b[0m\" 200 -\n",
            "127.0.0.1 - - [09/Jul/2022 20:08:56] \"\u001b[37mGET //sample/00003 HTTP/1.1\u001b[0m\" 200 -\n",
            "127.0.0.1 - - [09/Jul/2022 20:08:57] \"\u001b[37mGET //sample/00004 HTTP/1.1\u001b[0m\" 200 -\n"
          ]
        },
        {
          "output_type": "stream",
          "name": "stdout",
          "text": [
            "Created 00005 at 1657397337.947152\n",
            "Created 00006 at 1657397337.947152\n",
            "Created 00007 at 1657397337.947152\n",
            "Created 00008 at 1657397337.947152\n",
            "Created 00009 at 1657397337.947152\n"
          ]
        },
        {
          "output_type": "stream",
          "name": "stderr",
          "text": [
            "127.0.0.1 - - [09/Jul/2022 20:09:01] \"\u001b[37mGET //sample HTTP/1.1\u001b[0m\" 200 -\n",
            "127.0.0.1 - - [09/Jul/2022 20:09:01] \"\u001b[37mGET //sample/00005 HTTP/1.1\u001b[0m\" 200 -\n",
            "127.0.0.1 - - [09/Jul/2022 20:09:02] \"\u001b[37mGET //sample/00006 HTTP/1.1\u001b[0m\" 200 -\n",
            "127.0.0.1 - - [09/Jul/2022 20:09:03] \"\u001b[37mGET //sample/00007 HTTP/1.1\u001b[0m\" 200 -\n",
            "127.0.0.1 - - [09/Jul/2022 20:09:04] \"\u001b[37mGET //sample/00008 HTTP/1.1\u001b[0m\" 200 -\n"
          ]
        },
        {
          "output_type": "stream",
          "name": "stdout",
          "text": [
            "Created 00005 at 1657397345.352966\n",
            "Created 00006 at 1657397345.352966\n",
            "Created 00007 at 1657397345.352966\n",
            "Created 00008 at 1657397345.352966\n"
          ]
        },
        {
          "output_type": "stream",
          "name": "stderr",
          "text": [
            "127.0.0.1 - - [09/Jul/2022 20:09:06] \"\u001b[37mGET //sample/00009 HTTP/1.1\u001b[0m\" 200 -\n"
          ]
        },
        {
          "output_type": "stream",
          "name": "stdout",
          "text": [
            "Created 00009 at 1657397345.352966\n",
            "Created 00005 at 1657397349.126062\n",
            "Created 00006 at 1657397349.126062\n",
            "Created 00007 at 1657397349.126062\n",
            "Created 00008 at 1657397349.126062\n"
          ]
        },
        {
          "output_type": "stream",
          "name": "stderr",
          "text": [
            "127.0.0.1 - - [09/Jul/2022 20:09:09] \"\u001b[37mGET //sample HTTP/1.1\u001b[0m\" 200 -\n",
            "127.0.0.1 - - [09/Jul/2022 20:09:09] \"\u001b[37mGET //sample/00005 HTTP/1.1\u001b[0m\" 200 -\n"
          ]
        },
        {
          "output_type": "stream",
          "name": "stdout",
          "text": [
            "Created 00009 at 1657397349.126062\n"
          ]
        },
        {
          "output_type": "stream",
          "name": "stderr",
          "text": [
            "127.0.0.1 - - [09/Jul/2022 20:09:10] \"\u001b[37mGET //sample/00006 HTTP/1.1\u001b[0m\" 200 -\n",
            "127.0.0.1 - - [09/Jul/2022 20:09:11] \"\u001b[37mGET //sample/00007 HTTP/1.1\u001b[0m\" 200 -\n",
            "127.0.0.1 - - [09/Jul/2022 20:09:12] \"\u001b[37mGET //sample/00008 HTTP/1.1\u001b[0m\" 200 -\n"
          ]
        },
        {
          "output_type": "stream",
          "name": "stdout",
          "text": [
            "Created 00005 at 1657397352.922296\n",
            "Created 00006 at 1657397352.922296\n",
            "Created 00007 at 1657397352.922296\n",
            "Created 00008 at 1657397352.922296\n"
          ]
        },
        {
          "output_type": "stream",
          "name": "stderr",
          "text": [
            "127.0.0.1 - - [09/Jul/2022 20:09:13] \"\u001b[37mGET //sample/00009 HTTP/1.1\u001b[0m\" 200 -\n"
          ]
        },
        {
          "output_type": "stream",
          "name": "stdout",
          "text": [
            "Created 00009 at 1657397352.922296\n",
            "Created 00005 at 1657397356.68362\n",
            "Created 00006 at 1657397356.68362\n",
            "Created 00007 at 1657397356.68362\n",
            "Created 00008 at 1657397356.68362\n"
          ]
        },
        {
          "output_type": "stream",
          "name": "stderr",
          "text": [
            "127.0.0.1 - - [09/Jul/2022 20:09:17] \"\u001b[37mGET //sample HTTP/1.1\u001b[0m\" 200 -\n",
            "127.0.0.1 - - [09/Jul/2022 20:09:17] \"\u001b[37mGET //sample/00005 HTTP/1.1\u001b[0m\" 200 -\n"
          ]
        },
        {
          "output_type": "stream",
          "name": "stdout",
          "text": [
            "Created 00009 at 1657397356.68362\n"
          ]
        },
        {
          "output_type": "stream",
          "name": "stderr",
          "text": [
            "127.0.0.1 - - [09/Jul/2022 20:09:18] \"\u001b[37mGET //sample/00006 HTTP/1.1\u001b[0m\" 200 -\n",
            "127.0.0.1 - - [09/Jul/2022 20:09:19] \"\u001b[37mGET //sample/00007 HTTP/1.1\u001b[0m\" 200 -\n",
            "127.0.0.1 - - [09/Jul/2022 20:09:20] \"\u001b[37mGET //sample/00008 HTTP/1.1\u001b[0m\" 200 -\n"
          ]
        },
        {
          "output_type": "stream",
          "name": "stdout",
          "text": [
            "Created 00005 at 1657397360.4139\n",
            "Created 00006 at 1657397360.4139\n",
            "Created 00007 at 1657397360.4139\n",
            "Created 00008 at 1657397360.4139\n"
          ]
        },
        {
          "output_type": "stream",
          "name": "stderr",
          "text": [
            "127.0.0.1 - - [09/Jul/2022 20:09:21] \"\u001b[37mGET //sample/00009 HTTP/1.1\u001b[0m\" 200 -\n"
          ]
        },
        {
          "output_type": "stream",
          "name": "stdout",
          "text": [
            "Created 00009 at 1657397360.4139\n",
            "Created 00005 at 1657397361.686692\n",
            "Created 00006 at 1657397361.686692\n",
            "Created 00007 at 1657397361.686692\n",
            "Created 00008 at 1657397361.686692\n",
            "Created 00009 at 1657397361.686692\n"
          ]
        },
        {
          "output_type": "display_data",
          "data": {
            "text/plain": [
              "  0%|          | 0/27 [00:00<?, ?it/s]"
            ],
            "application/vnd.jupyter.widget-view+json": {
              "version_major": 2,
              "version_minor": 0,
              "model_id": "5249551377d7432da9d7dc5626ecd8e2"
            }
          },
          "metadata": {}
        },
        {
          "output_type": "stream",
          "name": "stdout",
          "text": [
            "Created 00010 at 1657397364.778903\n",
            "Created 00011 at 1657397364.778903\n",
            "Created 00012 at 1657397364.778903\n",
            "Created 00013 at 1657397364.778903\n"
          ]
        },
        {
          "output_type": "stream",
          "name": "stderr",
          "text": [
            "127.0.0.1 - - [09/Jul/2022 20:09:25] \"\u001b[37mGET //sample HTTP/1.1\u001b[0m\" 200 -\n",
            "127.0.0.1 - - [09/Jul/2022 20:09:25] \"\u001b[37mGET //sample/00005 HTTP/1.1\u001b[0m\" 200 -\n"
          ]
        },
        {
          "output_type": "stream",
          "name": "stdout",
          "text": [
            "Created 00014 at 1657397364.778903\n"
          ]
        },
        {
          "output_type": "stream",
          "name": "stderr",
          "text": [
            "127.0.0.1 - - [09/Jul/2022 20:09:26] \"\u001b[37mGET //sample/00006 HTTP/1.1\u001b[0m\" 200 -\n",
            "127.0.0.1 - - [09/Jul/2022 20:09:26] \"\u001b[37mGET //sample/00007 HTTP/1.1\u001b[0m\" 200 -\n",
            "127.0.0.1 - - [09/Jul/2022 20:09:26] \"\u001b[37mGET //sample/00008 HTTP/1.1\u001b[0m\" 200 -\n",
            "127.0.0.1 - - [09/Jul/2022 20:09:27] \"\u001b[37mGET //sample/00009 HTTP/1.1\u001b[0m\" 200 -\n",
            "127.0.0.1 - - [09/Jul/2022 20:09:27] \"\u001b[37mGET //sample/00010 HTTP/1.1\u001b[0m\" 200 -\n",
            "127.0.0.1 - - [09/Jul/2022 20:09:28] \"\u001b[37mGET //sample/00011 HTTP/1.1\u001b[0m\" 200 -\n",
            "127.0.0.1 - - [09/Jul/2022 20:09:28] \"\u001b[37mGET //sample/00012 HTTP/1.1\u001b[0m\" 200 -\n",
            "127.0.0.1 - - [09/Jul/2022 20:09:29] \"\u001b[37mGET //sample/00013 HTTP/1.1\u001b[0m\" 200 -\n",
            "127.0.0.1 - - [09/Jul/2022 20:09:29] \"\u001b[37mGET //sample/00014 HTTP/1.1\u001b[0m\" 200 -\n"
          ]
        },
        {
          "output_type": "stream",
          "name": "stdout",
          "text": [
            "Created 00010 at 1657397371.996573\n",
            "Created 00011 at 1657397371.996573\n",
            "Created 00012 at 1657397371.996573\n",
            "Created 00013 at 1657397371.996573\n"
          ]
        },
        {
          "output_type": "stream",
          "name": "stderr",
          "text": [
            "127.0.0.1 - - [09/Jul/2022 20:09:32] \"\u001b[37mGET //sample HTTP/1.1\u001b[0m\" 200 -\n"
          ]
        },
        {
          "output_type": "stream",
          "name": "stdout",
          "text": [
            "Created 00014 at 1657397371.996573\n"
          ]
        },
        {
          "output_type": "stream",
          "name": "stderr",
          "text": [
            "127.0.0.1 - - [09/Jul/2022 20:09:33] \"\u001b[37mGET //sample/00010 HTTP/1.1\u001b[0m\" 200 -\n"
          ]
        },
        {
          "output_type": "stream",
          "name": "stdout",
          "text": [
            "Created 00010 at 1657397375.602419\n",
            "Created 00011 at 1657397375.602419\n",
            "Created 00012 at 1657397375.602419\n",
            "Created 00013 at 1657397375.602419\n",
            "Created 00014 at 1657397375.602419\n",
            "Created 00010 at 1657397379.201859\n",
            "Created 00011 at 1657397379.201859\n",
            "Created 00012 at 1657397379.201859\n",
            "Created 00013 at 1657397379.201859\n",
            "Created 00014 at 1657397379.201859\n",
            "Created 00010 at 1657397382.784045\n",
            "Created 00011 at 1657397382.784045\n",
            "Created 00012 at 1657397382.784045\n",
            "Created 00013 at 1657397382.784045\n",
            "Created 00014 at 1657397382.784045\n",
            "Created 00010 at 1657397386.362168\n",
            "Created 00011 at 1657397386.362168\n",
            "Created 00012 at 1657397386.362168\n",
            "Created 00013 at 1657397386.362168\n",
            "Created 00014 at 1657397386.362168\n",
            "Created 00010 at 1657397387.59228\n",
            "Created 00011 at 1657397387.59228\n",
            "Created 00012 at 1657397387.59228\n",
            "Created 00013 at 1657397387.59228\n",
            "Created 00014 at 1657397387.59228\n"
          ]
        },
        {
          "output_type": "stream",
          "name": "stderr",
          "text": [
            "127.0.0.1 - - [09/Jul/2022 20:10:22] \"\u001b[37mGET //sample HTTP/1.1\u001b[0m\" 200 -\n",
            "127.0.0.1 - - [09/Jul/2022 20:10:22] \"\u001b[37mGET //sample/00010 HTTP/1.1\u001b[0m\" 200 -\n",
            "127.0.0.1 - - [09/Jul/2022 20:10:22] \"\u001b[37mGET //sample/00011 HTTP/1.1\u001b[0m\" 200 -\n",
            "127.0.0.1 - - [09/Jul/2022 20:10:22] \"\u001b[37mGET //sample/00012 HTTP/1.1\u001b[0m\" 200 -\n",
            "127.0.0.1 - - [09/Jul/2022 20:10:23] \"\u001b[37mGET //sample/00013 HTTP/1.1\u001b[0m\" 200 -\n",
            "127.0.0.1 - - [09/Jul/2022 20:10:23] \"\u001b[37mGET //sample/00014 HTTP/1.1\u001b[0m\" 200 -\n"
          ]
        }
      ]
    }
  ]
}